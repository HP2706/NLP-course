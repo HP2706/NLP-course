{
 "cells": [
  {
   "cell_type": "code",
   "execution_count": null,
   "metadata": {},
   "outputs": [],
   "source": [
    "import pandas as pd\n",
    "import os\n",
    "from datasets import Dataset\n",
    "from transformers import AutoTokenizer\n",
    "\n",
    "current_dir = os.getcwd()\n",
    "print(current_dir)\n",
    "if current_dir.endswith(\"week4\"):\n",
    "    os.chdir(\"../..\")\n",
    "    print(os.getcwd())\n",
    "else:\n",
    "    print(\"current dir\", current_dir)\n"
   ]
  },
  {
   "cell_type": "code",
   "execution_count": null,
   "metadata": {},
   "outputs": [],
   "source": [
    "\n",
    "ds_train = pd.read_parquet(\"dataset/train_df.parquet\")\n",
    "ds_val = pd.read_parquet(\"dataset/val_df.parquet\")\n"
   ]
  },
  {
   "cell_type": "code",
   "execution_count": null,
   "metadata": {},
   "outputs": [],
   "source": [
    "\n",
    "drop_cols = [col for col in ds_train.columns if col not in [\"question\", \"context\", \"answer\"]]\n",
    "\n",
    "train_jsonl = ds_train.drop(columns=drop_cols)\n",
    "train_jsonl.to_json(\"code/week4/data/finetune_data.jsonl\", orient=\"records\", lines=True)\n",
    "#val_jsonl = ds_val.drop(columns=drop_cols)\n",
    "#val_jsonl.to_json(\"code/week4/data/val_data.jsonl\", orient=\"records\", lines=True)"
   ]
  },
  {
   "cell_type": "code",
   "execution_count": null,
   "metadata": {},
   "outputs": [],
   "source": [
    "from typing import Any, List, Optional\n",
    "\n",
    "\n",
    "remove_sentence = \"\"\"Cutting Knowledge Date: December 2023\n",
    "Today Date: 26 Jul 2024\"\"\"\n",
    "\n",
    "def construct_prompt(\n",
    "    tokenizer : AutoTokenizer,\n",
    "    question : str,\n",
    "    context : str,\n",
    "    answer : Optional[str] = None,\n",
    "    tokenize : bool = False\n",
    ") -> str:\n",
    "    \n",
    "    messages = [\n",
    "        {\"role\": \"system\", \"content\": \"Given the users context and question, answer the question.\"},\n",
    "        {\"role\": \"user\", \"content\": f\"Question: {question}\\nContext: {context}\"}\n",
    "    ]\n",
    "    if answer:\n",
    "        messages.append({\"role\": \"assistant\", \"content\": f\"{answer}\"})\n",
    "    prompt = tokenizer.apply_chat_template(messages, tokenize=tokenize, add_generation_prompt=False)\n",
    "    return prompt\n",
    "\n",
    "\n",
    "import re\n",
    "    \n",
    "def prompt_to_segments(\n",
    "    prompt: str,\n",
    ") -> List[dict[str, Any]]:\n",
    "    \"\"\"\n",
    "    Convert a prompt to a list of segments.\n",
    "    \"\"\"\n",
    "    \n",
    "    middle_text = 'assistant<\\|end_header_id\\|>'\n",
    "    end_text = '<\\|eot_id\\|>'\n",
    "    pattern = r'(.*?)assistant<\\|end_header_id\\|>(.*?)<\\|eot_id\\|>'\n",
    "    match = re.search(pattern, prompt, re.DOTALL)\n",
    "    chunks = [\n",
    "        {\"text\": match.group(1), \"label\": \"false\"},\n",
    "        {\"text\": middle_text, \"label\": \"false\"},\n",
    "        {\"text\": match.group(2), \"label\": \"true\"},\n",
    "        {\"text\": end_text, \"label\": \"false\"}\n",
    "    ]\n",
    "\n",
    "    return chunks\n",
    "\n",
    "import json\n",
    "def construct_input_output_from_df(\n",
    "    df: pd.DataFrame,\n",
    "    tokenizer : AutoTokenizer,\n",
    "    write_path : str\n",
    "):\n",
    "    df['prompt_str'] = df.apply(\n",
    "        lambda x: \n",
    "            prompt_to_segments(\n",
    "                construct_prompt(\n",
    "                    tokenizer, x['question'], x['context'], x['answer'], tokenize=False\n",
    "                )\n",
    "            ), axis=1)\n",
    "    \n",
    "    _dict = {'segments': df['prompt_str'].tolist()}\n",
    "    with open(write_path, 'w') as f:\n",
    "        json.dump(_dict, f)\n",
    "    \n",
    "construct_input_output_from_df(ds_train, tokenizer, \"code/week4/data/finetune_data.jsonl\")\n",
    "\n"
   ]
  }
 ],
 "metadata": {
  "kernelspec": {
   "display_name": "ml",
   "language": "python",
   "name": "python3"
  },
  "language_info": {
   "codemirror_mode": {
    "name": "ipython",
    "version": 3
   },
   "file_extension": ".py",
   "mimetype": "text/x-python",
   "name": "python",
   "nbconvert_exporter": "python",
   "pygments_lexer": "ipython3",
   "version": "3.11.9"
  }
 },
 "nbformat": 4,
 "nbformat_minor": 2
}
