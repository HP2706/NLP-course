{
 "cells": [
  {
   "cell_type": "code",
   "execution_count": 1,
   "metadata": {},
   "outputs": [
    {
     "name": "stderr",
     "output_type": "stream",
     "text": [
      "/opt/miniconda3/envs/ml/lib/python3.11/site-packages/tqdm/auto.py:21: TqdmWarning: IProgress not found. Please update jupyter and ipywidgets. See https://ipywidgets.readthedocs.io/en/stable/user_install.html\n",
      "  from .autonotebook import tqdm as notebook_tqdm\n"
     ]
    },
    {
     "name": "stdout",
     "output_type": "stream",
     "text": [
      "/Users/HansPeter/Dev/ku_local/nlp_course/src/nlp_course/code/week5\n",
      "/Users/HansPeter/Dev/ku_local/nlp_course/src/nlp_course\n"
     ]
    }
   ],
   "source": [
    "import pandas as pd\n",
    "import os\n",
    "from datasets import Dataset\n",
    "from transformers import AutoTokenizer\n",
    "import os\n",
    "from utils import construct_prompt\n",
    "\n",
    "current_dir = os.getcwd()\n",
    "print(current_dir)\n",
    "if current_dir.endswith(\"week5\"):\n",
    "    os.chdir(\"../..\")\n",
    "    print(os.getcwd())\n",
    "else:\n",
    "    print(\"current dir\", current_dir)\n"
   ]
  },
  {
   "cell_type": "code",
   "execution_count": 2,
   "metadata": {},
   "outputs": [],
   "source": [
    "\n",
    "ds_train = pd.read_parquet(\"dataset/train_df.parquet\")\n",
    "ds_val = pd.read_parquet(\"dataset/val_df.parquet\")\n",
    "\n",
    "ds_train_inlang = ds_train[ds_train['answer_inlang'].notna()]\n",
    "ds_val_inlang = ds_val[ds_val['answer_inlang'].notna()]\n",
    "ds_train_en = ds_train\n",
    "ds_val_en = ds_val\n"
   ]
  },
  {
   "cell_type": "code",
   "execution_count": 5,
   "metadata": {},
   "outputs": [
    {
     "name": "stderr",
     "output_type": "stream",
     "text": [
      "Creating json from Arrow format: 100%|██████████| 7/7 [00:00<00:00, 126.59ba/s]\n",
      "Creating json from Arrow format: 100%|██████████| 2/2 [00:00<00:00, 159.98ba/s]\n",
      "Creating parquet from Arrow format: 100%|██████████| 7/7 [00:00<00:00, 276.86ba/s]\n",
      "100%|██████████| 1/1 [00:06<00:00,  6.85s/it]\n",
      "Uploading the dataset shards: 100%|██████████| 1/1 [00:07<00:00,  7.27s/it]\n",
      "Creating parquet from Arrow format: 100%|██████████| 2/2 [00:00<00:00, 284.74ba/s]\n",
      "100%|██████████| 1/1 [00:01<00:00,  1.94s/it]\n",
      "Uploading the dataset shards: 100%|██████████| 1/1 [00:02<00:00,  2.32s/it]\n"
     ]
    },
    {
     "data": {
      "text/plain": [
       "CommitInfo(commit_url='https://huggingface.co/datasets/hanspeterlyngsoeraaschoujensen/week41_val_en_input_output/commit/4bbbd0ae097db8946e0ad183b5e09cdde481e3be', commit_message='Upload dataset', commit_description='', oid='4bbbd0ae097db8946e0ad183b5e09cdde481e3be', pr_url=None, pr_revision=None, pr_num=None)"
      ]
     },
     "execution_count": 5,
     "metadata": {},
     "output_type": "execute_result"
    }
   ],
   "source": [
    "from typing import Any, List, Optional\n",
    "import json\n",
    "\n",
    "\n",
    "import re\n",
    "from datasets import Dataset    \n",
    "\n",
    "def prompt_to_segments(\n",
    "    prompt: str,\n",
    "    tokenizer : AutoTokenizer,\n",
    ") -> List[dict[str, Any]]:\n",
    "    \"\"\"\n",
    "    Convert a prompt to a list of segments.\n",
    "    \"\"\"\n",
    "    middle_text = 'assistant<\\|end_header_id\\|>'\n",
    "    end_text = tokenizer.eos_token\n",
    "    pattern = r'(.*?)assistant<\\|end_header_id\\|>(.*?)<\\|eot_id\\|>'\n",
    "    match = re.search(pattern, prompt, re.DOTALL)\n",
    "    chunks = [\n",
    "        {\"text\": match.group(1), \"label\": \"false\"},\n",
    "        {\"text\": middle_text, \"label\": \"false\"},\n",
    "        {\"text\": match.group(2), \"label\": \"true\"},\n",
    "        {\"text\": end_text, \"label\": \"false\"}\n",
    "    ]\n",
    "    return chunks\n",
    "\n",
    "def construct_input_output_from_df(\n",
    "    df: pd.DataFrame,\n",
    "    tokenizer : AutoTokenizer,\n",
    "    answer_key : str = \"answer_inlang\",\n",
    "):\n",
    "    segments = df.apply(\n",
    "        lambda x: \n",
    "            prompt_to_segments(\n",
    "                construct_prompt(\n",
    "                    tokenizer, x['question'], x['context'], x[answer_key], tokenize=False\n",
    "                ),\n",
    "                tokenizer\n",
    "            ), axis=1\n",
    "        )\n",
    "\n",
    "    data_dict = {'segments' : segments.tolist()}\n",
    "    dataset = Dataset.from_pandas(pd.DataFrame.from_dict(data_dict))\n",
    "    return dataset\n",
    "\n",
    "tokenizer = AutoTokenizer.from_pretrained(\"meta-llama/Meta-Llama-3.1-8B-Instruct\")\n",
    "\n",
    "train_jsonl = construct_input_output_from_df(\n",
    "    ds_train_en, \n",
    "    tokenizer,\n",
    "    \"answer\"\n",
    ")\n",
    "\n",
    "val_jsonl = construct_input_output_from_df(\n",
    "    ds_val_en, \n",
    "    tokenizer,\n",
    "    \"answer\"\n",
    ")\n",
    "\n",
    "\n",
    "train_jsonl.to_json(\n",
    "    \"code/week5/data/train_en_input_output.jsonl\", \n",
    "    orient=\"records\", \n",
    "    lines=True\n",
    ")\n",
    "\n",
    "val_jsonl.to_json(\n",
    "    \"code/week5/data/val_en_input_output.jsonl\", \n",
    "    orient=\"records\", \n",
    "    lines=True\n",
    ")\n",
    "\n",
    "train_jsonl.push_to_hub(\"hanspeterlyngsoeraaschoujensen/week41_train_en_input_output\")\n",
    "val_jsonl.push_to_hub(\"hanspeterlyngsoeraaschoujensen/week41_val_en_input_output\")\n",
    "\n"
   ]
  },
  {
   "cell_type": "code",
   "execution_count": 7,
   "metadata": {},
   "outputs": [
    {
     "data": {
      "text/plain": [
       "1380"
      ]
     },
     "execution_count": 7,
     "metadata": {},
     "output_type": "execute_result"
    }
   ],
   "source": [
    "#len(train_jsonl)\n",
    "len(val_jsonl)"
   ]
  },
  {
   "cell_type": "code",
   "execution_count": null,
   "metadata": {},
   "outputs": [],
   "source": [
    "prompts = [construct_prompt(tokenizer, ds_val_inlang.iloc[i]['question'], ds_val_inlang.iloc[i]['context'], ds_val_inlang.iloc[i]['answer_inlang']) for i in range(len(ds_val_inlang))]\n",
    "for prompt in prompts:\n",
    "    print(prompt)\n",
    "    print(\"\\n\\n\")\n",
    "    break"
   ]
  }
 ],
 "metadata": {
  "kernelspec": {
   "display_name": "ml",
   "language": "python",
   "name": "python3"
  },
  "language_info": {
   "codemirror_mode": {
    "name": "ipython",
    "version": 3
   },
   "file_extension": ".py",
   "mimetype": "text/x-python",
   "name": "python",
   "nbconvert_exporter": "python",
   "pygments_lexer": "ipython3",
   "version": "3.11.9"
  }
 },
 "nbformat": 4,
 "nbformat_minor": 2
}
