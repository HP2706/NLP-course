{
 "cells": [
  {
   "cell_type": "code",
   "execution_count": 2,
   "metadata": {},
   "outputs": [
    {
     "name": "stderr",
     "output_type": "stream",
     "text": [
      "/opt/miniconda3/envs/ml/lib/python3.11/site-packages/tqdm/auto.py:21: TqdmWarning: IProgress not found. Please update jupyter and ipywidgets. See https://ipywidgets.readthedocs.io/en/stable/user_install.html\n",
      "  from .autonotebook import tqdm as notebook_tqdm\n"
     ]
    },
    {
     "name": "stdout",
     "output_type": "stream",
     "text": [
      "/Users/HansPeter/Dev/ku_local/nlp_course/src/nlp_course/code/week5\n",
      "/Users/HansPeter/Dev/ku_local/nlp_course/src/nlp_course\n"
     ]
    }
   ],
   "source": [
    "import pandas as pd\n",
    "import os\n",
    "from datasets import Dataset\n",
    "from transformers import AutoTokenizer\n",
    "\n",
    "current_dir = os.getcwd()\n",
    "print(current_dir)\n",
    "if current_dir.endswith(\"week5\"):\n",
    "    os.chdir(\"../..\")\n",
    "    print(os.getcwd())\n",
    "else:\n",
    "    print(\"current dir\", current_dir)\n"
   ]
  },
  {
   "cell_type": "code",
   "execution_count": 3,
   "metadata": {},
   "outputs": [],
   "source": [
    "\n",
    "ds_train = pd.read_parquet(\"dataset/train_df.parquet\")\n",
    "ds_val = pd.read_parquet(\"dataset/val_df.parquet\")\n",
    "\n",
    "ds_train_inlang = ds_train[ds_train['answer_inlang'].notna()]\n",
    "ds_val_inlang = ds_val[ds_val['answer_inlang'].notna()]\n",
    "ds_train_en = ds_train\n",
    "ds_val_en = ds_val"
   ]
  },
  {
   "cell_type": "code",
   "execution_count": 8,
   "metadata": {},
   "outputs": [
    {
     "name": "stderr",
     "output_type": "stream",
     "text": [
      "/var/folders/mw/rr00tj6s1tz9vtmb2mgqnfbc0000gn/T/ipykernel_39084/707296779.py:2: SettingWithCopyWarning: \n",
      "A value is trying to be set on a copy of a slice from a DataFrame\n",
      "\n",
      "See the caveats in the documentation: https://pandas.pydata.org/pandas-docs/stable/user_guide/indexing.html#returning-a-view-versus-a-copy\n",
      "  ds_train_inlang.drop(columns=[col for col in ds_train_inlang.columns if col not in [\"question\", \"context\", \"answer_inlang\"]], inplace=True)\n",
      "/var/folders/mw/rr00tj6s1tz9vtmb2mgqnfbc0000gn/T/ipykernel_39084/707296779.py:3: SettingWithCopyWarning: \n",
      "A value is trying to be set on a copy of a slice from a DataFrame\n",
      "\n",
      "See the caveats in the documentation: https://pandas.pydata.org/pandas-docs/stable/user_guide/indexing.html#returning-a-view-versus-a-copy\n",
      "  ds_val_inlang.drop(columns=[col for col in ds_val_inlang.columns if col not in [\"question\", \"context\", \"answer_inlang\"]], inplace=True)\n"
     ]
    }
   ],
   "source": [
    "#basic dataset\n",
    "ds_train_inlang.drop(columns=[col for col in ds_train_inlang.columns if col not in [\"question\", \"context\", \"answer_inlang\"]], inplace=True)\n",
    "ds_val_inlang.drop(columns=[col for col in ds_val_inlang.columns if col not in [\"question\", \"context\", \"answer_inlang\"]], inplace=True)\n",
    "ds_train_en.drop(columns=[col for col in ds_train_en.columns if col not in [\"question\", \"context\", \"answer\"]], inplace=True)\n",
    "ds_val_en.drop(columns=[col for col in ds_val_en.columns if col not in [\"question\", \"context\", \"answer\"]], inplace=True)\n",
    "\n",
    "\n",
    "\n",
    "ds_train_inlang.to_json(\"code/week5/data/finetune_base_inlang.jsonl\", orient=\"records\", lines=True)\n",
    "ds_val_inlang.to_json(\"code/week5/data/finetune_base_inlang_val.jsonl\", orient=\"records\", lines=True)\n",
    "ds_train_en.to_json(\"code/week5/data/finetune_base_en.jsonl\", orient=\"records\", lines=True)\n",
    "ds_val_en.to_json(\"code/week5/data/finetune_base_en_val.jsonl\", orient=\"records\", lines=True)\n",
    "\n"
   ]
  },
  {
   "cell_type": "code",
   "execution_count": 4,
   "metadata": {},
   "outputs": [
    {
     "name": "stderr",
     "output_type": "stream",
     "text": [
      "/var/folders/mw/rr00tj6s1tz9vtmb2mgqnfbc0000gn/T/ipykernel_39084/1200584575.py:96: SettingWithCopyWarning: \n",
      "A value is trying to be set on a copy of a slice from a DataFrame.\n",
      "Try using .loc[row_indexer,col_indexer] = value instead\n",
      "\n",
      "See the caveats in the documentation: https://pandas.pydata.org/pandas-docs/stable/user_guide/indexing.html#returning-a-view-versus-a-copy\n",
      "  df['instruction'] = df.apply(\n",
      "/var/folders/mw/rr00tj6s1tz9vtmb2mgqnfbc0000gn/T/ipykernel_39084/1200584575.py:99: SettingWithCopyWarning: \n",
      "A value is trying to be set on a copy of a slice from a DataFrame.\n",
      "Try using .loc[row_indexer,col_indexer] = value instead\n",
      "\n",
      "See the caveats in the documentation: https://pandas.pydata.org/pandas-docs/stable/user_guide/indexing.html#returning-a-view-versus-a-copy\n",
      "  df['input'] = df.apply(\n",
      "/var/folders/mw/rr00tj6s1tz9vtmb2mgqnfbc0000gn/T/ipykernel_39084/1200584575.py:102: SettingWithCopyWarning: \n",
      "A value is trying to be set on a copy of a slice from a DataFrame.\n",
      "Try using .loc[row_indexer,col_indexer] = value instead\n",
      "\n",
      "See the caveats in the documentation: https://pandas.pydata.org/pandas-docs/stable/user_guide/indexing.html#returning-a-view-versus-a-copy\n",
      "  df['output'] = df[answer_key]\n",
      "/var/folders/mw/rr00tj6s1tz9vtmb2mgqnfbc0000gn/T/ipykernel_39084/1200584575.py:96: SettingWithCopyWarning: \n",
      "A value is trying to be set on a copy of a slice from a DataFrame.\n",
      "Try using .loc[row_indexer,col_indexer] = value instead\n",
      "\n",
      "See the caveats in the documentation: https://pandas.pydata.org/pandas-docs/stable/user_guide/indexing.html#returning-a-view-versus-a-copy\n",
      "  df['instruction'] = df.apply(\n",
      "/var/folders/mw/rr00tj6s1tz9vtmb2mgqnfbc0000gn/T/ipykernel_39084/1200584575.py:99: SettingWithCopyWarning: \n",
      "A value is trying to be set on a copy of a slice from a DataFrame.\n",
      "Try using .loc[row_indexer,col_indexer] = value instead\n",
      "\n",
      "See the caveats in the documentation: https://pandas.pydata.org/pandas-docs/stable/user_guide/indexing.html#returning-a-view-versus-a-copy\n",
      "  df['input'] = df.apply(\n",
      "/var/folders/mw/rr00tj6s1tz9vtmb2mgqnfbc0000gn/T/ipykernel_39084/1200584575.py:102: SettingWithCopyWarning: \n",
      "A value is trying to be set on a copy of a slice from a DataFrame.\n",
      "Try using .loc[row_indexer,col_indexer] = value instead\n",
      "\n",
      "See the caveats in the documentation: https://pandas.pydata.org/pandas-docs/stable/user_guide/indexing.html#returning-a-view-versus-a-copy\n",
      "  df['output'] = df[answer_key]\n"
     ]
    }
   ],
   "source": [
    "from typing import Any, List, Optional\n",
    "import json\n",
    "\n",
    "remove_sentence = \"\"\"Cutting Knowledge Date: December 2023\n",
    "Today Date: 26 Jul 2024\"\"\"\n",
    "\n",
    "\n",
    "SYSTEM_MESSAGE = \"\"\"Given the users context(in english) and question(in either finnish, russian or japanese), answer the question(which is a substring of the context) in the same language as the question(either finnish, russian or japanese).\"\"\"\n",
    "\n",
    "def construct_prompt(\n",
    "    tokenizer : AutoTokenizer,\n",
    "    question : str,\n",
    "    context : str,\n",
    "    answer : Optional[str] = None,\n",
    "    tokenize : bool = False\n",
    ") -> str:\n",
    "    \n",
    "    messages = [\n",
    "        {\"role\": \"system\", \"content\": f\"{SYSTEM_MESSAGE}\"},\n",
    "        {\"role\": \"user\", \"content\": f\"Question: {question}\\nContext: {context}\"},\n",
    "    ]\n",
    "    if answer:\n",
    "        messages.append({\"role\": \"assistant\", \"content\": f\"{answer}\"})\n",
    "    prompt = tokenizer.apply_chat_template(messages, tokenize=tokenize, add_generation_prompt=False, format=\"chatml\")\n",
    "    return prompt\n",
    "\n",
    "\n",
    "import re\n",
    "from datasets import Dataset    \n",
    "\n",
    "def prompt_to_segments(\n",
    "    prompt: str,\n",
    ") -> List[dict[str, Any]]:\n",
    "    \"\"\"\n",
    "    Convert a prompt to a list of segments.\n",
    "    \"\"\"\n",
    "    \n",
    "    middle_text = 'assistant<\\|end_header_id\\|>'\n",
    "    end_text = '<\\|eot_id\\|>'\n",
    "    pattern = r'(.*?)assistant<\\|end_header_id\\|>(.*?)<\\|eot_id\\|>'\n",
    "    match = re.search(pattern, prompt, re.DOTALL)\n",
    "    chunks = [\n",
    "        {\"text\": match.group(1), \"label\": \"false\"},\n",
    "        {\"text\": middle_text, \"label\": \"false\"},\n",
    "        {\"text\": match.group(2), \"label\": \"true\"},\n",
    "        {\"text\": end_text, \"label\": \"false\"}\n",
    "    ]\n",
    "    return chunks\n",
    "\n",
    "def construct_input_output_from_df(\n",
    "    df: pd.DataFrame,\n",
    "    tokenizer : AutoTokenizer,\n",
    "    write_path : str,\n",
    "    answer_key : str = \"answer_inlang\",\n",
    "):\n",
    "    df['prompt_str'] = df.apply(\n",
    "        lambda x: \n",
    "            construct_prompt(\n",
    "                tokenizer, x['question'], x['context'], x[answer_key], tokenize=True\n",
    "            ), axis=1\n",
    "        )\n",
    "    \n",
    "    with open(write_path, 'w') as f:\n",
    "        for _, row in df.iterrows():\n",
    "            chatml_format = {\n",
    "                \"input\": row['prompt_str'],\n",
    "                \"output\": row[answer_key]\n",
    "            }\n",
    "            f.write(json.dumps(chatml_format) + '\\n')    \n",
    "    \n",
    "tokenizer = AutoTokenizer.from_pretrained(\"meta-llama/Meta-Llama-3.1-8B-Instruct\")\n",
    "\n",
    "def create_chatml_dataset(\n",
    "    df : pd.DataFrame,\n",
    "    answer_key : str = \"answer_inlang\",\n",
    "):\n",
    "    \n",
    "    df['system_message'] = SYSTEM_MESSAGE\n",
    "    df['conversation'] = df.apply(\n",
    "        lambda x: [\n",
    "            {\"from\": \"system\", \"content\": f\"{SYSTEM_MESSAGE}\"},\n",
    "            {\"from\": \"user\", \"content\": f\"Question: {x['question']}\\nContext: {x['context']}\"},\n",
    "            {\"from\": \"assistant\", \"content\": f\"{x[answer_key]}\"}\n",
    "        ], axis=1\n",
    "    )\n",
    "\n",
    "    df = df.drop(columns=[col for col in df.columns if col not in [\"system_message\", \"conversation\"]])\n",
    "    dataset = Dataset.from_pandas(df)\n",
    "    return dataset\n",
    "\n",
    "def create_alpaca_dataset(\n",
    "    df: pd.DataFrame,\n",
    "    answer_key: str = \"answer_inlang\",\n",
    "):\n",
    "    df['instruction'] = df.apply(\n",
    "        lambda x: f\"{SYSTEM_MESSAGE}\", axis=1\n",
    "    )\n",
    "    df['input'] = df.apply(\n",
    "        lambda x: f\"Question: {x['question']}\\nContext: {x['context']}\", axis=1\n",
    "    )\n",
    "    df['output'] = df[answer_key]\n",
    "    dataset = Dataset.from_pandas(df)\n",
    "    return dataset\n",
    "    \n",
    "    \n",
    "\n",
    "ds_train_chatml = create_alpaca_dataset(ds_train_inlang, answer_key=\"answer_inlang\")\n",
    "ds_val_chatml = create_alpaca_dataset(ds_val_inlang, answer_key=\"answer_inlang\")\n",
    "ds_train_chatml_en = create_alpaca_dataset(ds_train_en, answer_key=\"answer\")\n",
    "ds_val_chatml_en = create_alpaca_dataset(ds_val_en, answer_key=\"answer\")\n"
   ]
  },
  {
   "cell_type": "code",
   "execution_count": 5,
   "metadata": {},
   "outputs": [
    {
     "data": {
      "text/plain": [
       "'/Users/HansPeter/Dev/ku_local/nlp_course/src/nlp_course'"
      ]
     },
     "execution_count": 5,
     "metadata": {},
     "output_type": "execute_result"
    }
   ],
   "source": [
    "os.getcwd()\n"
   ]
  },
  {
   "cell_type": "code",
   "execution_count": 6,
   "metadata": {},
   "outputs": [
    {
     "name": "stderr",
     "output_type": "stream",
     "text": [
      "Creating json from Arrow format: 100%|██████████| 1/1 [00:00<00:00, 10.20ba/s]\n",
      "Creating json from Arrow format: 100%|██████████| 7/7 [00:02<00:00,  2.36ba/s]\n",
      "Creating json from Arrow format: 100%|██████████| 1/1 [00:00<00:00,  5.73ba/s]\n",
      "Creating json from Arrow format: 100%|██████████| 2/2 [00:00<00:00,  3.10ba/s]\n"
     ]
    },
    {
     "data": {
      "text/plain": [
       "95670836"
      ]
     },
     "execution_count": 6,
     "metadata": {},
     "output_type": "execute_result"
    }
   ],
   "source": [
    "\n",
    "ds_train_chatml.to_json(\"code/week5/data/finetune_alpaca_inlang.jsonl\", orient=\"records\", lines=True)\n",
    "ds_train_chatml_en.to_json(\"code/week5/data/finetune_alpaca_en.jsonl\", orient=\"records\", lines=True)\n",
    "ds_val_chatml.to_json(\"code/week5/data/finetune_alpaca_inlang_val.jsonl\", orient=\"records\", lines=True)\n",
    "ds_val_chatml_en.to_json(\"code/week5/data/finetune_alpaca_en_val.jsonl\", orient=\"records\", lines=True)\n"
   ]
  }
 ],
 "metadata": {
  "kernelspec": {
   "display_name": "ml",
   "language": "python",
   "name": "python3"
  },
  "language_info": {
   "codemirror_mode": {
    "name": "ipython",
    "version": 3
   },
   "file_extension": ".py",
   "mimetype": "text/x-python",
   "name": "python",
   "nbconvert_exporter": "python",
   "pygments_lexer": "ipython3",
   "version": "3.11.9"
  }
 },
 "nbformat": 4,
 "nbformat_minor": 2
}
