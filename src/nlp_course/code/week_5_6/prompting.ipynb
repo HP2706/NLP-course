{
 "cells": [
  {
   "cell_type": "code",
   "execution_count": 2,
   "metadata": {},
   "outputs": [],
   "source": [
    "#datasets = load_dataset(\"squad_v2\" if squad_v2 else \"squad\")\n",
    "import pandas as pd\n",
    "from tqdm.auto import tqdm\n",
    "import plotly.express as px\n",
    "from plotly.subplots import make_subplots\n",
    "import os\n",
    "import nest_asyncio\n",
    "import dspy\n",
    "\n",
    "from dspy.evaluate import Evaluate\n",
    "from dspy.teleprompt import BootstrapFewShot, BootstrapFewShotWithRandomSearch\n",
    "import numpy as np\n",
    "from utils import f1_score\n",
    "nest_asyncio.apply()\n",
    "\n",
    "current_dir = os.getcwd()\n",
    "while not current_dir.endswith(\"nlp_course\"):\n",
    "    os.chdir(\"..\")\n",
    "    current_dir = os.getcwd()\n",
    "\n",
    "ds_train = pd.read_parquet(\"dataset/train_df.parquet\")\n",
    "ds_val = pd.read_parquet(\"dataset/val_df.parquet\")"
   ]
  },
  {
   "cell_type": "code",
   "execution_count": 3,
   "metadata": {},
   "outputs": [],
   "source": [
    "\n",
    "\n",
    "#same datasets size for inlang and en\n",
    "eng_orig = ds_train[:150]\n",
    "en_idx = int(len(eng_orig)*0.8)\n",
    "en_train_df = eng_orig[:en_idx]\n",
    "en_val_df = eng_orig[en_idx:]\n",
    "en_test_df = ds_val[:300]\n",
    "\n",
    "inlang_orig  = ds_train[~ds_train['answer_inlang'].isna()]\n",
    "idx = int(len(inlang_orig)*0.8)\n",
    "\n",
    "inlang_train_df = inlang_orig[:idx]\n",
    "inlang_val_df = inlang_orig[idx:]\n",
    "inlang_test_df = ds_val[~ds_val['answer_inlang'].isna()]\n",
    "\n",
    "inlang_train = [dspy.Example(question=question, context=context, answer=answer).with_inputs('question', 'context') for question, context, answer in zip(inlang_train_df['question'], inlang_train_df['context'], inlang_train_df['answer_inlang'])]\n",
    "inlang_val = [dspy.Example(question=question, context=context, answer=answer).with_inputs('question', 'context') for question, context, answer in zip(inlang_val_df['question'], inlang_val_df['context'], inlang_val_df['answer_inlang'])]\n",
    "inlang_test = [dspy.Example(question=question, context=context, answer=answer).with_inputs('question', 'context') for question, context, answer in zip(inlang_test_df['question'], inlang_test_df['context'], inlang_test_df['answer_inlang'])]\n",
    "\n",
    "en_train = [dspy.Example(question=question, context=context, answer=answer).with_inputs('question', 'context') for question, context, answer in zip(en_train_df['question'], en_train_df['context'], en_train_df['answer'])]\n",
    "en_val = [dspy.Example(question=question, context=context, answer=answer).with_inputs('question', 'context') for question, context, answer in zip(en_val_df['question'], en_val_df['context'], en_val_df['answer'])]\n",
    "en_test = [dspy.Example(question=question, context=context, answer=answer).with_inputs('question', 'context') for question, context, answer in zip(en_test_df['question'], en_test_df['context'], en_test_df['answer'])]\n"
   ]
  },
  {
   "cell_type": "code",
   "execution_count": 5,
   "metadata": {},
   "outputs": [
    {
     "name": "stdout",
     "output_type": "stream",
     "text": [
      "7SZy6719Es1HdhKPoRq7M3t2eRDHtElrt5yV7chGb0DJsjb0\n"
     ]
    }
   ],
   "source": [
    "import os\n",
    "\n",
    "key = '7SZy6719Es1HdhKPoRq7M3t2eRDHtElrt5yV7chGb0DJsjb0'\n",
    "os.environ[\"FIREWORKS_AI_API_KEY\"] = key\n",
    "print(os.getenv(\"FIREWORKS_AI_API_KEY\"))\n"
   ]
  },
  {
   "cell_type": "code",
   "execution_count": 10,
   "metadata": {},
   "outputs": [],
   "source": [
    "\n",
    "fireworks_llama3_1_8b_instruct = dspy.LM(\"fireworks_ai/accounts/fireworks/models/llama-v3p1-8b-instruct\")\n",
    "dspy.settings.configure(lm=fireworks_llama3_1_8b_instruct)\n",
    "\n",
    "from collections import Counter\n",
    "from utils import normalize_text\n",
    "\n",
    "def f1_score(prediction, ground_truth):\n",
    "    prediction_tokens = normalize_text(prediction).split()\n",
    "    ground_truth_tokens = normalize_text(ground_truth).split()\n",
    "\n",
    "    common = Counter(prediction_tokens) & Counter(ground_truth_tokens)\n",
    "    num_same = sum(common.values())\n",
    "\n",
    "    if len(prediction_tokens) == len(ground_truth_tokens) == 0:\n",
    "        # Unlike most tasks, QReCC and SQuAD-2.0 assign 1.0 in this edge case. We don't for uniformity.\n",
    "        print(\n",
    "            \"\\n#> F1 Metric: Rare edge case of len(prediction_tokens) == len(ground_truth_tokens) == 0.\\n\")\n",
    "\n",
    "    if num_same == 0:\n",
    "        return 0\n",
    "\n",
    "    precision = 1.0 * num_same / len(prediction_tokens)\n",
    "    recall = 1.0 * num_same / len(ground_truth_tokens)\n",
    "    f1 = (2 * precision * recall) / (precision + recall)\n",
    "\n",
    "    return f1\n",
    "\n",
    "def answer_f1_score(example, pred, trace=None, frac=1.0):\n",
    "    assert(type(example.answer) is str )\n",
    "    \n",
    "    f1 = f1_score(pred.answer, example.answer)\n",
    "    return f1\n",
    "\n",
    "metric_EM = dspy.evaluate.answer_exact_match\n",
    "metric_F1 = answer_f1_score\n",
    "\n",
    "#TODO: add F1 metric\n",
    "\n",
    "class CoT(dspy.Module):  # let's define a new module\n",
    "    def __init__(self):\n",
    "        super().__init__()\n",
    "\n",
    "        # here we declare the chain of thought sub-module, so we can later compile it (e.g., teach it a prompt)\n",
    "        self.generate_answer = dspy.ChainOfThought('question, context -> answer')\n",
    "    \n",
    "    def forward(self, question, context):\n",
    "        return self.generate_answer(question=question, context=context)\n",
    "    "
   ]
  },
  {
   "cell_type": "code",
   "execution_count": 11,
   "metadata": {},
   "outputs": [
    {
     "name": "stderr",
     "output_type": "stream",
     "text": [
      "Compiling models:   0%|          | 0/4 [00:00<?, ?it/s]"
     ]
    },
    {
     "name": "stdout",
     "output_type": "stream",
     "text": [
      "Going to sample between 1 and 1 traces per predictor.\n",
      "Will attempt to bootstrap 16 candidate sets.\n"
     ]
    },
    {
     "name": "stderr",
     "output_type": "stream",
     "text": [
      "Average Metric: 2.8904761904761904 / 30  (9.6): 100%|██████████| 30/30 [00:05<00:00,  5.75it/s] \n"
     ]
    },
    {
     "name": "stdout",
     "output_type": "stream",
     "text": [
      "New best score: 9.63 for seed -3\n",
      "Scores so far: [9.63]\n",
      "Best score so far: 9.63\n"
     ]
    },
    {
     "name": "stderr",
     "output_type": "stream",
     "text": [
      "Average Metric: 6.071428571428571 / 30  (20.2): 100%|██████████| 30/30 [00:04<00:00,  6.89it/s] \n"
     ]
    },
    {
     "name": "stdout",
     "output_type": "stream",
     "text": [
      "New best score: 20.24 for seed -2\n",
      "Scores so far: [9.63, 20.24]\n",
      "Best score so far: 20.24\n"
     ]
    },
    {
     "name": "stderr",
     "output_type": "stream",
     "text": [
      "  6%|▌         | 7/120 [00:05<01:27,  1.29it/s]\n"
     ]
    },
    {
     "name": "stdout",
     "output_type": "stream",
     "text": [
      "Bootstrapped 1 full traces after 8 examples in round 0.\n"
     ]
    },
    {
     "name": "stderr",
     "output_type": "stream",
     "text": [
      "Average Metric: 2.4357142857142855 / 30  (8.1): 100%|██████████| 30/30 [00:04<00:00,  6.85it/s] \n"
     ]
    },
    {
     "name": "stdout",
     "output_type": "stream",
     "text": [
      "Scores so far: [9.63, 20.24, 8.12]\n",
      "Best score so far: 20.24\n"
     ]
    },
    {
     "name": "stderr",
     "output_type": "stream",
     "text": [
      "  1%|          | 1/120 [00:00<01:36,  1.24it/s]\n"
     ]
    },
    {
     "name": "stdout",
     "output_type": "stream",
     "text": [
      "Bootstrapped 1 full traces after 2 examples in round 0.\n"
     ]
    },
    {
     "name": "stderr",
     "output_type": "stream",
     "text": [
      "Average Metric: 4.083333333333333 / 30  (13.6): 100%|██████████| 30/30 [00:04<00:00,  7.13it/s] \n"
     ]
    },
    {
     "name": "stdout",
     "output_type": "stream",
     "text": [
      "Scores so far: [9.63, 20.24, 8.12, 13.61]\n",
      "Best score so far: 20.24\n"
     ]
    },
    {
     "name": "stderr",
     "output_type": "stream",
     "text": [
      "  1%|          | 1/120 [00:00<01:26,  1.38it/s]\n"
     ]
    },
    {
     "name": "stdout",
     "output_type": "stream",
     "text": [
      "Bootstrapped 1 full traces after 2 examples in round 0.\n"
     ]
    },
    {
     "name": "stderr",
     "output_type": "stream",
     "text": [
      "Average Metric: 8.720028011204482 / 30  (29.1): 100%|██████████| 30/30 [00:04<00:00,  7.11it/s] \n"
     ]
    },
    {
     "name": "stdout",
     "output_type": "stream",
     "text": [
      "New best score: 29.07 for seed 1\n",
      "Scores so far: [9.63, 20.24, 8.12, 13.61, 29.07]\n",
      "Best score so far: 29.07\n"
     ]
    },
    {
     "name": "stderr",
     "output_type": "stream",
     "text": [
      "  2%|▎         | 3/120 [00:02<01:26,  1.35it/s]\n"
     ]
    },
    {
     "name": "stdout",
     "output_type": "stream",
     "text": [
      "Bootstrapped 1 full traces after 4 examples in round 0.\n"
     ]
    },
    {
     "name": "stderr",
     "output_type": "stream",
     "text": [
      "Average Metric: 6.704761904761904 / 30  (22.3): 100%|██████████| 30/30 [00:04<00:00,  7.30it/s] \n"
     ]
    },
    {
     "name": "stdout",
     "output_type": "stream",
     "text": [
      "Scores so far: [9.63, 20.24, 8.12, 13.61, 29.07, 22.35]\n",
      "Best score so far: 29.07\n"
     ]
    },
    {
     "name": "stderr",
     "output_type": "stream",
     "text": [
      "  1%|          | 1/120 [00:00<01:29,  1.34it/s]\n"
     ]
    },
    {
     "name": "stdout",
     "output_type": "stream",
     "text": [
      "Bootstrapped 1 full traces after 2 examples in round 0.\n"
     ]
    },
    {
     "name": "stderr",
     "output_type": "stream",
     "text": [
      "Average Metric: 4.383333333333333 / 30  (14.6): 100%|██████████| 30/30 [00:04<00:00,  7.38it/s] \n"
     ]
    },
    {
     "name": "stdout",
     "output_type": "stream",
     "text": [
      "Scores so far: [9.63, 20.24, 8.12, 13.61, 29.07, 22.35, 14.61]\n",
      "Best score so far: 29.07\n"
     ]
    },
    {
     "name": "stderr",
     "output_type": "stream",
     "text": [
      "  1%|          | 1/120 [00:00<01:34,  1.26it/s]\n"
     ]
    },
    {
     "name": "stdout",
     "output_type": "stream",
     "text": [
      "Bootstrapped 1 full traces after 2 examples in round 0.\n"
     ]
    },
    {
     "name": "stderr",
     "output_type": "stream",
     "text": [
      "Average Metric: 5.452380952380952 / 30  (18.2): 100%|██████████| 30/30 [00:04<00:00,  7.34it/s] \n"
     ]
    },
    {
     "name": "stdout",
     "output_type": "stream",
     "text": [
      "Scores so far: [9.63, 20.24, 8.12, 13.61, 29.07, 22.35, 14.61, 18.17]\n",
      "Best score so far: 29.07\n"
     ]
    },
    {
     "name": "stderr",
     "output_type": "stream",
     "text": [
      "  3%|▎         | 4/120 [00:03<01:32,  1.25it/s]\n"
     ]
    },
    {
     "name": "stdout",
     "output_type": "stream",
     "text": [
      "Bootstrapped 1 full traces after 5 examples in round 0.\n"
     ]
    },
    {
     "name": "stderr",
     "output_type": "stream",
     "text": [
      "Average Metric: 7.4523809523809526 / 30  (24.8): 100%|██████████| 30/30 [00:04<00:00,  6.69it/s]\n"
     ]
    },
    {
     "name": "stdout",
     "output_type": "stream",
     "text": [
      "Scores so far: [9.63, 20.24, 8.12, 13.61, 29.07, 22.35, 14.61, 18.17, 24.84]\n",
      "Best score so far: 29.07\n"
     ]
    },
    {
     "name": "stderr",
     "output_type": "stream",
     "text": [
      "  6%|▌         | 7/120 [00:06<01:43,  1.09it/s]\n"
     ]
    },
    {
     "name": "stdout",
     "output_type": "stream",
     "text": [
      "Bootstrapped 1 full traces after 8 examples in round 0.\n"
     ]
    },
    {
     "name": "stderr",
     "output_type": "stream",
     "text": [
      "Average Metric: 6.669047619047619 / 30  (22.2): 100%|██████████| 30/30 [00:04<00:00,  6.32it/s]\n"
     ]
    },
    {
     "name": "stdout",
     "output_type": "stream",
     "text": [
      "Scores so far: [9.63, 20.24, 8.12, 13.61, 29.07, 22.35, 14.61, 18.17, 24.84, 22.23]\n",
      "Best score so far: 29.07\n"
     ]
    },
    {
     "name": "stderr",
     "output_type": "stream",
     "text": [
      "  2%|▏         | 2/120 [00:01<01:33,  1.26it/s]\n"
     ]
    },
    {
     "name": "stdout",
     "output_type": "stream",
     "text": [
      "Bootstrapped 1 full traces after 3 examples in round 0.\n"
     ]
    },
    {
     "name": "stderr",
     "output_type": "stream",
     "text": [
      "Average Metric: 3.904761904761904 / 30  (13.0): 100%|██████████| 30/30 [00:04<00:00,  6.85it/s] \n"
     ]
    },
    {
     "name": "stdout",
     "output_type": "stream",
     "text": [
      "Scores so far: [9.63, 20.24, 8.12, 13.61, 29.07, 22.35, 14.61, 18.17, 24.84, 22.23, 13.02]\n",
      "Best score so far: 29.07\n"
     ]
    },
    {
     "name": "stderr",
     "output_type": "stream",
     "text": [
      "  1%|          | 1/120 [00:00<01:23,  1.42it/s]\n"
     ]
    },
    {
     "name": "stdout",
     "output_type": "stream",
     "text": [
      "Bootstrapped 1 full traces after 2 examples in round 0.\n"
     ]
    },
    {
     "name": "stderr",
     "output_type": "stream",
     "text": [
      "Average Metric: 5.702380952380952 / 30  (19.0): 100%|██████████| 30/30 [00:03<00:00,  7.60it/s] \n"
     ]
    },
    {
     "name": "stdout",
     "output_type": "stream",
     "text": [
      "Scores so far: [9.63, 20.24, 8.12, 13.61, 29.07, 22.35, 14.61, 18.17, 24.84, 22.23, 13.02, 19.01]\n",
      "Best score so far: 29.07\n"
     ]
    },
    {
     "name": "stderr",
     "output_type": "stream",
     "text": [
      "  3%|▎         | 4/120 [00:03<01:33,  1.24it/s]\n"
     ]
    },
    {
     "name": "stdout",
     "output_type": "stream",
     "text": [
      "Bootstrapped 1 full traces after 5 examples in round 0.\n"
     ]
    },
    {
     "name": "stderr",
     "output_type": "stream",
     "text": [
      "Average Metric: 6.452380952380952 / 30  (21.5): 100%|██████████| 30/30 [00:04<00:00,  7.26it/s] \n"
     ]
    },
    {
     "name": "stdout",
     "output_type": "stream",
     "text": [
      "Scores so far: [9.63, 20.24, 8.12, 13.61, 29.07, 22.35, 14.61, 18.17, 24.84, 22.23, 13.02, 19.01, 21.51]\n",
      "Best score so far: 29.07\n"
     ]
    },
    {
     "name": "stderr",
     "output_type": "stream",
     "text": [
      "  1%|          | 1/120 [00:00<01:28,  1.34it/s]\n"
     ]
    },
    {
     "name": "stdout",
     "output_type": "stream",
     "text": [
      "Bootstrapped 1 full traces after 2 examples in round 0.\n"
     ]
    },
    {
     "name": "stderr",
     "output_type": "stream",
     "text": [
      "Average Metric: 3.285714285714286 / 30  (11.0): 100%|██████████| 30/30 [00:03<00:00,  7.63it/s] \n"
     ]
    },
    {
     "name": "stdout",
     "output_type": "stream",
     "text": [
      "Scores so far: [9.63, 20.24, 8.12, 13.61, 29.07, 22.35, 14.61, 18.17, 24.84, 22.23, 13.02, 19.01, 21.51, 10.95]\n",
      "Best score so far: 29.07\n"
     ]
    },
    {
     "name": "stderr",
     "output_type": "stream",
     "text": [
      "  1%|          | 1/120 [00:00<01:50,  1.08it/s]\n"
     ]
    },
    {
     "name": "stdout",
     "output_type": "stream",
     "text": [
      "Bootstrapped 1 full traces after 2 examples in round 0.\n"
     ]
    },
    {
     "name": "stderr",
     "output_type": "stream",
     "text": [
      "Average Metric: 4.035714285714286 / 30  (13.5): 100%|██████████| 30/30 [00:04<00:00,  7.36it/s] \n"
     ]
    },
    {
     "name": "stdout",
     "output_type": "stream",
     "text": [
      "Scores so far: [9.63, 20.24, 8.12, 13.61, 29.07, 22.35, 14.61, 18.17, 24.84, 22.23, 13.02, 19.01, 21.51, 10.95, 13.45]\n",
      "Best score so far: 29.07\n"
     ]
    },
    {
     "name": "stderr",
     "output_type": "stream",
     "text": [
      "  2%|▏         | 2/120 [00:01<01:31,  1.29it/s]\n"
     ]
    },
    {
     "name": "stdout",
     "output_type": "stream",
     "text": [
      "Bootstrapped 1 full traces after 3 examples in round 0.\n"
     ]
    },
    {
     "name": "stderr",
     "output_type": "stream",
     "text": [
      "Average Metric: 3.9166666666666665 / 30  (13.1): 100%|██████████| 30/30 [00:04<00:00,  7.42it/s]\n"
     ]
    },
    {
     "name": "stdout",
     "output_type": "stream",
     "text": [
      "Scores so far: [9.63, 20.24, 8.12, 13.61, 29.07, 22.35, 14.61, 18.17, 24.84, 22.23, 13.02, 19.01, 21.51, 10.95, 13.45, 13.06]\n",
      "Best score so far: 29.07\n"
     ]
    },
    {
     "name": "stderr",
     "output_type": "stream",
     "text": [
      "  2%|▎         | 3/120 [00:02<01:23,  1.39it/s]\n"
     ]
    },
    {
     "name": "stdout",
     "output_type": "stream",
     "text": [
      "Bootstrapped 1 full traces after 4 examples in round 0.\n"
     ]
    },
    {
     "name": "stderr",
     "output_type": "stream",
     "text": [
      "Average Metric: 5.716666666666667 / 30  (19.1): 100%|██████████| 30/30 [00:04<00:00,  7.12it/s] \n"
     ]
    },
    {
     "name": "stdout",
     "output_type": "stream",
     "text": [
      "Scores so far: [9.63, 20.24, 8.12, 13.61, 29.07, 22.35, 14.61, 18.17, 24.84, 22.23, 13.02, 19.01, 21.51, 10.95, 13.45, 13.06, 19.06]\n",
      "Best score so far: 29.07\n"
     ]
    },
    {
     "name": "stderr",
     "output_type": "stream",
     "text": [
      "  2%|▎         | 3/120 [00:02<01:33,  1.25it/s]\n"
     ]
    },
    {
     "name": "stdout",
     "output_type": "stream",
     "text": [
      "Bootstrapped 1 full traces after 4 examples in round 0.\n"
     ]
    },
    {
     "name": "stderr",
     "output_type": "stream",
     "text": [
      "Average Metric: 4.071428571428571 / 30  (13.6): 100%|██████████| 30/30 [00:04<00:00,  6.70it/s] \n"
     ]
    },
    {
     "name": "stdout",
     "output_type": "stream",
     "text": [
      "Scores so far: [9.63, 20.24, 8.12, 13.61, 29.07, 22.35, 14.61, 18.17, 24.84, 22.23, 13.02, 19.01, 21.51, 10.95, 13.45, 13.06, 19.06, 13.57]\n",
      "Best score so far: 29.07\n"
     ]
    },
    {
     "name": "stderr",
     "output_type": "stream",
     "text": [
      "  3%|▎         | 4/120 [00:03<01:32,  1.25it/s]\n"
     ]
    },
    {
     "name": "stdout",
     "output_type": "stream",
     "text": [
      "Bootstrapped 1 full traces after 5 examples in round 0.\n"
     ]
    },
    {
     "name": "stderr",
     "output_type": "stream",
     "text": [
      "Average Metric: 6.119047619047619 / 30  (20.4): 100%|██████████| 30/30 [00:04<00:00,  6.82it/s] \n",
      "Compiling models:  25%|██▌       | 1/4 [01:58<05:56, 118.91s/it]"
     ]
    },
    {
     "name": "stdout",
     "output_type": "stream",
     "text": [
      "Scores so far: [9.63, 20.24, 8.12, 13.61, 29.07, 22.35, 14.61, 18.17, 24.84, 22.23, 13.02, 19.01, 21.51, 10.95, 13.45, 13.06, 19.06, 13.57, 20.4]\n",
      "Best score so far: 29.07\n",
      "19 candidate programs found.\n",
      "[('generate_answer', Predict(StringSignature(question, context -> reasoning, answer\n",
      "    instructions='Given the fields `question`, `context`, produce the fields `answer`.'\n",
      "    question = Field(annotation=str required=True json_schema_extra={'__dspy_field_type': 'input', 'prefix': 'Question:', 'desc': '${question}'})\n",
      "    context = Field(annotation=str required=True json_schema_extra={'__dspy_field_type': 'input', 'prefix': 'Context:', 'desc': '${context}'})\n",
      "    reasoning = Field(annotation=str required=True json_schema_extra={'prefix': \"Reasoning: Let's think step by step in order to\", 'desc': '${reasoning}', '__dspy_field_type': 'output'})\n",
      "    answer = Field(annotation=str required=True json_schema_extra={'__dspy_field_type': 'output', 'prefix': 'Answer:', 'desc': '${answer}'})\n",
      ")))]\n",
      "Going to sample between 1 and 1 traces per predictor.\n",
      "Will attempt to bootstrap 16 candidate sets.\n"
     ]
    },
    {
     "name": "stderr",
     "output_type": "stream",
     "text": [
      "Average Metric: 1 / 30  (3.3): 100%|██████████| 30/30 [00:00<00:00, 3101.45it/s]\n"
     ]
    },
    {
     "name": "stdout",
     "output_type": "stream",
     "text": [
      "New best score: 3.33 for seed -3\n",
      "Scores so far: [3.33]\n",
      "Best score so far: 3.33\n"
     ]
    },
    {
     "name": "stderr",
     "output_type": "stream",
     "text": [
      "Average Metric: 5 / 30  (16.7): 100%|██████████| 30/30 [00:00<00:00, 4130.01it/s]\n"
     ]
    },
    {
     "name": "stdout",
     "output_type": "stream",
     "text": [
      "New best score: 16.67 for seed -2\n",
      "Scores so far: [3.33, 16.67]\n",
      "Best score so far: 16.67\n"
     ]
    },
    {
     "name": "stderr",
     "output_type": "stream",
     "text": [
      "  9%|▉         | 11/120 [00:03<00:32,  3.40it/s]\n"
     ]
    },
    {
     "name": "stdout",
     "output_type": "stream",
     "text": [
      "Bootstrapped 1 full traces after 12 examples in round 0.\n"
     ]
    },
    {
     "name": "stderr",
     "output_type": "stream",
     "text": [
      "Average Metric: 2 / 30  (6.7): 100%|██████████| 30/30 [00:03<00:00,  7.84it/s]\n"
     ]
    },
    {
     "name": "stdout",
     "output_type": "stream",
     "text": [
      "Scores so far: [3.33, 16.67, 6.67]\n",
      "Best score so far: 16.67\n"
     ]
    },
    {
     "name": "stderr",
     "output_type": "stream",
     "text": [
      "  1%|          | 1/120 [00:00<00:00, 1128.41it/s]\n"
     ]
    },
    {
     "name": "stdout",
     "output_type": "stream",
     "text": [
      "Bootstrapped 1 full traces after 2 examples in round 0.\n"
     ]
    },
    {
     "name": "stderr",
     "output_type": "stream",
     "text": [
      "Average Metric: 2 / 30  (6.7): 100%|██████████| 30/30 [00:00<00:00, 3810.92it/s] \n"
     ]
    },
    {
     "name": "stdout",
     "output_type": "stream",
     "text": [
      "Scores so far: [3.33, 16.67, 6.67, 6.67]\n",
      "Best score so far: 16.67\n"
     ]
    },
    {
     "name": "stderr",
     "output_type": "stream",
     "text": [
      "  6%|▌         | 7/120 [00:04<01:13,  1.53it/s]\n"
     ]
    },
    {
     "name": "stdout",
     "output_type": "stream",
     "text": [
      "Bootstrapped 1 full traces after 8 examples in round 0.\n"
     ]
    },
    {
     "name": "stderr",
     "output_type": "stream",
     "text": [
      "Average Metric: 5 / 30  (16.7): 100%|██████████| 30/30 [00:04<00:00,  7.39it/s]\n"
     ]
    },
    {
     "name": "stdout",
     "output_type": "stream",
     "text": [
      "Scores so far: [3.33, 16.67, 6.67, 6.67, 16.67]\n",
      "Best score so far: 16.67\n"
     ]
    },
    {
     "name": "stderr",
     "output_type": "stream",
     "text": [
      " 22%|██▏       | 26/120 [00:18<01:07,  1.39it/s]\n"
     ]
    },
    {
     "name": "stdout",
     "output_type": "stream",
     "text": [
      "Bootstrapped 1 full traces after 27 examples in round 0.\n"
     ]
    },
    {
     "name": "stderr",
     "output_type": "stream",
     "text": [
      "Average Metric: 4 / 30  (13.3): 100%|██████████| 30/30 [00:04<00:00,  7.25it/s]\n"
     ]
    },
    {
     "name": "stdout",
     "output_type": "stream",
     "text": [
      "Scores so far: [3.33, 16.67, 6.67, 6.67, 16.67, 13.33]\n",
      "Best score so far: 16.67\n"
     ]
    },
    {
     "name": "stderr",
     "output_type": "stream",
     "text": [
      "  1%|          | 1/120 [00:00<00:00, 1305.82it/s]\n"
     ]
    },
    {
     "name": "stdout",
     "output_type": "stream",
     "text": [
      "Bootstrapped 1 full traces after 2 examples in round 0.\n"
     ]
    },
    {
     "name": "stderr",
     "output_type": "stream",
     "text": [
      "Average Metric: 3 / 30  (10.0): 100%|██████████| 30/30 [00:00<00:00, 3986.73it/s]\n"
     ]
    },
    {
     "name": "stdout",
     "output_type": "stream",
     "text": [
      "Scores so far: [3.33, 16.67, 6.67, 6.67, 16.67, 13.33, 10.0]\n",
      "Best score so far: 16.67\n"
     ]
    },
    {
     "name": "stderr",
     "output_type": "stream",
     "text": [
      "  2%|▏         | 2/120 [00:00<00:42,  2.78it/s]\n"
     ]
    },
    {
     "name": "stdout",
     "output_type": "stream",
     "text": [
      "Bootstrapped 1 full traces after 3 examples in round 0.\n"
     ]
    },
    {
     "name": "stderr",
     "output_type": "stream",
     "text": [
      "Average Metric: 3 / 30  (10.0): 100%|██████████| 30/30 [00:04<00:00,  7.17it/s]\n"
     ]
    },
    {
     "name": "stdout",
     "output_type": "stream",
     "text": [
      "Scores so far: [3.33, 16.67, 6.67, 6.67, 16.67, 13.33, 10.0, 10.0]\n",
      "Best score so far: 16.67\n"
     ]
    },
    {
     "name": "stderr",
     "output_type": "stream",
     "text": [
      "  3%|▎         | 4/120 [00:00<00:00, 1988.76it/s]\n"
     ]
    },
    {
     "name": "stdout",
     "output_type": "stream",
     "text": [
      "Bootstrapped 1 full traces after 5 examples in round 0.\n"
     ]
    },
    {
     "name": "stderr",
     "output_type": "stream",
     "text": [
      "Average Metric: 6 / 30  (20.0): 100%|██████████| 30/30 [00:00<00:00, 4411.81it/s]\n"
     ]
    },
    {
     "name": "stdout",
     "output_type": "stream",
     "text": [
      "New best score: 20.0 for seed 5\n",
      "Scores so far: [3.33, 16.67, 6.67, 6.67, 16.67, 13.33, 10.0, 10.0, 20.0]\n",
      "Best score so far: 20.0\n"
     ]
    },
    {
     "name": "stderr",
     "output_type": "stream",
     "text": [
      "  6%|▌         | 7/120 [00:00<00:00, 2947.51it/s]\n"
     ]
    },
    {
     "name": "stdout",
     "output_type": "stream",
     "text": [
      "Bootstrapped 1 full traces after 8 examples in round 0.\n"
     ]
    },
    {
     "name": "stderr",
     "output_type": "stream",
     "text": [
      "Average Metric: 5 / 30  (16.7): 100%|██████████| 30/30 [00:00<00:00, 4546.34it/s]\n"
     ]
    },
    {
     "name": "stdout",
     "output_type": "stream",
     "text": [
      "Scores so far: [3.33, 16.67, 6.67, 6.67, 16.67, 13.33, 10.0, 10.0, 20.0, 16.67]\n",
      "Best score so far: 20.0\n"
     ]
    },
    {
     "name": "stderr",
     "output_type": "stream",
     "text": [
      "  8%|▊         | 10/120 [00:06<01:06,  1.66it/s]\n"
     ]
    },
    {
     "name": "stdout",
     "output_type": "stream",
     "text": [
      "Bootstrapped 1 full traces after 11 examples in round 0.\n"
     ]
    },
    {
     "name": "stderr",
     "output_type": "stream",
     "text": [
      "Average Metric: 3 / 30  (10.0): 100%|██████████| 30/30 [00:03<00:00,  7.85it/s]\n"
     ]
    },
    {
     "name": "stdout",
     "output_type": "stream",
     "text": [
      "Scores so far: [3.33, 16.67, 6.67, 6.67, 16.67, 13.33, 10.0, 10.0, 20.0, 16.67, 10.0]\n",
      "Best score so far: 20.0\n"
     ]
    },
    {
     "name": "stderr",
     "output_type": "stream",
     "text": [
      "  3%|▎         | 4/120 [00:02<01:01,  1.89it/s]\n"
     ]
    },
    {
     "name": "stdout",
     "output_type": "stream",
     "text": [
      "Bootstrapped 1 full traces after 5 examples in round 0.\n"
     ]
    },
    {
     "name": "stderr",
     "output_type": "stream",
     "text": [
      "Average Metric: 4 / 30  (13.3): 100%|██████████| 30/30 [00:04<00:00,  7.50it/s]\n"
     ]
    },
    {
     "name": "stdout",
     "output_type": "stream",
     "text": [
      "Scores so far: [3.33, 16.67, 6.67, 6.67, 16.67, 13.33, 10.0, 10.0, 20.0, 16.67, 10.0, 13.33]\n",
      "Best score so far: 20.0\n"
     ]
    },
    {
     "name": "stderr",
     "output_type": "stream",
     "text": [
      "  3%|▎         | 4/120 [00:00<00:00, 2532.03it/s]\n"
     ]
    },
    {
     "name": "stdout",
     "output_type": "stream",
     "text": [
      "Bootstrapped 1 full traces after 5 examples in round 0.\n"
     ]
    },
    {
     "name": "stderr",
     "output_type": "stream",
     "text": [
      "Average Metric: 5 / 30  (16.7): 100%|██████████| 30/30 [00:00<00:00, 4970.14it/s]\n"
     ]
    },
    {
     "name": "stdout",
     "output_type": "stream",
     "text": [
      "Scores so far: [3.33, 16.67, 6.67, 6.67, 16.67, 13.33, 10.0, 10.0, 20.0, 16.67, 10.0, 13.33, 16.67]\n",
      "Best score so far: 20.0\n"
     ]
    },
    {
     "name": "stderr",
     "output_type": "stream",
     "text": [
      "  1%|          | 1/120 [00:00<00:00, 2122.62it/s]\n"
     ]
    },
    {
     "name": "stdout",
     "output_type": "stream",
     "text": [
      "Bootstrapped 1 full traces after 2 examples in round 0.\n"
     ]
    },
    {
     "name": "stderr",
     "output_type": "stream",
     "text": [
      "Average Metric: 1 / 30  (3.3): 100%|██████████| 30/30 [00:00<00:00, 5473.21it/s]\n"
     ]
    },
    {
     "name": "stdout",
     "output_type": "stream",
     "text": [
      "Scores so far: [3.33, 16.67, 6.67, 6.67, 16.67, 13.33, 10.0, 10.0, 20.0, 16.67, 10.0, 13.33, 16.67, 3.33]\n",
      "Best score so far: 20.0\n"
     ]
    },
    {
     "name": "stderr",
     "output_type": "stream",
     "text": [
      "  6%|▌         | 7/120 [00:04<01:08,  1.65it/s]\n"
     ]
    },
    {
     "name": "stdout",
     "output_type": "stream",
     "text": [
      "Bootstrapped 1 full traces after 8 examples in round 0.\n"
     ]
    },
    {
     "name": "stderr",
     "output_type": "stream",
     "text": [
      "Average Metric: 4 / 30  (13.3): 100%|██████████| 30/30 [00:03<00:00,  7.60it/s]\n"
     ]
    },
    {
     "name": "stdout",
     "output_type": "stream",
     "text": [
      "Scores so far: [3.33, 16.67, 6.67, 6.67, 16.67, 13.33, 10.0, 10.0, 20.0, 16.67, 10.0, 13.33, 16.67, 3.33, 13.33]\n",
      "Best score so far: 20.0\n"
     ]
    },
    {
     "name": "stderr",
     "output_type": "stream",
     "text": [
      "  2%|▏         | 2/120 [00:00<00:00, 2259.86it/s]\n"
     ]
    },
    {
     "name": "stdout",
     "output_type": "stream",
     "text": [
      "Bootstrapped 1 full traces after 3 examples in round 0.\n"
     ]
    },
    {
     "name": "stderr",
     "output_type": "stream",
     "text": [
      "Average Metric: 2 / 30  (6.7): 100%|██████████| 30/30 [00:00<00:00, 4618.94it/s]\n"
     ]
    },
    {
     "name": "stdout",
     "output_type": "stream",
     "text": [
      "Scores so far: [3.33, 16.67, 6.67, 6.67, 16.67, 13.33, 10.0, 10.0, 20.0, 16.67, 10.0, 13.33, 16.67, 3.33, 13.33, 6.67]\n",
      "Best score so far: 20.0\n"
     ]
    },
    {
     "name": "stderr",
     "output_type": "stream",
     "text": [
      "  2%|▎         | 3/120 [00:00<00:00, 2631.31it/s]\n"
     ]
    },
    {
     "name": "stdout",
     "output_type": "stream",
     "text": [
      "Bootstrapped 1 full traces after 4 examples in round 0.\n"
     ]
    },
    {
     "name": "stderr",
     "output_type": "stream",
     "text": [
      "Average Metric: 4 / 30  (13.3): 100%|██████████| 30/30 [00:00<00:00, 4973.48it/s]\n"
     ]
    },
    {
     "name": "stdout",
     "output_type": "stream",
     "text": [
      "Scores so far: [3.33, 16.67, 6.67, 6.67, 16.67, 13.33, 10.0, 10.0, 20.0, 16.67, 10.0, 13.33, 16.67, 3.33, 13.33, 6.67, 13.33]\n",
      "Best score so far: 20.0\n"
     ]
    },
    {
     "name": "stderr",
     "output_type": "stream",
     "text": [
      "  3%|▎         | 4/120 [00:00<00:12,  9.01it/s]\n"
     ]
    },
    {
     "name": "stdout",
     "output_type": "stream",
     "text": [
      "Bootstrapped 1 full traces after 5 examples in round 0.\n"
     ]
    },
    {
     "name": "stderr",
     "output_type": "stream",
     "text": [
      "Average Metric: 3 / 30  (10.0): 100%|██████████| 30/30 [00:03<00:00,  7.54it/s]\n"
     ]
    },
    {
     "name": "stdout",
     "output_type": "stream",
     "text": [
      "Scores so far: [3.33, 16.67, 6.67, 6.67, 16.67, 13.33, 10.0, 10.0, 20.0, 16.67, 10.0, 13.33, 16.67, 3.33, 13.33, 6.67, 13.33, 10.0]\n",
      "Best score so far: 20.0\n"
     ]
    },
    {
     "name": "stderr",
     "output_type": "stream",
     "text": [
      "  3%|▎         | 4/120 [00:00<00:00, 3378.42it/s]\n"
     ]
    },
    {
     "name": "stdout",
     "output_type": "stream",
     "text": [
      "Bootstrapped 1 full traces after 5 examples in round 0.\n"
     ]
    },
    {
     "name": "stderr",
     "output_type": "stream",
     "text": [
      "Average Metric: 4 / 30  (13.3): 100%|██████████| 30/30 [00:00<00:00, 4545.52it/s]\n",
      "Compiling models:  50%|█████     | 2/4 [03:11<03:03, 91.61s/it] "
     ]
    },
    {
     "name": "stdout",
     "output_type": "stream",
     "text": [
      "Scores so far: [3.33, 16.67, 6.67, 6.67, 16.67, 13.33, 10.0, 10.0, 20.0, 16.67, 10.0, 13.33, 16.67, 3.33, 13.33, 6.67, 13.33, 10.0, 13.33]\n",
      "Best score so far: 20.0\n",
      "19 candidate programs found.\n",
      "[('generate_answer', Predict(StringSignature(question, context -> reasoning, answer\n",
      "    instructions='Given the fields `question`, `context`, produce the fields `answer`.'\n",
      "    question = Field(annotation=str required=True json_schema_extra={'__dspy_field_type': 'input', 'prefix': 'Question:', 'desc': '${question}'})\n",
      "    context = Field(annotation=str required=True json_schema_extra={'__dspy_field_type': 'input', 'prefix': 'Context:', 'desc': '${context}'})\n",
      "    reasoning = Field(annotation=str required=True json_schema_extra={'prefix': \"Reasoning: Let's think step by step in order to\", 'desc': '${reasoning}', '__dspy_field_type': 'output'})\n",
      "    answer = Field(annotation=str required=True json_schema_extra={'__dspy_field_type': 'output', 'prefix': 'Answer:', 'desc': '${answer}'})\n",
      ")))]\n",
      "Going to sample between 1 and 1 traces per predictor.\n",
      "Will attempt to bootstrap 16 candidate sets.\n"
     ]
    },
    {
     "name": "stderr",
     "output_type": "stream",
     "text": [
      "Average Metric: 2.0 / 30  (6.7): 100%|██████████| 30/30 [00:05<00:00,  5.31it/s] \n"
     ]
    },
    {
     "name": "stdout",
     "output_type": "stream",
     "text": [
      "New best score: 6.67 for seed -3\n",
      "Scores so far: [6.67]\n",
      "Best score so far: 6.67\n"
     ]
    },
    {
     "name": "stderr",
     "output_type": "stream",
     "text": [
      "Average Metric: 13.857142857142858 / 30  (46.2): 100%|██████████| 30/30 [00:04<00:00,  6.89it/s]\n"
     ]
    },
    {
     "name": "stdout",
     "output_type": "stream",
     "text": [
      "New best score: 46.19 for seed -2\n",
      "Scores so far: [6.67, 46.19]\n",
      "Best score so far: 46.19\n"
     ]
    },
    {
     "name": "stderr",
     "output_type": "stream",
     "text": [
      "  2%|▎         | 3/120 [00:02<01:26,  1.35it/s]\n"
     ]
    },
    {
     "name": "stdout",
     "output_type": "stream",
     "text": [
      "Bootstrapped 1 full traces after 4 examples in round 0.\n"
     ]
    },
    {
     "name": "stderr",
     "output_type": "stream",
     "text": [
      "Average Metric: 11.0 / 30  (36.7): 100%|██████████| 30/30 [00:04<00:00,  7.01it/s]\n"
     ]
    },
    {
     "name": "stdout",
     "output_type": "stream",
     "text": [
      "Scores so far: [6.67, 46.19, 36.67]\n",
      "Best score so far: 46.19\n"
     ]
    },
    {
     "name": "stderr",
     "output_type": "stream",
     "text": [
      "  1%|          | 1/120 [00:00<01:31,  1.30it/s]\n"
     ]
    },
    {
     "name": "stdout",
     "output_type": "stream",
     "text": [
      "Bootstrapped 1 full traces after 2 examples in round 0.\n"
     ]
    },
    {
     "name": "stderr",
     "output_type": "stream",
     "text": [
      "Average Metric: 12.457142857142857 / 30  (41.5): 100%|██████████| 30/30 [00:04<00:00,  6.52it/s]\n"
     ]
    },
    {
     "name": "stdout",
     "output_type": "stream",
     "text": [
      "Scores so far: [6.67, 46.19, 36.67, 41.52]\n",
      "Best score so far: 46.19\n"
     ]
    },
    {
     "name": "stderr",
     "output_type": "stream",
     "text": [
      "  2%|▎         | 3/120 [00:02<01:29,  1.30it/s]\n"
     ]
    },
    {
     "name": "stdout",
     "output_type": "stream",
     "text": [
      "Bootstrapped 1 full traces after 4 examples in round 0.\n"
     ]
    },
    {
     "name": "stderr",
     "output_type": "stream",
     "text": [
      "Average Metric: 10.857142857142858 / 30  (36.2): 100%|██████████| 30/30 [00:04<00:00,  7.17it/s]\n"
     ]
    },
    {
     "name": "stdout",
     "output_type": "stream",
     "text": [
      "Scores so far: [6.67, 46.19, 36.67, 41.52, 36.19]\n",
      "Best score so far: 46.19\n"
     ]
    },
    {
     "name": "stderr",
     "output_type": "stream",
     "text": [
      "  1%|          | 1/120 [00:00<01:27,  1.37it/s]\n"
     ]
    },
    {
     "name": "stdout",
     "output_type": "stream",
     "text": [
      "Bootstrapped 1 full traces after 2 examples in round 0.\n"
     ]
    },
    {
     "name": "stderr",
     "output_type": "stream",
     "text": [
      "Average Metric: 9.857142857142858 / 30  (32.9): 100%|██████████| 30/30 [00:03<00:00,  7.57it/s]\n"
     ]
    },
    {
     "name": "stdout",
     "output_type": "stream",
     "text": [
      "Scores so far: [6.67, 46.19, 36.67, 41.52, 36.19, 32.86]\n",
      "Best score so far: 46.19\n"
     ]
    },
    {
     "name": "stderr",
     "output_type": "stream",
     "text": [
      "  7%|▋         | 8/120 [00:06<01:28,  1.26it/s]\n"
     ]
    },
    {
     "name": "stdout",
     "output_type": "stream",
     "text": [
      "Bootstrapped 1 full traces after 9 examples in round 0.\n"
     ]
    },
    {
     "name": "stderr",
     "output_type": "stream",
     "text": [
      "Average Metric: 10.5 / 30  (35.0): 100%|██████████| 30/30 [00:04<00:00,  6.27it/s]\n"
     ]
    },
    {
     "name": "stdout",
     "output_type": "stream",
     "text": [
      "Scores so far: [6.67, 46.19, 36.67, 41.52, 36.19, 32.86, 35.0]\n",
      "Best score so far: 46.19\n"
     ]
    },
    {
     "name": "stderr",
     "output_type": "stream",
     "text": [
      "  1%|          | 1/120 [00:00<01:24,  1.40it/s]\n"
     ]
    },
    {
     "name": "stdout",
     "output_type": "stream",
     "text": [
      "Bootstrapped 1 full traces after 2 examples in round 0.\n"
     ]
    },
    {
     "name": "stderr",
     "output_type": "stream",
     "text": [
      "Average Metric: 11.357142857142858 / 30  (37.9): 100%|██████████| 30/30 [00:04<00:00,  6.52it/s]\n"
     ]
    },
    {
     "name": "stdout",
     "output_type": "stream",
     "text": [
      "Scores so far: [6.67, 46.19, 36.67, 41.52, 36.19, 32.86, 35.0, 37.86]\n",
      "Best score so far: 46.19\n"
     ]
    },
    {
     "name": "stderr",
     "output_type": "stream",
     "text": [
      "  1%|          | 1/120 [00:00<01:27,  1.36it/s]\n"
     ]
    },
    {
     "name": "stdout",
     "output_type": "stream",
     "text": [
      "Bootstrapped 1 full traces after 2 examples in round 0.\n"
     ]
    },
    {
     "name": "stderr",
     "output_type": "stream",
     "text": [
      "Average Metric: 11.0 / 30  (36.7): 100%|██████████| 30/30 [00:03<00:00,  7.81it/s]\n"
     ]
    },
    {
     "name": "stdout",
     "output_type": "stream",
     "text": [
      "Scores so far: [6.67, 46.19, 36.67, 41.52, 36.19, 32.86, 35.0, 37.86, 36.67]\n",
      "Best score so far: 46.19\n"
     ]
    },
    {
     "name": "stderr",
     "output_type": "stream",
     "text": [
      "  1%|          | 1/120 [00:00<01:30,  1.31it/s]\n"
     ]
    },
    {
     "name": "stdout",
     "output_type": "stream",
     "text": [
      "Bootstrapped 1 full traces after 2 examples in round 0.\n"
     ]
    },
    {
     "name": "stderr",
     "output_type": "stream",
     "text": [
      "Average Metric: 12.257142857142858 / 30  (40.9): 100%|██████████| 30/30 [00:04<00:00,  7.49it/s]\n"
     ]
    },
    {
     "name": "stdout",
     "output_type": "stream",
     "text": [
      "Scores so far: [6.67, 46.19, 36.67, 41.52, 36.19, 32.86, 35.0, 37.86, 36.67, 40.86]\n",
      "Best score so far: 46.19\n"
     ]
    },
    {
     "name": "stderr",
     "output_type": "stream",
     "text": [
      "  2%|▏         | 2/120 [00:01<01:25,  1.37it/s]\n"
     ]
    },
    {
     "name": "stdout",
     "output_type": "stream",
     "text": [
      "Bootstrapped 1 full traces after 3 examples in round 0.\n"
     ]
    },
    {
     "name": "stderr",
     "output_type": "stream",
     "text": [
      "Average Metric: 9.357142857142858 / 30  (31.2): 100%|██████████| 30/30 [00:04<00:00,  7.37it/s]\n"
     ]
    },
    {
     "name": "stdout",
     "output_type": "stream",
     "text": [
      "Scores so far: [6.67, 46.19, 36.67, 41.52, 36.19, 32.86, 35.0, 37.86, 36.67, 40.86, 31.19]\n",
      "Best score so far: 46.19\n"
     ]
    },
    {
     "name": "stderr",
     "output_type": "stream",
     "text": [
      "  1%|          | 1/120 [00:00<01:41,  1.18it/s]\n"
     ]
    },
    {
     "name": "stdout",
     "output_type": "stream",
     "text": [
      "Bootstrapped 1 full traces after 2 examples in round 0.\n"
     ]
    },
    {
     "name": "stderr",
     "output_type": "stream",
     "text": [
      "Average Metric: 10.5 / 30  (35.0): 100%|██████████| 30/30 [00:03<00:00,  7.61it/s]\n"
     ]
    },
    {
     "name": "stdout",
     "output_type": "stream",
     "text": [
      "Scores so far: [6.67, 46.19, 36.67, 41.52, 36.19, 32.86, 35.0, 37.86, 36.67, 40.86, 31.19, 35.0]\n",
      "Best score so far: 46.19\n"
     ]
    },
    {
     "name": "stderr",
     "output_type": "stream",
     "text": [
      "  1%|          | 1/120 [00:00<01:56,  1.02it/s]\n"
     ]
    },
    {
     "name": "stdout",
     "output_type": "stream",
     "text": [
      "Bootstrapped 1 full traces after 2 examples in round 0.\n"
     ]
    },
    {
     "name": "stderr",
     "output_type": "stream",
     "text": [
      "Average Metric: 12.457142857142857 / 30  (41.5): 100%|██████████| 30/30 [00:04<00:00,  6.62it/s]\n"
     ]
    },
    {
     "name": "stdout",
     "output_type": "stream",
     "text": [
      "Scores so far: [6.67, 46.19, 36.67, 41.52, 36.19, 32.86, 35.0, 37.86, 36.67, 40.86, 31.19, 35.0, 41.52]\n",
      "Best score so far: 46.19\n"
     ]
    },
    {
     "name": "stderr",
     "output_type": "stream",
     "text": [
      "  2%|▎         | 3/120 [00:02<01:23,  1.39it/s]\n"
     ]
    },
    {
     "name": "stdout",
     "output_type": "stream",
     "text": [
      "Bootstrapped 1 full traces after 4 examples in round 0.\n"
     ]
    },
    {
     "name": "stderr",
     "output_type": "stream",
     "text": [
      "Average Metric: 13.0 / 30  (43.3): 100%|██████████| 30/30 [00:03<00:00,  8.02it/s]\n"
     ]
    },
    {
     "name": "stdout",
     "output_type": "stream",
     "text": [
      "Scores so far: [6.67, 46.19, 36.67, 41.52, 36.19, 32.86, 35.0, 37.86, 36.67, 40.86, 31.19, 35.0, 41.52, 43.33]\n",
      "Best score so far: 46.19\n"
     ]
    },
    {
     "name": "stderr",
     "output_type": "stream",
     "text": [
      "  1%|          | 1/120 [00:00<01:25,  1.39it/s]\n"
     ]
    },
    {
     "name": "stdout",
     "output_type": "stream",
     "text": [
      "Bootstrapped 1 full traces after 2 examples in round 0.\n"
     ]
    },
    {
     "name": "stderr",
     "output_type": "stream",
     "text": [
      "Average Metric: 10.857142857142858 / 30  (36.2): 100%|██████████| 30/30 [00:03<00:00,  7.78it/s]\n"
     ]
    },
    {
     "name": "stdout",
     "output_type": "stream",
     "text": [
      "Scores so far: [6.67, 46.19, 36.67, 41.52, 36.19, 32.86, 35.0, 37.86, 36.67, 40.86, 31.19, 35.0, 41.52, 43.33, 36.19]\n",
      "Best score so far: 46.19\n"
     ]
    },
    {
     "name": "stderr",
     "output_type": "stream",
     "text": [
      "  2%|▏         | 2/120 [00:01<01:35,  1.24it/s]\n"
     ]
    },
    {
     "name": "stdout",
     "output_type": "stream",
     "text": [
      "Bootstrapped 1 full traces after 3 examples in round 0.\n"
     ]
    },
    {
     "name": "stderr",
     "output_type": "stream",
     "text": [
      "Average Metric: 12.257142857142858 / 30  (40.9): 100%|██████████| 30/30 [00:04<00:00,  6.87it/s]\n"
     ]
    },
    {
     "name": "stdout",
     "output_type": "stream",
     "text": [
      "Scores so far: [6.67, 46.19, 36.67, 41.52, 36.19, 32.86, 35.0, 37.86, 36.67, 40.86, 31.19, 35.0, 41.52, 43.33, 36.19, 40.86]\n",
      "Best score so far: 46.19\n"
     ]
    },
    {
     "name": "stderr",
     "output_type": "stream",
     "text": [
      "  1%|          | 1/120 [00:00<01:34,  1.26it/s]\n"
     ]
    },
    {
     "name": "stdout",
     "output_type": "stream",
     "text": [
      "Bootstrapped 1 full traces after 2 examples in round 0.\n"
     ]
    },
    {
     "name": "stderr",
     "output_type": "stream",
     "text": [
      "Average Metric: 11.257142857142858 / 30  (37.5): 100%|██████████| 30/30 [00:04<00:00,  6.50it/s]\n"
     ]
    },
    {
     "name": "stdout",
     "output_type": "stream",
     "text": [
      "Scores so far: [6.67, 46.19, 36.67, 41.52, 36.19, 32.86, 35.0, 37.86, 36.67, 40.86, 31.19, 35.0, 41.52, 43.33, 36.19, 40.86, 37.52]\n",
      "Best score so far: 46.19\n"
     ]
    },
    {
     "name": "stderr",
     "output_type": "stream",
     "text": [
      "  1%|          | 1/120 [00:00<01:45,  1.12it/s]\n"
     ]
    },
    {
     "name": "stdout",
     "output_type": "stream",
     "text": [
      "Bootstrapped 1 full traces after 2 examples in round 0.\n"
     ]
    },
    {
     "name": "stderr",
     "output_type": "stream",
     "text": [
      "Average Metric: 11.974789915966387 / 30  (39.9): 100%|██████████| 30/30 [00:04<00:00,  6.82it/s]\n"
     ]
    },
    {
     "name": "stdout",
     "output_type": "stream",
     "text": [
      "Scores so far: [6.67, 46.19, 36.67, 41.52, 36.19, 32.86, 35.0, 37.86, 36.67, 40.86, 31.19, 35.0, 41.52, 43.33, 36.19, 40.86, 37.52, 39.92]\n",
      "Best score so far: 46.19\n"
     ]
    },
    {
     "name": "stderr",
     "output_type": "stream",
     "text": [
      "  2%|▎         | 3/120 [00:02<01:32,  1.26it/s]\n"
     ]
    },
    {
     "name": "stdout",
     "output_type": "stream",
     "text": [
      "Bootstrapped 1 full traces after 4 examples in round 0.\n"
     ]
    },
    {
     "name": "stderr",
     "output_type": "stream",
     "text": [
      "Average Metric: 11.857142857142858 / 30  (39.5): 100%|██████████| 30/30 [00:04<00:00,  6.85it/s]\n",
      "Compiling models:  75%|███████▌  | 3/4 [05:00<01:39, 99.54s/it]"
     ]
    },
    {
     "name": "stdout",
     "output_type": "stream",
     "text": [
      "Scores so far: [6.67, 46.19, 36.67, 41.52, 36.19, 32.86, 35.0, 37.86, 36.67, 40.86, 31.19, 35.0, 41.52, 43.33, 36.19, 40.86, 37.52, 39.92, 39.52]\n",
      "Best score so far: 46.19\n",
      "19 candidate programs found.\n",
      "[('generate_answer', Predict(StringSignature(question, context -> reasoning, answer\n",
      "    instructions='Given the fields `question`, `context`, produce the fields `answer`.'\n",
      "    question = Field(annotation=str required=True json_schema_extra={'__dspy_field_type': 'input', 'prefix': 'Question:', 'desc': '${question}'})\n",
      "    context = Field(annotation=str required=True json_schema_extra={'__dspy_field_type': 'input', 'prefix': 'Context:', 'desc': '${context}'})\n",
      "    reasoning = Field(annotation=str required=True json_schema_extra={'prefix': \"Reasoning: Let's think step by step in order to\", 'desc': '${reasoning}', '__dspy_field_type': 'output'})\n",
      "    answer = Field(annotation=str required=True json_schema_extra={'__dspy_field_type': 'output', 'prefix': 'Answer:', 'desc': '${answer}'})\n",
      ")))]\n",
      "Going to sample between 1 and 1 traces per predictor.\n",
      "Will attempt to bootstrap 16 candidate sets.\n"
     ]
    },
    {
     "name": "stderr",
     "output_type": "stream",
     "text": [
      "Average Metric: 2 / 30  (6.7): 100%|██████████| 30/30 [00:00<00:00, 3615.78it/s] \n"
     ]
    },
    {
     "name": "stdout",
     "output_type": "stream",
     "text": [
      "New best score: 6.67 for seed -3\n",
      "Scores so far: [6.67]\n",
      "Best score so far: 6.67\n"
     ]
    },
    {
     "name": "stderr",
     "output_type": "stream",
     "text": [
      "Average Metric: 13 / 30  (43.3): 100%|██████████| 30/30 [00:00<00:00, 4558.70it/s]\n"
     ]
    },
    {
     "name": "stdout",
     "output_type": "stream",
     "text": [
      "New best score: 43.33 for seed -2\n",
      "Scores so far: [6.67, 43.33]\n",
      "Best score so far: 43.33\n"
     ]
    },
    {
     "name": "stderr",
     "output_type": "stream",
     "text": [
      "  3%|▎         | 4/120 [00:00<00:21,  5.45it/s]\n"
     ]
    },
    {
     "name": "stdout",
     "output_type": "stream",
     "text": [
      "Bootstrapped 1 full traces after 5 examples in round 0.\n"
     ]
    },
    {
     "name": "stderr",
     "output_type": "stream",
     "text": [
      "Average Metric: 7 / 30  (23.3): 100%|██████████| 30/30 [00:03<00:00,  7.90it/s]\n"
     ]
    },
    {
     "name": "stdout",
     "output_type": "stream",
     "text": [
      "Scores so far: [6.67, 43.33, 23.33]\n",
      "Best score so far: 43.33\n"
     ]
    },
    {
     "name": "stderr",
     "output_type": "stream",
     "text": [
      "  1%|          | 1/120 [00:00<00:00, 1632.02it/s]\n"
     ]
    },
    {
     "name": "stdout",
     "output_type": "stream",
     "text": [
      "Bootstrapped 1 full traces after 2 examples in round 0.\n"
     ]
    },
    {
     "name": "stderr",
     "output_type": "stream",
     "text": [
      "Average Metric: 11 / 30  (36.7): 100%|██████████| 30/30 [00:00<00:00, 4495.02it/s]\n"
     ]
    },
    {
     "name": "stdout",
     "output_type": "stream",
     "text": [
      "Scores so far: [6.67, 43.33, 23.33, 36.67]\n",
      "Best score so far: 43.33\n"
     ]
    },
    {
     "name": "stderr",
     "output_type": "stream",
     "text": [
      "  2%|▎         | 3/120 [00:00<00:00, 2780.14it/s]\n"
     ]
    },
    {
     "name": "stdout",
     "output_type": "stream",
     "text": [
      "Bootstrapped 1 full traces after 4 examples in round 0.\n"
     ]
    },
    {
     "name": "stderr",
     "output_type": "stream",
     "text": [
      "Average Metric: 10 / 30  (33.3): 100%|██████████| 30/30 [00:00<00:00, 4627.60it/s]\n"
     ]
    },
    {
     "name": "stdout",
     "output_type": "stream",
     "text": [
      "Scores so far: [6.67, 43.33, 23.33, 36.67, 33.33]\n",
      "Best score so far: 43.33\n"
     ]
    },
    {
     "name": "stderr",
     "output_type": "stream",
     "text": [
      "  1%|          | 1/120 [00:00<00:00, 2576.35it/s]\n"
     ]
    },
    {
     "name": "stdout",
     "output_type": "stream",
     "text": [
      "Bootstrapped 1 full traces after 2 examples in round 0.\n"
     ]
    },
    {
     "name": "stderr",
     "output_type": "stream",
     "text": [
      "Average Metric: 9 / 30  (30.0): 100%|██████████| 30/30 [00:00<00:00, 5151.02it/s]\n"
     ]
    },
    {
     "name": "stdout",
     "output_type": "stream",
     "text": [
      "Scores so far: [6.67, 43.33, 23.33, 36.67, 33.33, 30.0]\n",
      "Best score so far: 43.33\n"
     ]
    },
    {
     "name": "stderr",
     "output_type": "stream",
     "text": [
      "  7%|▋         | 8/120 [00:00<00:00, 3762.97it/s]\n"
     ]
    },
    {
     "name": "stdout",
     "output_type": "stream",
     "text": [
      "Bootstrapped 1 full traces after 9 examples in round 0.\n"
     ]
    },
    {
     "name": "stderr",
     "output_type": "stream",
     "text": [
      "Average Metric: 10 / 30  (33.3): 100%|██████████| 30/30 [00:00<00:00, 5025.73it/s]\n"
     ]
    },
    {
     "name": "stdout",
     "output_type": "stream",
     "text": [
      "Scores so far: [6.67, 43.33, 23.33, 36.67, 33.33, 30.0, 33.33]\n",
      "Best score so far: 43.33\n"
     ]
    },
    {
     "name": "stderr",
     "output_type": "stream",
     "text": [
      "  8%|▊         | 9/120 [00:06<01:17,  1.43it/s]\n"
     ]
    },
    {
     "name": "stdout",
     "output_type": "stream",
     "text": [
      "Bootstrapped 1 full traces after 10 examples in round 0.\n"
     ]
    },
    {
     "name": "stderr",
     "output_type": "stream",
     "text": [
      "Average Metric: 8 / 30  (26.7): 100%|██████████| 30/30 [00:04<00:00,  6.08it/s]\n"
     ]
    },
    {
     "name": "stdout",
     "output_type": "stream",
     "text": [
      "Scores so far: [6.67, 43.33, 23.33, 36.67, 33.33, 30.0, 33.33, 26.67]\n",
      "Best score so far: 43.33\n"
     ]
    },
    {
     "name": "stderr",
     "output_type": "stream",
     "text": [
      "  1%|          | 1/120 [00:00<00:00, 1189.20it/s]\n"
     ]
    },
    {
     "name": "stdout",
     "output_type": "stream",
     "text": [
      "Bootstrapped 1 full traces after 2 examples in round 0.\n"
     ]
    },
    {
     "name": "stderr",
     "output_type": "stream",
     "text": [
      "Average Metric: 11 / 30  (36.7): 100%|██████████| 30/30 [00:00<00:00, 3857.07it/s]\n"
     ]
    },
    {
     "name": "stdout",
     "output_type": "stream",
     "text": [
      "Scores so far: [6.67, 43.33, 23.33, 36.67, 33.33, 30.0, 33.33, 26.67, 36.67]\n",
      "Best score so far: 43.33\n"
     ]
    },
    {
     "name": "stderr",
     "output_type": "stream",
     "text": [
      "  2%|▏         | 2/120 [00:00<00:46,  2.54it/s]\n"
     ]
    },
    {
     "name": "stdout",
     "output_type": "stream",
     "text": [
      "Bootstrapped 1 full traces after 3 examples in round 0.\n"
     ]
    },
    {
     "name": "stderr",
     "output_type": "stream",
     "text": [
      "Average Metric: 12 / 30  (40.0): 100%|██████████| 30/30 [00:03<00:00,  7.95it/s]\n"
     ]
    },
    {
     "name": "stdout",
     "output_type": "stream",
     "text": [
      "Scores so far: [6.67, 43.33, 23.33, 36.67, 33.33, 30.0, 33.33, 26.67, 36.67, 40.0]\n",
      "Best score so far: 43.33\n"
     ]
    },
    {
     "name": "stderr",
     "output_type": "stream",
     "text": [
      "  2%|▏         | 2/120 [00:00<00:00, 2906.66it/s]\n"
     ]
    },
    {
     "name": "stdout",
     "output_type": "stream",
     "text": [
      "Bootstrapped 1 full traces after 3 examples in round 0.\n"
     ]
    },
    {
     "name": "stderr",
     "output_type": "stream",
     "text": [
      "Average Metric: 8 / 30  (26.7): 100%|██████████| 30/30 [00:00<00:00, 4431.38it/s]\n"
     ]
    },
    {
     "name": "stdout",
     "output_type": "stream",
     "text": [
      "Scores so far: [6.67, 43.33, 23.33, 36.67, 33.33, 30.0, 33.33, 26.67, 36.67, 40.0, 26.67]\n",
      "Best score so far: 43.33\n"
     ]
    },
    {
     "name": "stderr",
     "output_type": "stream",
     "text": [
      "  4%|▍         | 5/120 [00:02<01:07,  1.70it/s]\n"
     ]
    },
    {
     "name": "stdout",
     "output_type": "stream",
     "text": [
      "Bootstrapped 1 full traces after 6 examples in round 0.\n"
     ]
    },
    {
     "name": "stderr",
     "output_type": "stream",
     "text": [
      "Average Metric: 10 / 30  (33.3): 100%|██████████| 30/30 [00:03<00:00,  7.52it/s]\n"
     ]
    },
    {
     "name": "stdout",
     "output_type": "stream",
     "text": [
      "Scores so far: [6.67, 43.33, 23.33, 36.67, 33.33, 30.0, 33.33, 26.67, 36.67, 40.0, 26.67, 33.33]\n",
      "Best score so far: 43.33\n"
     ]
    },
    {
     "name": "stderr",
     "output_type": "stream",
     "text": [
      "  1%|          | 1/120 [00:00<00:00, 1107.26it/s]\n"
     ]
    },
    {
     "name": "stdout",
     "output_type": "stream",
     "text": [
      "Bootstrapped 1 full traces after 2 examples in round 0.\n"
     ]
    },
    {
     "name": "stderr",
     "output_type": "stream",
     "text": [
      "Average Metric: 10 / 30  (33.3): 100%|██████████| 30/30 [00:00<00:00, 2859.62it/s]\n"
     ]
    },
    {
     "name": "stdout",
     "output_type": "stream",
     "text": [
      "Scores so far: [6.67, 43.33, 23.33, 36.67, 33.33, 30.0, 33.33, 26.67, 36.67, 40.0, 26.67, 33.33, 33.33]\n",
      "Best score so far: 43.33\n"
     ]
    },
    {
     "name": "stderr",
     "output_type": "stream",
     "text": [
      "  2%|▎         | 3/120 [00:00<00:00, 2227.06it/s]\n"
     ]
    },
    {
     "name": "stdout",
     "output_type": "stream",
     "text": [
      "Bootstrapped 1 full traces after 4 examples in round 0.\n"
     ]
    },
    {
     "name": "stderr",
     "output_type": "stream",
     "text": [
      "Average Metric: 13 / 30  (43.3): 100%|██████████| 30/30 [00:00<00:00, 4728.82it/s]\n"
     ]
    },
    {
     "name": "stdout",
     "output_type": "stream",
     "text": [
      "Scores so far: [6.67, 43.33, 23.33, 36.67, 33.33, 30.0, 33.33, 26.67, 36.67, 40.0, 26.67, 33.33, 33.33, 43.33]\n",
      "Best score so far: 43.33\n"
     ]
    },
    {
     "name": "stderr",
     "output_type": "stream",
     "text": [
      "  1%|          | 1/120 [00:00<00:00, 2563.76it/s]\n"
     ]
    },
    {
     "name": "stdout",
     "output_type": "stream",
     "text": [
      "Bootstrapped 1 full traces after 2 examples in round 0.\n"
     ]
    },
    {
     "name": "stderr",
     "output_type": "stream",
     "text": [
      "Average Metric: 10 / 30  (33.3): 100%|██████████| 30/30 [00:00<00:00, 4140.75it/s]\n"
     ]
    },
    {
     "name": "stdout",
     "output_type": "stream",
     "text": [
      "Scores so far: [6.67, 43.33, 23.33, 36.67, 33.33, 30.0, 33.33, 26.67, 36.67, 40.0, 26.67, 33.33, 33.33, 43.33, 33.33]\n",
      "Best score so far: 43.33\n"
     ]
    },
    {
     "name": "stderr",
     "output_type": "stream",
     "text": [
      "  2%|▏         | 2/120 [00:00<00:00, 2591.48it/s]\n"
     ]
    },
    {
     "name": "stdout",
     "output_type": "stream",
     "text": [
      "Bootstrapped 1 full traces after 3 examples in round 0.\n"
     ]
    },
    {
     "name": "stderr",
     "output_type": "stream",
     "text": [
      "Average Metric: 11 / 30  (36.7): 100%|██████████| 30/30 [00:00<00:00, 4012.28it/s]\n"
     ]
    },
    {
     "name": "stdout",
     "output_type": "stream",
     "text": [
      "Scores so far: [6.67, 43.33, 23.33, 36.67, 33.33, 30.0, 33.33, 26.67, 36.67, 40.0, 26.67, 33.33, 33.33, 43.33, 33.33, 36.67]\n",
      "Best score so far: 43.33\n"
     ]
    },
    {
     "name": "stderr",
     "output_type": "stream",
     "text": [
      "  1%|          | 1/120 [00:00<00:00, 2413.29it/s]\n"
     ]
    },
    {
     "name": "stdout",
     "output_type": "stream",
     "text": [
      "Bootstrapped 1 full traces after 2 examples in round 0.\n"
     ]
    },
    {
     "name": "stderr",
     "output_type": "stream",
     "text": [
      "Average Metric: 10 / 30  (33.3): 100%|██████████| 30/30 [00:00<00:00, 4007.42it/s]\n"
     ]
    },
    {
     "name": "stdout",
     "output_type": "stream",
     "text": [
      "Scores so far: [6.67, 43.33, 23.33, 36.67, 33.33, 30.0, 33.33, 26.67, 36.67, 40.0, 26.67, 33.33, 33.33, 43.33, 33.33, 36.67, 33.33]\n",
      "Best score so far: 43.33\n"
     ]
    },
    {
     "name": "stderr",
     "output_type": "stream",
     "text": [
      "  2%|▎         | 3/120 [00:01<00:54,  2.17it/s]\n"
     ]
    },
    {
     "name": "stdout",
     "output_type": "stream",
     "text": [
      "Bootstrapped 1 full traces after 4 examples in round 0.\n"
     ]
    },
    {
     "name": "stderr",
     "output_type": "stream",
     "text": [
      "Average Metric: 10 / 30  (33.3): 100%|██████████| 30/30 [00:03<00:00,  8.04it/s]\n"
     ]
    },
    {
     "name": "stdout",
     "output_type": "stream",
     "text": [
      "Scores so far: [6.67, 43.33, 23.33, 36.67, 33.33, 30.0, 33.33, 26.67, 36.67, 40.0, 26.67, 33.33, 33.33, 43.33, 33.33, 36.67, 33.33, 33.33]\n",
      "Best score so far: 43.33\n"
     ]
    },
    {
     "name": "stderr",
     "output_type": "stream",
     "text": [
      "  2%|▎         | 3/120 [00:00<00:00, 1726.05it/s]\n"
     ]
    },
    {
     "name": "stdout",
     "output_type": "stream",
     "text": [
      "Bootstrapped 1 full traces after 4 examples in round 0.\n"
     ]
    },
    {
     "name": "stderr",
     "output_type": "stream",
     "text": [
      "Average Metric: 11 / 30  (36.7): 100%|██████████| 30/30 [00:00<00:00, 4237.67it/s]\n",
      "Compiling models: 100%|██████████| 4/4 [05:33<00:00, 83.30s/it]"
     ]
    },
    {
     "name": "stdout",
     "output_type": "stream",
     "text": [
      "Scores so far: [6.67, 43.33, 23.33, 36.67, 33.33, 30.0, 33.33, 26.67, 36.67, 40.0, 26.67, 33.33, 33.33, 43.33, 33.33, 36.67, 33.33, 33.33, 36.67]\n",
      "Best score so far: 43.33\n",
      "19 candidate programs found.\n",
      "[('generate_answer', Predict(StringSignature(question, context -> reasoning, answer\n",
      "    instructions='Given the fields `question`, `context`, produce the fields `answer`.'\n",
      "    question = Field(annotation=str required=True json_schema_extra={'__dspy_field_type': 'input', 'prefix': 'Question:', 'desc': '${question}'})\n",
      "    context = Field(annotation=str required=True json_schema_extra={'__dspy_field_type': 'input', 'prefix': 'Context:', 'desc': '${context}'})\n",
      "    reasoning = Field(annotation=str required=True json_schema_extra={'prefix': \"Reasoning: Let's think step by step in order to\", 'desc': '${reasoning}', '__dspy_field_type': 'output'})\n",
      "    answer = Field(annotation=str required=True json_schema_extra={'__dspy_field_type': 'output', 'prefix': 'Answer:', 'desc': '${answer}'})\n",
      ")))]\n"
     ]
    },
    {
     "name": "stderr",
     "output_type": "stream",
     "text": [
      "\n"
     ]
    }
   ],
   "source": [
    "from tqdm import tqdm\n",
    "from itertools import product\n",
    "\n",
    "for (lang, train_set, val_set), (metric_name, metric_func) in tqdm(list(product(\n",
    "    [('inlang', inlang_train, inlang_val), ('en', en_train, en_val)],\n",
    "    [('F1', metric_F1), ('EM', metric_EM)]\n",
    ")), desc=\"Compiling models\"):\n",
    "        teleprompter = BootstrapFewShotWithRandomSearch(metric=metric_func, max_bootstrapped_demos=1)\n",
    "        cot_compiled = teleprompter.compile(CoT(), trainset=train_set, valset=val_set)\n",
    "        cot_compiled.save(f'code/{lang}_compiled_cot_{metric_name.lower()}.json')\n"
   ]
  },
  {
   "cell_type": "code",
   "execution_count": 13,
   "metadata": {},
   "outputs": [
    {
     "name": "stderr",
     "output_type": "stream",
     "text": [
      "Average Metric: 64 / 300  (21.3): 100%|██████████| 300/300 [00:00<00:00, 4602.43it/s]\n"
     ]
    },
    {
     "data": {
      "text/html": [
       "<style type=\"text/css\">\n",
       "#T_e1104 th {\n",
       "  text-align: left;\n",
       "}\n",
       "#T_e1104 td {\n",
       "  text-align: left;\n",
       "}\n",
       "#T_e1104_row0_col0, #T_e1104_row0_col1, #T_e1104_row0_col2, #T_e1104_row0_col3, #T_e1104_row0_col4, #T_e1104_row0_col5, #T_e1104_row1_col0, #T_e1104_row1_col1, #T_e1104_row1_col2, #T_e1104_row1_col3, #T_e1104_row1_col4, #T_e1104_row1_col5, #T_e1104_row2_col0, #T_e1104_row2_col1, #T_e1104_row2_col2, #T_e1104_row2_col3, #T_e1104_row2_col4, #T_e1104_row2_col5, #T_e1104_row3_col0, #T_e1104_row3_col1, #T_e1104_row3_col2, #T_e1104_row3_col3, #T_e1104_row3_col4, #T_e1104_row3_col5, #T_e1104_row4_col0, #T_e1104_row4_col1, #T_e1104_row4_col2, #T_e1104_row4_col3, #T_e1104_row4_col4, #T_e1104_row4_col5, #T_e1104_row5_col0, #T_e1104_row5_col1, #T_e1104_row5_col2, #T_e1104_row5_col3, #T_e1104_row5_col4, #T_e1104_row5_col5, #T_e1104_row6_col0, #T_e1104_row6_col1, #T_e1104_row6_col2, #T_e1104_row6_col3, #T_e1104_row6_col4, #T_e1104_row6_col5, #T_e1104_row7_col0, #T_e1104_row7_col1, #T_e1104_row7_col2, #T_e1104_row7_col3, #T_e1104_row7_col4, #T_e1104_row7_col5, #T_e1104_row8_col0, #T_e1104_row8_col1, #T_e1104_row8_col2, #T_e1104_row8_col3, #T_e1104_row8_col4, #T_e1104_row8_col5, #T_e1104_row9_col0, #T_e1104_row9_col1, #T_e1104_row9_col2, #T_e1104_row9_col3, #T_e1104_row9_col4, #T_e1104_row9_col5, #T_e1104_row10_col0, #T_e1104_row10_col1, #T_e1104_row10_col2, #T_e1104_row10_col3, #T_e1104_row10_col4, #T_e1104_row10_col5, #T_e1104_row11_col0, #T_e1104_row11_col1, #T_e1104_row11_col2, #T_e1104_row11_col3, #T_e1104_row11_col4, #T_e1104_row11_col5, #T_e1104_row12_col0, #T_e1104_row12_col1, #T_e1104_row12_col2, #T_e1104_row12_col3, #T_e1104_row12_col4, #T_e1104_row12_col5, #T_e1104_row13_col0, #T_e1104_row13_col1, #T_e1104_row13_col2, #T_e1104_row13_col3, #T_e1104_row13_col4, #T_e1104_row13_col5, #T_e1104_row14_col0, #T_e1104_row14_col1, #T_e1104_row14_col2, #T_e1104_row14_col3, #T_e1104_row14_col4, #T_e1104_row14_col5 {\n",
       "  text-align: left;\n",
       "  white-space: pre-wrap;\n",
       "  word-wrap: break-word;\n",
       "  max-width: 400px;\n",
       "}\n",
       "</style>\n",
       "<table id=\"T_e1104\">\n",
       "  <thead>\n",
       "    <tr>\n",
       "      <th class=\"blank level0\" >&nbsp;</th>\n",
       "      <th id=\"T_e1104_level0_col0\" class=\"col_heading level0 col0\" >question</th>\n",
       "      <th id=\"T_e1104_level0_col1\" class=\"col_heading level0 col1\" >context</th>\n",
       "      <th id=\"T_e1104_level0_col2\" class=\"col_heading level0 col2\" >example_answer</th>\n",
       "      <th id=\"T_e1104_level0_col3\" class=\"col_heading level0 col3\" >reasoning</th>\n",
       "      <th id=\"T_e1104_level0_col4\" class=\"col_heading level0 col4\" >pred_answer</th>\n",
       "      <th id=\"T_e1104_level0_col5\" class=\"col_heading level0 col5\" >answer_exact_match</th>\n",
       "    </tr>\n",
       "  </thead>\n",
       "  <tbody>\n",
       "    <tr>\n",
       "      <th id=\"T_e1104_level0_row0\" class=\"row_heading level0 row0\" >0</th>\n",
       "      <td id=\"T_e1104_row0_col0\" class=\"data row0 col0\" >Kuinka monta väriä on Nigerian lipussa?</td>\n",
       "      <td id=\"T_e1104_row0_col1\" class=\"data row0 col1\" >The flag of Nigeria is the official flag of the Federal Republic of Nigeria. It was designed in 1959 and was officially put into use...</td>\n",
       "      <td id=\"T_e1104_row0_col2\" class=\"data row0 col2\" >kaksi</td>\n",
       "      <td id=\"T_e1104_row0_col3\" class=\"data row0 col3\" >Not supplied for this particular example.</td>\n",
       "      <td id=\"T_e1104_row0_col4\" class=\"data row0 col4\" >3</td>\n",
       "      <td id=\"T_e1104_row0_col5\" class=\"data row0 col5\" ><class 'str'></td>\n",
       "    </tr>\n",
       "    <tr>\n",
       "      <th id=\"T_e1104_level0_row1\" class=\"row_heading level0 row1\" >1</th>\n",
       "      <td id=\"T_e1104_row1_col0\" class=\"data row1 col0\" >Kuka johti konfederaatiota Yhdysvaltojen sisällissodassa?</td>\n",
       "      <td id=\"T_e1104_row1_col1\" class=\"data row1 col1\" >New Orleans, however, surrendered to the Union on May 1, 1862. The economy was a problem for the Confederacy throughout its existence. Politicians did not...</td>\n",
       "      <td id=\"T_e1104_row1_col2\" class=\"data row1 col2\" >Jefferson Davis</td>\n",
       "      <td id=\"T_e1104_row1_col3\" class=\"data row1 col3\" >Not supplied for this particular example.</td>\n",
       "      <td id=\"T_e1104_row1_col4\" class=\"data row1 col4\" >Jefferson Davis</td>\n",
       "      <td id=\"T_e1104_row1_col5\" class=\"data row1 col5\" >✔️ [True]</td>\n",
       "    </tr>\n",
       "    <tr>\n",
       "      <th id=\"T_e1104_level0_row2\" class=\"row_heading level0 row2\" >2</th>\n",
       "      <td id=\"T_e1104_row2_col0\" class=\"data row2 col0\" >MItä tarkoittaa siirtymäalkuaine?</td>\n",
       "      <td id=\"T_e1104_row2_col1\" class=\"data row2 col1\" >The transition state is the point on the reaction coordinate of a chemical reaction where the group of atoms has the highest Gibbs energy value....</td>\n",
       "      <td id=\"T_e1104_row2_col2\" class=\"data row2 col2\" >elementtien siirtymäsarja</td>\n",
       "      <td id=\"T_e1104_row2_col3\" class=\"data row2 col3\" >Not supplied for this particular example.</td>\n",
       "      <td id=\"T_e1104_row2_col4\" class=\"data row2 col4\" >alkyliryhmän siirtymäalkuaine</td>\n",
       "      <td id=\"T_e1104_row2_col5\" class=\"data row2 col5\" ><class 'str'></td>\n",
       "    </tr>\n",
       "    <tr>\n",
       "      <th id=\"T_e1104_level0_row3\" class=\"row_heading level0 row3\" >3</th>\n",
       "      <td id=\"T_e1104_row3_col0\" class=\"data row3 col0\" >Miksi Liettuan sosialistinen neuvostotasavalta toimi vain vuoden?</td>\n",
       "      <td id=\"T_e1104_row3_col1\" class=\"data row3 col1\" >From 1940 to 1990, the Lithuanian Soviet Socialist Republic (, ) or Lithuanian SNT (, ) was one of the Soviet republics belonging to the...</td>\n",
       "      <td id=\"T_e1104_row3_col2\" class=\"data row3 col2\" >Operaatio Barbarossa</td>\n",
       "      <td id=\"T_e1104_row3_col3\" class=\"data row3 col3\" >Not supplied for this particular example.</td>\n",
       "      <td id=\"T_e1104_row3_col4\" class=\"data row3 col4\" >Neuvostoliiton hajoamisen vuoksi</td>\n",
       "      <td id=\"T_e1104_row3_col5\" class=\"data row3 col5\" ><class 'str'></td>\n",
       "    </tr>\n",
       "    <tr>\n",
       "      <th id=\"T_e1104_level0_row4\" class=\"row_heading level0 row4\" >4</th>\n",
       "      <td id=\"T_e1104_row4_col0\" class=\"data row4 col0\" >Milloin Dibleyn kirkon herraa aloitettiin esittämään Suomessa?</td>\n",
       "      <td id=\"T_e1104_row4_col1\" class=\"data row4 col1\" >The Vicar of Dibley () is a British sitcom created by Richard Curtis and written for its lead actress Dawn French. The series was shown...</td>\n",
       "      <td id=\"T_e1104_row4_col2\" class=\"data row4 col2\" >10. marraskuuta 1994</td>\n",
       "      <td id=\"T_e1104_row4_col3\" class=\"data row4 col3\" >Not supplied for this particular example.</td>\n",
       "      <td id=\"T_e1104_row4_col4\" class=\"data row4 col4\" >1994</td>\n",
       "      <td id=\"T_e1104_row4_col5\" class=\"data row4 col5\" ><class 'str'></td>\n",
       "    </tr>\n",
       "    <tr>\n",
       "      <th id=\"T_e1104_level0_row5\" class=\"row_heading level0 row5\" >5</th>\n",
       "      <td id=\"T_e1104_row5_col0\" class=\"data row5 col0\" >Milloin Itä-Rooma perustettiin?</td>\n",
       "      <td id=\"T_e1104_row5_col1\" class=\"data row5 col1\" >around the 14th century BC. The urbanization of Rome must have started in the 7th century BC. Over the centuries, Rome developed into a world...</td>\n",
       "      <td id=\"T_e1104_row5_col2\" class=\"data row5 col2\" >395</td>\n",
       "      <td id=\"T_e1104_row5_col3\" class=\"data row5 col3\" >Not supplied for this particular example.</td>\n",
       "      <td id=\"T_e1104_row5_col4\" class=\"data row5 col4\" >753 eaa.</td>\n",
       "      <td id=\"T_e1104_row5_col5\" class=\"data row5 col5\" ><class 'str'></td>\n",
       "    </tr>\n",
       "    <tr>\n",
       "      <th id=\"T_e1104_level0_row6\" class=\"row_heading level0 row6\" >6</th>\n",
       "      <td id=\"T_e1104_row6_col0\" class=\"data row6 col0\" >Milloin Rooman perustamistarina sai alkunsa?</td>\n",
       "      <td id=\"T_e1104_row6_col1\" class=\"data row6 col1\" >The story of the founding of Rome is a fable that describes the founding of the city of Rome. According to the legend, Rome was...</td>\n",
       "      <td id=\"T_e1104_row6_col2\" class=\"data row6 col2\" >21. huhtikuuta 753 eaa</td>\n",
       "      <td id=\"T_e1104_row6_col3\" class=\"data row6 col3\" >Not supplied for this particular example.</td>\n",
       "      <td id=\"T_e1104_row6_col4\" class=\"data row6 col4\" >21. huhtikuuta 753 eaa.</td>\n",
       "      <td id=\"T_e1104_row6_col5\" class=\"data row6 col5\" >✔️ [True]</td>\n",
       "    </tr>\n",
       "    <tr>\n",
       "      <th id=\"T_e1104_level0_row7\" class=\"row_heading level0 row7\" >7</th>\n",
       "      <td id=\"T_e1104_row7_col0\" class=\"data row7 col0\" >Missä on Nintendon pääkonttori?</td>\n",
       "      <td id=\"T_e1104_row7_col1\" class=\"data row7 col1\" >by October 2, 2008. In addition to its hardware, Nintendo has become known for its many game titles such as \"Mario\", \"Donkey Kong\", \"Kirby\", \"Metroid\",...</td>\n",
       "      <td id=\"T_e1104_row7_col2\" class=\"data row7 col2\" >Kioto ja Tokio</td>\n",
       "      <td id=\"T_e1104_row7_col3\" class=\"data row7 col3\" >Not supplied for this particular example.</td>\n",
       "      <td id=\"T_e1104_row7_col4\" class=\"data row7 col4\" >Kyoto</td>\n",
       "      <td id=\"T_e1104_row7_col5\" class=\"data row7 col5\" ><class 'str'></td>\n",
       "    </tr>\n",
       "    <tr>\n",
       "      <th id=\"T_e1104_level0_row8\" class=\"row_heading level0 row8\" >8</th>\n",
       "      <td id=\"T_e1104_row8_col0\" class=\"data row8 col0\" >Mistä hevoset ovat tulleet Suomeen?</td>\n",
       "      <td id=\"T_e1104_row8_col1\" class=\"data row8 col1\" >they could not be scheduled. Linguists also consider it possible that already in the Bronze Age they knew how to ride, based on the Germanic...</td>\n",
       "      <td id=\"T_e1104_row8_col2\" class=\"data row8 col2\" >1200-luvulla</td>\n",
       "      <td id=\"T_e1104_row8_col3\" class=\"data row8 col3\" >Not supplied for this particular example.</td>\n",
       "      <td id=\"T_e1104_row8_col4\" class=\"data row8 col4\" >Vikingit</td>\n",
       "      <td id=\"T_e1104_row8_col5\" class=\"data row8 col5\" ><class 'str'></td>\n",
       "    </tr>\n",
       "    <tr>\n",
       "      <th id=\"T_e1104_level0_row9\" class=\"row_heading level0 row9\" >9</th>\n",
       "      <td id=\"T_e1104_row9_col0\" class=\"data row9 col0\" >Miten määritellään pienoismalli?</td>\n",
       "      <td id=\"T_e1104_row9_col1\" class=\"data row9 col1\" >A miniature model is a significantly smaller copy of an object, building or other object than the original. Common are e.g. Vehicle-themed miniature models, as...</td>\n",
       "      <td id=\"T_e1104_row9_col2\" class=\"data row9 col2\" >pieni kuva, jota käytetään korostamaan muinaista tai keskiaikaista valaistua käsikirjoitusta</td>\n",
       "      <td id=\"T_e1104_row9_col3\" class=\"data row9 col3\" >Not supplied for this particular example.</td>\n",
       "      <td id=\"T_e1104_row9_col4\" class=\"data row9 col4\" >pienempi kuin alkuperäinen</td>\n",
       "      <td id=\"T_e1104_row9_col5\" class=\"data row9 col5\" ><class 'str'></td>\n",
       "    </tr>\n",
       "    <tr>\n",
       "      <th id=\"T_e1104_level0_row10\" class=\"row_heading level0 row10\" >10</th>\n",
       "      <td id=\"T_e1104_row10_col0\" class=\"data row10 col0\" >Miten persoonallisuushäiriö syntyy?</td>\n",
       "      <td id=\"T_e1104_row10_col1\" class=\"data row10 col1\" >Personality disorders are developmental conditions classified as mental health disorders that begin in childhood or adolescence and continue into adulthood. Personality disorders can cause serious...</td>\n",
       "      <td id=\"T_e1104_row10_col2\" class=\"data row10 col2\" >Nämä kehittyvät aikaisin, ne ovat joustamattomia ja liittyvät merkittävään ahdistukseen tai vammaisuuteen</td>\n",
       "      <td id=\"T_e1104_row10_col3\" class=\"data row10 col3\" >Not supplied for this particular example.</td>\n",
       "      <td id=\"T_e1104_row10_col4\" class=\"data row10 col4\" >lapsivaiheessa</td>\n",
       "      <td id=\"T_e1104_row10_col5\" class=\"data row10 col5\" ><class 'str'></td>\n",
       "    </tr>\n",
       "    <tr>\n",
       "      <th id=\"T_e1104_level0_row11\" class=\"row_heading level0 row11\" >11</th>\n",
       "      <td id=\"T_e1104_row11_col0\" class=\"data row11 col0\" >Mitä aminohapot tekevät?</td>\n",
       "      <td id=\"T_e1104_row11_col1\" class=\"data row11 col1\" >Amino acids are organic compounds that have both an amino (-NH) and a carboxyl group (-COOH) attached to the same molecule. The amino group is...</td>\n",
       "      <td id=\"T_e1104_row11_col2\" class=\"data row11 col2\" >polymeroituvat polypeptideiksi. Polypeptidiketjun pituuden ylittäessä 50 sitä aletaan yleensä kutsua proteiiniksi</td>\n",
       "      <td id=\"T_e1104_row11_col3\" class=\"data row11 col3\" >Not supplied for this particular example.</td>\n",
       "      <td id=\"T_e1104_row11_col4\" class=\"data row11 col4\" >tekevät proteiinia</td>\n",
       "      <td id=\"T_e1104_row11_col5\" class=\"data row11 col5\" ><class 'str'></td>\n",
       "    </tr>\n",
       "    <tr>\n",
       "      <th id=\"T_e1104_level0_row12\" class=\"row_heading level0 row12\" >12</th>\n",
       "      <td id=\"T_e1104_row12_col0\" class=\"data row12 col0\" >Montako puhujaa Gudžaratin kielellä on?</td>\n",
       "      <td id=\"T_e1104_row12_col1\" class=\"data row12 col1\" >Gujarati is an Indo-Aryan language. Most of its speakers live in India and it is the main language of the state of Gujarat. Gujarati has...</td>\n",
       "      <td id=\"T_e1104_row12_col2\" class=\"data row12 col2\" >yli 55 miljoonaa</td>\n",
       "      <td id=\"T_e1104_row12_col3\" class=\"data row12 col3\" >Not supplied for this particular example.</td>\n",
       "      <td id=\"T_e1104_row12_col4\" class=\"data row12 col4\" >46 miljoonaa</td>\n",
       "      <td id=\"T_e1104_row12_col5\" class=\"data row12 col5\" ><class 'str'></td>\n",
       "    </tr>\n",
       "    <tr>\n",
       "      <th id=\"T_e1104_level0_row13\" class=\"row_heading level0 row13\" >13</th>\n",
       "      <td id=\"T_e1104_row13_col0\" class=\"data row13 col0\" >Onko Anderson \"The Spider\" Silva voittanut vapaaottelun maailman mestaruutta?</td>\n",
       "      <td id=\"T_e1104_row13_col1\" class=\"data row13 col1\" >Anderson da Silva (born April 14, 1975), also known as Anderson \"The Spider\" Silva, is a Brazilian freestyle wrestler. He has fought in the middle...</td>\n",
       "      <td id=\"T_e1104_row13_col2\" class=\"data row13 col2\" >yes</td>\n",
       "      <td id=\"T_e1104_row13_col3\" class=\"data row13 col3\" >Not supplied for this particular example.</td>\n",
       "      <td id=\"T_e1104_row13_col4\" class=\"data row13 col4\" >yes</td>\n",
       "      <td id=\"T_e1104_row13_col5\" class=\"data row13 col5\" >✔️ [True]</td>\n",
       "    </tr>\n",
       "    <tr>\n",
       "      <th id=\"T_e1104_level0_row14\" class=\"row_heading level0 row14\" >14</th>\n",
       "      <td id=\"T_e1104_row14_col0\" class=\"data row14 col0\" >Onko Antti Karhula pelannut jääkiekkoa Ranskassa?</td>\n",
       "      <td id=\"T_e1104_row14_col1\" class=\"data row14 col1\" >Antti Karhula (born March 23, 1976 in Oulu) is a Finnish ice hockey coach and former center forward. Karhula played most of his playing career...</td>\n",
       "      <td id=\"T_e1104_row14_col2\" class=\"data row14 col2\" >yes</td>\n",
       "      <td id=\"T_e1104_row14_col3\" class=\"data row14 col3\" >Not supplied for this particular example.</td>\n",
       "      <td id=\"T_e1104_row14_col4\" class=\"data row14 col4\" >yes</td>\n",
       "      <td id=\"T_e1104_row14_col5\" class=\"data row14 col5\" >✔️ [True]</td>\n",
       "    </tr>\n",
       "  </tbody>\n",
       "</table>\n"
      ],
      "text/plain": [
       "<pandas.io.formats.style.Styler at 0x33f59a1d0>"
      ]
     },
     "metadata": {},
     "output_type": "display_data"
    },
    {
     "data": {
      "text/html": [
       "\n",
       "                <div style='\n",
       "                    text-align: center;\n",
       "                    font-size: 16px;\n",
       "                    font-weight: bold;\n",
       "                    color: #555;\n",
       "                    margin: 10px 0;'>\n",
       "                    ... 285 more rows not displayed ...\n",
       "                </div>\n",
       "                "
      ],
      "text/plain": [
       "<IPython.core.display.HTML object>"
      ]
     },
     "metadata": {},
     "output_type": "display_data"
    },
    {
     "name": "stderr",
     "output_type": "stream",
     "text": [
      "Average Metric: 76.6908072319837 / 300  (25.6): 100%|██████████| 300/300 [00:00<00:00, 4590.04it/s]  \n"
     ]
    },
    {
     "data": {
      "text/html": [
       "<style type=\"text/css\">\n",
       "#T_16bd5 th {\n",
       "  text-align: left;\n",
       "}\n",
       "#T_16bd5 td {\n",
       "  text-align: left;\n",
       "}\n",
       "#T_16bd5_row0_col0, #T_16bd5_row0_col1, #T_16bd5_row0_col2, #T_16bd5_row0_col3, #T_16bd5_row0_col4, #T_16bd5_row0_col5, #T_16bd5_row1_col0, #T_16bd5_row1_col1, #T_16bd5_row1_col2, #T_16bd5_row1_col3, #T_16bd5_row1_col4, #T_16bd5_row1_col5, #T_16bd5_row2_col0, #T_16bd5_row2_col1, #T_16bd5_row2_col2, #T_16bd5_row2_col3, #T_16bd5_row2_col4, #T_16bd5_row2_col5, #T_16bd5_row3_col0, #T_16bd5_row3_col1, #T_16bd5_row3_col2, #T_16bd5_row3_col3, #T_16bd5_row3_col4, #T_16bd5_row3_col5, #T_16bd5_row4_col0, #T_16bd5_row4_col1, #T_16bd5_row4_col2, #T_16bd5_row4_col3, #T_16bd5_row4_col4, #T_16bd5_row4_col5, #T_16bd5_row5_col0, #T_16bd5_row5_col1, #T_16bd5_row5_col2, #T_16bd5_row5_col3, #T_16bd5_row5_col4, #T_16bd5_row5_col5, #T_16bd5_row6_col0, #T_16bd5_row6_col1, #T_16bd5_row6_col2, #T_16bd5_row6_col3, #T_16bd5_row6_col4, #T_16bd5_row6_col5, #T_16bd5_row7_col0, #T_16bd5_row7_col1, #T_16bd5_row7_col2, #T_16bd5_row7_col3, #T_16bd5_row7_col4, #T_16bd5_row7_col5, #T_16bd5_row8_col0, #T_16bd5_row8_col1, #T_16bd5_row8_col2, #T_16bd5_row8_col3, #T_16bd5_row8_col4, #T_16bd5_row8_col5, #T_16bd5_row9_col0, #T_16bd5_row9_col1, #T_16bd5_row9_col2, #T_16bd5_row9_col3, #T_16bd5_row9_col4, #T_16bd5_row9_col5, #T_16bd5_row10_col0, #T_16bd5_row10_col1, #T_16bd5_row10_col2, #T_16bd5_row10_col3, #T_16bd5_row10_col4, #T_16bd5_row10_col5, #T_16bd5_row11_col0, #T_16bd5_row11_col1, #T_16bd5_row11_col2, #T_16bd5_row11_col3, #T_16bd5_row11_col4, #T_16bd5_row11_col5, #T_16bd5_row12_col0, #T_16bd5_row12_col1, #T_16bd5_row12_col2, #T_16bd5_row12_col3, #T_16bd5_row12_col4, #T_16bd5_row12_col5, #T_16bd5_row13_col0, #T_16bd5_row13_col1, #T_16bd5_row13_col2, #T_16bd5_row13_col3, #T_16bd5_row13_col4, #T_16bd5_row13_col5, #T_16bd5_row14_col0, #T_16bd5_row14_col1, #T_16bd5_row14_col2, #T_16bd5_row14_col3, #T_16bd5_row14_col4, #T_16bd5_row14_col5 {\n",
       "  text-align: left;\n",
       "  white-space: pre-wrap;\n",
       "  word-wrap: break-word;\n",
       "  max-width: 400px;\n",
       "}\n",
       "</style>\n",
       "<table id=\"T_16bd5\">\n",
       "  <thead>\n",
       "    <tr>\n",
       "      <th class=\"blank level0\" >&nbsp;</th>\n",
       "      <th id=\"T_16bd5_level0_col0\" class=\"col_heading level0 col0\" >question</th>\n",
       "      <th id=\"T_16bd5_level0_col1\" class=\"col_heading level0 col1\" >context</th>\n",
       "      <th id=\"T_16bd5_level0_col2\" class=\"col_heading level0 col2\" >example_answer</th>\n",
       "      <th id=\"T_16bd5_level0_col3\" class=\"col_heading level0 col3\" >reasoning</th>\n",
       "      <th id=\"T_16bd5_level0_col4\" class=\"col_heading level0 col4\" >pred_answer</th>\n",
       "      <th id=\"T_16bd5_level0_col5\" class=\"col_heading level0 col5\" >answer_f1_score</th>\n",
       "    </tr>\n",
       "  </thead>\n",
       "  <tbody>\n",
       "    <tr>\n",
       "      <th id=\"T_16bd5_level0_row0\" class=\"row_heading level0 row0\" >0</th>\n",
       "      <td id=\"T_16bd5_row0_col0\" class=\"data row0 col0\" >Kuinka monta väriä on Nigerian lipussa?</td>\n",
       "      <td id=\"T_16bd5_row0_col1\" class=\"data row0 col1\" >The flag of Nigeria is the official flag of the Federal Republic of Nigeria. It was designed in 1959 and was officially put into use...</td>\n",
       "      <td id=\"T_16bd5_row0_col2\" class=\"data row0 col2\" >kaksi</td>\n",
       "      <td id=\"T_16bd5_row0_col3\" class=\"data row0 col3\" >Not supplied for this particular example.</td>\n",
       "      <td id=\"T_16bd5_row0_col4\" class=\"data row0 col4\" >3</td>\n",
       "      <td id=\"T_16bd5_row0_col5\" class=\"data row0 col5\" ><class 'str'></td>\n",
       "    </tr>\n",
       "    <tr>\n",
       "      <th id=\"T_16bd5_level0_row1\" class=\"row_heading level0 row1\" >1</th>\n",
       "      <td id=\"T_16bd5_row1_col0\" class=\"data row1 col0\" >Kuka johti konfederaatiota Yhdysvaltojen sisällissodassa?</td>\n",
       "      <td id=\"T_16bd5_row1_col1\" class=\"data row1 col1\" >New Orleans, however, surrendered to the Union on May 1, 1862. The economy was a problem for the Confederacy throughout its existence. Politicians did not...</td>\n",
       "      <td id=\"T_16bd5_row1_col2\" class=\"data row1 col2\" >Jefferson Davis</td>\n",
       "      <td id=\"T_16bd5_row1_col3\" class=\"data row1 col3\" >Not supplied for this particular example.</td>\n",
       "      <td id=\"T_16bd5_row1_col4\" class=\"data row1 col4\" >Jefferson Davis</td>\n",
       "      <td id=\"T_16bd5_row1_col5\" class=\"data row1 col5\" >✔️ [1.0]</td>\n",
       "    </tr>\n",
       "    <tr>\n",
       "      <th id=\"T_16bd5_level0_row2\" class=\"row_heading level0 row2\" >2</th>\n",
       "      <td id=\"T_16bd5_row2_col0\" class=\"data row2 col0\" >MItä tarkoittaa siirtymäalkuaine?</td>\n",
       "      <td id=\"T_16bd5_row2_col1\" class=\"data row2 col1\" >The transition state is the point on the reaction coordinate of a chemical reaction where the group of atoms has the highest Gibbs energy value....</td>\n",
       "      <td id=\"T_16bd5_row2_col2\" class=\"data row2 col2\" >elementtien siirtymäsarja</td>\n",
       "      <td id=\"T_16bd5_row2_col3\" class=\"data row2 col3\" >Not supplied for this particular example.</td>\n",
       "      <td id=\"T_16bd5_row2_col4\" class=\"data row2 col4\" >alkyliryhmän siirtymäalkuaine</td>\n",
       "      <td id=\"T_16bd5_row2_col5\" class=\"data row2 col5\" ><class 'str'></td>\n",
       "    </tr>\n",
       "    <tr>\n",
       "      <th id=\"T_16bd5_level0_row3\" class=\"row_heading level0 row3\" >3</th>\n",
       "      <td id=\"T_16bd5_row3_col0\" class=\"data row3 col0\" >Miksi Liettuan sosialistinen neuvostotasavalta toimi vain vuoden?</td>\n",
       "      <td id=\"T_16bd5_row3_col1\" class=\"data row3 col1\" >From 1940 to 1990, the Lithuanian Soviet Socialist Republic (, ) or Lithuanian SNT (, ) was one of the Soviet republics belonging to the...</td>\n",
       "      <td id=\"T_16bd5_row3_col2\" class=\"data row3 col2\" >Operaatio Barbarossa</td>\n",
       "      <td id=\"T_16bd5_row3_col3\" class=\"data row3 col3\" >Not supplied for this particular example.</td>\n",
       "      <td id=\"T_16bd5_row3_col4\" class=\"data row3 col4\" >Neuvostoliiton hajoamisen vuoksi</td>\n",
       "      <td id=\"T_16bd5_row3_col5\" class=\"data row3 col5\" ><class 'str'></td>\n",
       "    </tr>\n",
       "    <tr>\n",
       "      <th id=\"T_16bd5_level0_row4\" class=\"row_heading level0 row4\" >4</th>\n",
       "      <td id=\"T_16bd5_row4_col0\" class=\"data row4 col0\" >Milloin Dibleyn kirkon herraa aloitettiin esittämään Suomessa?</td>\n",
       "      <td id=\"T_16bd5_row4_col1\" class=\"data row4 col1\" >The Vicar of Dibley () is a British sitcom created by Richard Curtis and written for its lead actress Dawn French. The series was shown...</td>\n",
       "      <td id=\"T_16bd5_row4_col2\" class=\"data row4 col2\" >10. marraskuuta 1994</td>\n",
       "      <td id=\"T_16bd5_row4_col3\" class=\"data row4 col3\" >Not supplied for this particular example.</td>\n",
       "      <td id=\"T_16bd5_row4_col4\" class=\"data row4 col4\" >1994</td>\n",
       "      <td id=\"T_16bd5_row4_col5\" class=\"data row4 col5\" >✔️ [0.5]</td>\n",
       "    </tr>\n",
       "    <tr>\n",
       "      <th id=\"T_16bd5_level0_row5\" class=\"row_heading level0 row5\" >5</th>\n",
       "      <td id=\"T_16bd5_row5_col0\" class=\"data row5 col0\" >Milloin Itä-Rooma perustettiin?</td>\n",
       "      <td id=\"T_16bd5_row5_col1\" class=\"data row5 col1\" >around the 14th century BC. The urbanization of Rome must have started in the 7th century BC. Over the centuries, Rome developed into a world...</td>\n",
       "      <td id=\"T_16bd5_row5_col2\" class=\"data row5 col2\" >395</td>\n",
       "      <td id=\"T_16bd5_row5_col3\" class=\"data row5 col3\" >Not supplied for this particular example.</td>\n",
       "      <td id=\"T_16bd5_row5_col4\" class=\"data row5 col4\" >753 eaa.</td>\n",
       "      <td id=\"T_16bd5_row5_col5\" class=\"data row5 col5\" ><class 'str'></td>\n",
       "    </tr>\n",
       "    <tr>\n",
       "      <th id=\"T_16bd5_level0_row6\" class=\"row_heading level0 row6\" >6</th>\n",
       "      <td id=\"T_16bd5_row6_col0\" class=\"data row6 col0\" >Milloin Rooman perustamistarina sai alkunsa?</td>\n",
       "      <td id=\"T_16bd5_row6_col1\" class=\"data row6 col1\" >The story of the founding of Rome is a fable that describes the founding of the city of Rome. According to the legend, Rome was...</td>\n",
       "      <td id=\"T_16bd5_row6_col2\" class=\"data row6 col2\" >21. huhtikuuta 753 eaa</td>\n",
       "      <td id=\"T_16bd5_row6_col3\" class=\"data row6 col3\" >Not supplied for this particular example.</td>\n",
       "      <td id=\"T_16bd5_row6_col4\" class=\"data row6 col4\" >21. huhtikuuta 753 eaa.</td>\n",
       "      <td id=\"T_16bd5_row6_col5\" class=\"data row6 col5\" >✔️ [1.0]</td>\n",
       "    </tr>\n",
       "    <tr>\n",
       "      <th id=\"T_16bd5_level0_row7\" class=\"row_heading level0 row7\" >7</th>\n",
       "      <td id=\"T_16bd5_row7_col0\" class=\"data row7 col0\" >Missä on Nintendon pääkonttori?</td>\n",
       "      <td id=\"T_16bd5_row7_col1\" class=\"data row7 col1\" >by October 2, 2008. In addition to its hardware, Nintendo has become known for its many game titles such as \"Mario\", \"Donkey Kong\", \"Kirby\", \"Metroid\",...</td>\n",
       "      <td id=\"T_16bd5_row7_col2\" class=\"data row7 col2\" >Kioto ja Tokio</td>\n",
       "      <td id=\"T_16bd5_row7_col3\" class=\"data row7 col3\" >Not supplied for this particular example.</td>\n",
       "      <td id=\"T_16bd5_row7_col4\" class=\"data row7 col4\" >Kyoto</td>\n",
       "      <td id=\"T_16bd5_row7_col5\" class=\"data row7 col5\" ><class 'str'></td>\n",
       "    </tr>\n",
       "    <tr>\n",
       "      <th id=\"T_16bd5_level0_row8\" class=\"row_heading level0 row8\" >8</th>\n",
       "      <td id=\"T_16bd5_row8_col0\" class=\"data row8 col0\" >Mistä hevoset ovat tulleet Suomeen?</td>\n",
       "      <td id=\"T_16bd5_row8_col1\" class=\"data row8 col1\" >they could not be scheduled. Linguists also consider it possible that already in the Bronze Age they knew how to ride, based on the Germanic...</td>\n",
       "      <td id=\"T_16bd5_row8_col2\" class=\"data row8 col2\" >1200-luvulla</td>\n",
       "      <td id=\"T_16bd5_row8_col3\" class=\"data row8 col3\" >Not supplied for this particular example.</td>\n",
       "      <td id=\"T_16bd5_row8_col4\" class=\"data row8 col4\" >Vikingit</td>\n",
       "      <td id=\"T_16bd5_row8_col5\" class=\"data row8 col5\" ><class 'str'></td>\n",
       "    </tr>\n",
       "    <tr>\n",
       "      <th id=\"T_16bd5_level0_row9\" class=\"row_heading level0 row9\" >9</th>\n",
       "      <td id=\"T_16bd5_row9_col0\" class=\"data row9 col0\" >Miten määritellään pienoismalli?</td>\n",
       "      <td id=\"T_16bd5_row9_col1\" class=\"data row9 col1\" >A miniature model is a significantly smaller copy of an object, building or other object than the original. Common are e.g. Vehicle-themed miniature models, as...</td>\n",
       "      <td id=\"T_16bd5_row9_col2\" class=\"data row9 col2\" >pieni kuva, jota käytetään korostamaan muinaista tai keskiaikaista valaistua käsikirjoitusta</td>\n",
       "      <td id=\"T_16bd5_row9_col3\" class=\"data row9 col3\" >Not supplied for this particular example.</td>\n",
       "      <td id=\"T_16bd5_row9_col4\" class=\"data row9 col4\" >pienempi kuin alkuperäinen</td>\n",
       "      <td id=\"T_16bd5_row9_col5\" class=\"data row9 col5\" ><class 'str'></td>\n",
       "    </tr>\n",
       "    <tr>\n",
       "      <th id=\"T_16bd5_level0_row10\" class=\"row_heading level0 row10\" >10</th>\n",
       "      <td id=\"T_16bd5_row10_col0\" class=\"data row10 col0\" >Miten persoonallisuushäiriö syntyy?</td>\n",
       "      <td id=\"T_16bd5_row10_col1\" class=\"data row10 col1\" >Personality disorders are developmental conditions classified as mental health disorders that begin in childhood or adolescence and continue into adulthood. Personality disorders can cause serious...</td>\n",
       "      <td id=\"T_16bd5_row10_col2\" class=\"data row10 col2\" >Nämä kehittyvät aikaisin, ne ovat joustamattomia ja liittyvät merkittävään ahdistukseen tai vammaisuuteen</td>\n",
       "      <td id=\"T_16bd5_row10_col3\" class=\"data row10 col3\" >Not supplied for this particular example.</td>\n",
       "      <td id=\"T_16bd5_row10_col4\" class=\"data row10 col4\" >lapsivaiheessa</td>\n",
       "      <td id=\"T_16bd5_row10_col5\" class=\"data row10 col5\" ><class 'str'></td>\n",
       "    </tr>\n",
       "    <tr>\n",
       "      <th id=\"T_16bd5_level0_row11\" class=\"row_heading level0 row11\" >11</th>\n",
       "      <td id=\"T_16bd5_row11_col0\" class=\"data row11 col0\" >Mitä aminohapot tekevät?</td>\n",
       "      <td id=\"T_16bd5_row11_col1\" class=\"data row11 col1\" >Amino acids are organic compounds that have both an amino (-NH) and a carboxyl group (-COOH) attached to the same molecule. The amino group is...</td>\n",
       "      <td id=\"T_16bd5_row11_col2\" class=\"data row11 col2\" >polymeroituvat polypeptideiksi. Polypeptidiketjun pituuden ylittäessä 50 sitä aletaan yleensä kutsua proteiiniksi</td>\n",
       "      <td id=\"T_16bd5_row11_col3\" class=\"data row11 col3\" >Not supplied for this particular example.</td>\n",
       "      <td id=\"T_16bd5_row11_col4\" class=\"data row11 col4\" >tekevät proteiinia</td>\n",
       "      <td id=\"T_16bd5_row11_col5\" class=\"data row11 col5\" ><class 'str'></td>\n",
       "    </tr>\n",
       "    <tr>\n",
       "      <th id=\"T_16bd5_level0_row12\" class=\"row_heading level0 row12\" >12</th>\n",
       "      <td id=\"T_16bd5_row12_col0\" class=\"data row12 col0\" >Montako puhujaa Gudžaratin kielellä on?</td>\n",
       "      <td id=\"T_16bd5_row12_col1\" class=\"data row12 col1\" >Gujarati is an Indo-Aryan language. Most of its speakers live in India and it is the main language of the state of Gujarat. Gujarati has...</td>\n",
       "      <td id=\"T_16bd5_row12_col2\" class=\"data row12 col2\" >yli 55 miljoonaa</td>\n",
       "      <td id=\"T_16bd5_row12_col3\" class=\"data row12 col3\" >Not supplied for this particular example.</td>\n",
       "      <td id=\"T_16bd5_row12_col4\" class=\"data row12 col4\" >46 miljoonaa</td>\n",
       "      <td id=\"T_16bd5_row12_col5\" class=\"data row12 col5\" >✔️ [0.4]</td>\n",
       "    </tr>\n",
       "    <tr>\n",
       "      <th id=\"T_16bd5_level0_row13\" class=\"row_heading level0 row13\" >13</th>\n",
       "      <td id=\"T_16bd5_row13_col0\" class=\"data row13 col0\" >Onko Anderson \"The Spider\" Silva voittanut vapaaottelun maailman mestaruutta?</td>\n",
       "      <td id=\"T_16bd5_row13_col1\" class=\"data row13 col1\" >Anderson da Silva (born April 14, 1975), also known as Anderson \"The Spider\" Silva, is a Brazilian freestyle wrestler. He has fought in the middle...</td>\n",
       "      <td id=\"T_16bd5_row13_col2\" class=\"data row13 col2\" >yes</td>\n",
       "      <td id=\"T_16bd5_row13_col3\" class=\"data row13 col3\" >Not supplied for this particular example.</td>\n",
       "      <td id=\"T_16bd5_row13_col4\" class=\"data row13 col4\" >yes</td>\n",
       "      <td id=\"T_16bd5_row13_col5\" class=\"data row13 col5\" >✔️ [1.0]</td>\n",
       "    </tr>\n",
       "    <tr>\n",
       "      <th id=\"T_16bd5_level0_row14\" class=\"row_heading level0 row14\" >14</th>\n",
       "      <td id=\"T_16bd5_row14_col0\" class=\"data row14 col0\" >Onko Antti Karhula pelannut jääkiekkoa Ranskassa?</td>\n",
       "      <td id=\"T_16bd5_row14_col1\" class=\"data row14 col1\" >Antti Karhula (born March 23, 1976 in Oulu) is a Finnish ice hockey coach and former center forward. Karhula played most of his playing career...</td>\n",
       "      <td id=\"T_16bd5_row14_col2\" class=\"data row14 col2\" >yes</td>\n",
       "      <td id=\"T_16bd5_row14_col3\" class=\"data row14 col3\" >Not supplied for this particular example.</td>\n",
       "      <td id=\"T_16bd5_row14_col4\" class=\"data row14 col4\" >yes</td>\n",
       "      <td id=\"T_16bd5_row14_col5\" class=\"data row14 col5\" >✔️ [1.0]</td>\n",
       "    </tr>\n",
       "  </tbody>\n",
       "</table>\n"
      ],
      "text/plain": [
       "<pandas.io.formats.style.Styler at 0x3439f2f10>"
      ]
     },
     "metadata": {},
     "output_type": "display_data"
    },
    {
     "data": {
      "text/html": [
       "\n",
       "                <div style='\n",
       "                    text-align: center;\n",
       "                    font-size: 16px;\n",
       "                    font-weight: bold;\n",
       "                    color: #555;\n",
       "                    margin: 10px 0;'>\n",
       "                    ... 285 more rows not displayed ...\n",
       "                </div>\n",
       "                "
      ],
      "text/plain": [
       "<IPython.core.display.HTML object>"
      ]
     },
     "metadata": {},
     "output_type": "display_data"
    },
    {
     "name": "stderr",
     "output_type": "stream",
     "text": []
    },
    {
     "name": "stdout",
     "output_type": "stream",
     "text": [
      "inlang F1 exact match 21.33 f1 25.56\n"
     ]
    },
    {
     "name": "stderr",
     "output_type": "stream",
     "text": [
      "Average Metric: 39 / 300  (13.0): 100%|██████████| 300/300 [00:01<00:00, 161.08it/s] \n"
     ]
    },
    {
     "data": {
      "text/html": [
       "<style type=\"text/css\">\n",
       "#T_bbcdd th {\n",
       "  text-align: left;\n",
       "}\n",
       "#T_bbcdd td {\n",
       "  text-align: left;\n",
       "}\n",
       "#T_bbcdd_row0_col0, #T_bbcdd_row0_col1, #T_bbcdd_row0_col2, #T_bbcdd_row0_col3, #T_bbcdd_row0_col4, #T_bbcdd_row0_col5, #T_bbcdd_row1_col0, #T_bbcdd_row1_col1, #T_bbcdd_row1_col2, #T_bbcdd_row1_col3, #T_bbcdd_row1_col4, #T_bbcdd_row1_col5, #T_bbcdd_row2_col0, #T_bbcdd_row2_col1, #T_bbcdd_row2_col2, #T_bbcdd_row2_col3, #T_bbcdd_row2_col4, #T_bbcdd_row2_col5, #T_bbcdd_row3_col0, #T_bbcdd_row3_col1, #T_bbcdd_row3_col2, #T_bbcdd_row3_col3, #T_bbcdd_row3_col4, #T_bbcdd_row3_col5, #T_bbcdd_row4_col0, #T_bbcdd_row4_col1, #T_bbcdd_row4_col2, #T_bbcdd_row4_col3, #T_bbcdd_row4_col4, #T_bbcdd_row4_col5, #T_bbcdd_row5_col0, #T_bbcdd_row5_col1, #T_bbcdd_row5_col2, #T_bbcdd_row5_col3, #T_bbcdd_row5_col4, #T_bbcdd_row5_col5, #T_bbcdd_row6_col0, #T_bbcdd_row6_col1, #T_bbcdd_row6_col2, #T_bbcdd_row6_col3, #T_bbcdd_row6_col4, #T_bbcdd_row6_col5, #T_bbcdd_row7_col0, #T_bbcdd_row7_col1, #T_bbcdd_row7_col2, #T_bbcdd_row7_col3, #T_bbcdd_row7_col4, #T_bbcdd_row7_col5, #T_bbcdd_row8_col0, #T_bbcdd_row8_col1, #T_bbcdd_row8_col2, #T_bbcdd_row8_col3, #T_bbcdd_row8_col4, #T_bbcdd_row8_col5, #T_bbcdd_row9_col0, #T_bbcdd_row9_col1, #T_bbcdd_row9_col2, #T_bbcdd_row9_col3, #T_bbcdd_row9_col4, #T_bbcdd_row9_col5, #T_bbcdd_row10_col0, #T_bbcdd_row10_col1, #T_bbcdd_row10_col2, #T_bbcdd_row10_col3, #T_bbcdd_row10_col4, #T_bbcdd_row10_col5, #T_bbcdd_row11_col0, #T_bbcdd_row11_col1, #T_bbcdd_row11_col2, #T_bbcdd_row11_col3, #T_bbcdd_row11_col4, #T_bbcdd_row11_col5, #T_bbcdd_row12_col0, #T_bbcdd_row12_col1, #T_bbcdd_row12_col2, #T_bbcdd_row12_col3, #T_bbcdd_row12_col4, #T_bbcdd_row12_col5, #T_bbcdd_row13_col0, #T_bbcdd_row13_col1, #T_bbcdd_row13_col2, #T_bbcdd_row13_col3, #T_bbcdd_row13_col4, #T_bbcdd_row13_col5, #T_bbcdd_row14_col0, #T_bbcdd_row14_col1, #T_bbcdd_row14_col2, #T_bbcdd_row14_col3, #T_bbcdd_row14_col4, #T_bbcdd_row14_col5 {\n",
       "  text-align: left;\n",
       "  white-space: pre-wrap;\n",
       "  word-wrap: break-word;\n",
       "  max-width: 400px;\n",
       "}\n",
       "</style>\n",
       "<table id=\"T_bbcdd\">\n",
       "  <thead>\n",
       "    <tr>\n",
       "      <th class=\"blank level0\" >&nbsp;</th>\n",
       "      <th id=\"T_bbcdd_level0_col0\" class=\"col_heading level0 col0\" >question</th>\n",
       "      <th id=\"T_bbcdd_level0_col1\" class=\"col_heading level0 col1\" >context</th>\n",
       "      <th id=\"T_bbcdd_level0_col2\" class=\"col_heading level0 col2\" >example_answer</th>\n",
       "      <th id=\"T_bbcdd_level0_col3\" class=\"col_heading level0 col3\" >reasoning</th>\n",
       "      <th id=\"T_bbcdd_level0_col4\" class=\"col_heading level0 col4\" >pred_answer</th>\n",
       "      <th id=\"T_bbcdd_level0_col5\" class=\"col_heading level0 col5\" >answer_exact_match</th>\n",
       "    </tr>\n",
       "  </thead>\n",
       "  <tbody>\n",
       "    <tr>\n",
       "      <th id=\"T_bbcdd_level0_row0\" class=\"row_heading level0 row0\" >0</th>\n",
       "      <td id=\"T_bbcdd_row0_col0\" class=\"data row0 col0\" >Kuinka monta väriä on Nigerian lipussa?</td>\n",
       "      <td id=\"T_bbcdd_row0_col1\" class=\"data row0 col1\" >The flag of Nigeria is the official flag of the Federal Republic of Nigeria. It was designed in 1959 and was officially put into use...</td>\n",
       "      <td id=\"T_bbcdd_row0_col2\" class=\"data row0 col2\" >kaksi</td>\n",
       "      <td id=\"T_bbcdd_row0_col3\" class=\"data row0 col3\" >Nigerian lippu on vihreä, valkoinen ja punainen.</td>\n",
       "      <td id=\"T_bbcdd_row0_col4\" class=\"data row0 col4\" >3</td>\n",
       "      <td id=\"T_bbcdd_row0_col5\" class=\"data row0 col5\" ><class 'str'></td>\n",
       "    </tr>\n",
       "    <tr>\n",
       "      <th id=\"T_bbcdd_level0_row1\" class=\"row_heading level0 row1\" >1</th>\n",
       "      <td id=\"T_bbcdd_row1_col0\" class=\"data row1 col0\" >Kuka johti konfederaatiota Yhdysvaltojen sisällissodassa?</td>\n",
       "      <td id=\"T_bbcdd_row1_col1\" class=\"data row1 col1\" >New Orleans, however, surrendered to the Union on May 1, 1862. The economy was a problem for the Confederacy throughout its existence. Politicians did not...</td>\n",
       "      <td id=\"T_bbcdd_row1_col2\" class=\"data row1 col2\" >Jefferson Davis</td>\n",
       "      <td id=\"T_bbcdd_row1_col3\" class=\"data row1 col3\" >Not supplied for this particular example.</td>\n",
       "      <td id=\"T_bbcdd_row1_col4\" class=\"data row1 col4\" >Jefferson Davis</td>\n",
       "      <td id=\"T_bbcdd_row1_col5\" class=\"data row1 col5\" >✔️ [True]</td>\n",
       "    </tr>\n",
       "    <tr>\n",
       "      <th id=\"T_bbcdd_level0_row2\" class=\"row_heading level0 row2\" >2</th>\n",
       "      <td id=\"T_bbcdd_row2_col0\" class=\"data row2 col0\" >MItä tarkoittaa siirtymäalkuaine?</td>\n",
       "      <td id=\"T_bbcdd_row2_col1\" class=\"data row2 col1\" >The transition state is the point on the reaction coordinate of a chemical reaction where the group of atoms has the highest Gibbs energy value....</td>\n",
       "      <td id=\"T_bbcdd_row2_col2\" class=\"data row2 col2\" >elementtien siirtymäsarja</td>\n",
       "      <td id=\"T_bbcdd_row2_col3\" class=\"data row2 col3\" >Not supplied for this particular example.</td>\n",
       "      <td id=\"T_bbcdd_row2_col4\" class=\"data row2 col4\" >Energian korkeimmillaan oleva reaktioketjun piste, jossa reagoivat aineet ovat muodostuneet reaktiotilavaiheeksi.</td>\n",
       "      <td id=\"T_bbcdd_row2_col5\" class=\"data row2 col5\" ><class 'str'></td>\n",
       "    </tr>\n",
       "    <tr>\n",
       "      <th id=\"T_bbcdd_level0_row3\" class=\"row_heading level0 row3\" >3</th>\n",
       "      <td id=\"T_bbcdd_row3_col0\" class=\"data row3 col0\" >Miksi Liettuan sosialistinen neuvostotasavalta toimi vain vuoden?</td>\n",
       "      <td id=\"T_bbcdd_row3_col1\" class=\"data row3 col1\" >From 1940 to 1990, the Lithuanian Soviet Socialist Republic (, ) or Lithuanian SNT (, ) was one of the Soviet republics belonging to the...</td>\n",
       "      <td id=\"T_bbcdd_row3_col2\" class=\"data row3 col2\" >Operaatio Barbarossa</td>\n",
       "      <td id=\"T_bbcdd_row3_col3\" class=\"data row3 col3\" >Not supplied for this particular example.</td>\n",
       "      <td id=\"T_bbcdd_row3_col4\" class=\"data row3 col4\" >1940</td>\n",
       "      <td id=\"T_bbcdd_row3_col5\" class=\"data row3 col5\" ><class 'str'></td>\n",
       "    </tr>\n",
       "    <tr>\n",
       "      <th id=\"T_bbcdd_level0_row4\" class=\"row_heading level0 row4\" >4</th>\n",
       "      <td id=\"T_bbcdd_row4_col0\" class=\"data row4 col0\" >Milloin Dibleyn kirkon herraa aloitettiin esittämään Suomessa?</td>\n",
       "      <td id=\"T_bbcdd_row4_col1\" class=\"data row4 col1\" >The Vicar of Dibley () is a British sitcom created by Richard Curtis and written for its lead actress Dawn French. The series was shown...</td>\n",
       "      <td id=\"T_bbcdd_row4_col2\" class=\"data row4 col2\" >10. marraskuuta 1994</td>\n",
       "      <td id=\"T_bbcdd_row4_col3\" class=\"data row4 col3\" >Not supplied for this particular example.</td>\n",
       "      <td id=\"T_bbcdd_row4_col4\" class=\"data row4 col4\" >10. marraskuuta 1994</td>\n",
       "      <td id=\"T_bbcdd_row4_col5\" class=\"data row4 col5\" >✔️ [True]</td>\n",
       "    </tr>\n",
       "    <tr>\n",
       "      <th id=\"T_bbcdd_level0_row5\" class=\"row_heading level0 row5\" >5</th>\n",
       "      <td id=\"T_bbcdd_row5_col0\" class=\"data row5 col0\" >Milloin Itä-Rooma perustettiin?</td>\n",
       "      <td id=\"T_bbcdd_row5_col1\" class=\"data row5 col1\" >around the 14th century BC. The urbanization of Rome must have started in the 7th century BC. Over the centuries, Rome developed into a world...</td>\n",
       "      <td id=\"T_bbcdd_row5_col2\" class=\"data row5 col2\" >395</td>\n",
       "      <td id=\"T_bbcdd_row5_col3\" class=\"data row5 col3\" >Not supplied for this particular example.</td>\n",
       "      <td id=\"T_bbcdd_row5_col4\" class=\"data row5 col4\" >753 eaa.</td>\n",
       "      <td id=\"T_bbcdd_row5_col5\" class=\"data row5 col5\" ><class 'str'></td>\n",
       "    </tr>\n",
       "    <tr>\n",
       "      <th id=\"T_bbcdd_level0_row6\" class=\"row_heading level0 row6\" >6</th>\n",
       "      <td id=\"T_bbcdd_row6_col0\" class=\"data row6 col0\" >Milloin Rooman perustamistarina sai alkunsa?</td>\n",
       "      <td id=\"T_bbcdd_row6_col1\" class=\"data row6 col1\" >The story of the founding of Rome is a fable that describes the founding of the city of Rome. According to the legend, Rome was...</td>\n",
       "      <td id=\"T_bbcdd_row6_col2\" class=\"data row6 col2\" >21. huhtikuuta 753 eaa</td>\n",
       "      <td id=\"T_bbcdd_row6_col3\" class=\"data row6 col3\" >Not supplied for this particular example.</td>\n",
       "      <td id=\"T_bbcdd_row6_col4\" class=\"data row6 col4\" >753 eaa.</td>\n",
       "      <td id=\"T_bbcdd_row6_col5\" class=\"data row6 col5\" ><class 'str'></td>\n",
       "    </tr>\n",
       "    <tr>\n",
       "      <th id=\"T_bbcdd_level0_row7\" class=\"row_heading level0 row7\" >7</th>\n",
       "      <td id=\"T_bbcdd_row7_col0\" class=\"data row7 col0\" >Missä on Nintendon pääkonttori?</td>\n",
       "      <td id=\"T_bbcdd_row7_col1\" class=\"data row7 col1\" >by October 2, 2008. In addition to its hardware, Nintendo has become known for its many game titles such as \"Mario\", \"Donkey Kong\", \"Kirby\", \"Metroid\",...</td>\n",
       "      <td id=\"T_bbcdd_row7_col2\" class=\"data row7 col2\" >Kioto ja Tokio</td>\n",
       "      <td id=\"T_bbcdd_row7_col3\" class=\"data row7 col3\" >Not supplied for this particular example.</td>\n",
       "      <td id=\"T_bbcdd_row7_col4\" class=\"data row7 col4\" >Kyoto, Japan</td>\n",
       "      <td id=\"T_bbcdd_row7_col5\" class=\"data row7 col5\" ><class 'str'></td>\n",
       "    </tr>\n",
       "    <tr>\n",
       "      <th id=\"T_bbcdd_level0_row8\" class=\"row_heading level0 row8\" >8</th>\n",
       "      <td id=\"T_bbcdd_row8_col0\" class=\"data row8 col0\" >Mistä hevoset ovat tulleet Suomeen?</td>\n",
       "      <td id=\"T_bbcdd_row8_col1\" class=\"data row8 col1\" >they could not be scheduled. Linguists also consider it possible that already in the Bronze Age they knew how to ride, based on the Germanic...</td>\n",
       "      <td id=\"T_bbcdd_row8_col2\" class=\"data row8 col2\" >1200-luvulla</td>\n",
       "      <td id=\"T_bbcdd_row8_col3\" class=\"data row8 col3\" >Not supplied for this particular example.</td>\n",
       "      <td id=\"T_bbcdd_row8_col4\" class=\"data row8 col4\" >Vikingit</td>\n",
       "      <td id=\"T_bbcdd_row8_col5\" class=\"data row8 col5\" ><class 'str'></td>\n",
       "    </tr>\n",
       "    <tr>\n",
       "      <th id=\"T_bbcdd_level0_row9\" class=\"row_heading level0 row9\" >9</th>\n",
       "      <td id=\"T_bbcdd_row9_col0\" class=\"data row9 col0\" >Miten määritellään pienoismalli?</td>\n",
       "      <td id=\"T_bbcdd_row9_col1\" class=\"data row9 col1\" >A miniature model is a significantly smaller copy of an object, building or other object than the original. Common are e.g. Vehicle-themed miniature models, as...</td>\n",
       "      <td id=\"T_bbcdd_row9_col2\" class=\"data row9 col2\" >pieni kuva, jota käytetään korostamaan muinaista tai keskiaikaista valaistua käsikirjoitusta</td>\n",
       "      <td id=\"T_bbcdd_row9_col3\" class=\"data row9 col3\" >Pienoismalli on pienempi kappale alkuperäisestä kohteesta.</td>\n",
       "      <td id=\"T_bbcdd_row9_col4\" class=\"data row9 col4\" >Pienempi kappale alkuperäisestä kohteesta.</td>\n",
       "      <td id=\"T_bbcdd_row9_col5\" class=\"data row9 col5\" ><class 'str'></td>\n",
       "    </tr>\n",
       "    <tr>\n",
       "      <th id=\"T_bbcdd_level0_row10\" class=\"row_heading level0 row10\" >10</th>\n",
       "      <td id=\"T_bbcdd_row10_col0\" class=\"data row10 col0\" >Miten persoonallisuushäiriö syntyy?</td>\n",
       "      <td id=\"T_bbcdd_row10_col1\" class=\"data row10 col1\" >Personality disorders are developmental conditions classified as mental health disorders that begin in childhood or adolescence and continue into adulthood. Personality disorders can cause serious...</td>\n",
       "      <td id=\"T_bbcdd_row10_col2\" class=\"data row10 col2\" >Nämä kehittyvät aikaisin, ne ovat joustamattomia ja liittyvät merkittävään ahdistukseen tai vammaisuuteen</td>\n",
       "      <td id=\"T_bbcdd_row10_col3\" class=\"data row10 col3\" >Not supplied for this particular example.</td>\n",
       "      <td id=\"T_bbcdd_row10_col4\" class=\"data row10 col4\" >lapsuudesta aikuisuuteen</td>\n",
       "      <td id=\"T_bbcdd_row10_col5\" class=\"data row10 col5\" ><class 'str'></td>\n",
       "    </tr>\n",
       "    <tr>\n",
       "      <th id=\"T_bbcdd_level0_row11\" class=\"row_heading level0 row11\" >11</th>\n",
       "      <td id=\"T_bbcdd_row11_col0\" class=\"data row11 col0\" >Mitä aminohapot tekevät?</td>\n",
       "      <td id=\"T_bbcdd_row11_col1\" class=\"data row11 col1\" >Amino acids are organic compounds that have both an amino (-NH) and a carboxyl group (-COOH) attached to the same molecule. The amino group is...</td>\n",
       "      <td id=\"T_bbcdd_row11_col2\" class=\"data row11 col2\" >polymeroituvat polypeptideiksi. Polypeptidiketjun pituuden ylittäessä 50 sitä aletaan yleensä kutsua proteiiniksi</td>\n",
       "      <td id=\"T_bbcdd_row11_col3\" class=\"data row11 col3\" >Not supplied for this particular example.</td>\n",
       "      <td id=\"T_bbcdd_row11_col4\" class=\"data row11 col4\" >Aminohapot muodostavat proteiinia</td>\n",
       "      <td id=\"T_bbcdd_row11_col5\" class=\"data row11 col5\" ><class 'str'></td>\n",
       "    </tr>\n",
       "    <tr>\n",
       "      <th id=\"T_bbcdd_level0_row12\" class=\"row_heading level0 row12\" >12</th>\n",
       "      <td id=\"T_bbcdd_row12_col0\" class=\"data row12 col0\" >Montako puhujaa Gudžaratin kielellä on?</td>\n",
       "      <td id=\"T_bbcdd_row12_col1\" class=\"data row12 col1\" >Gujarati is an Indo-Aryan language. Most of its speakers live in India and it is the main language of the state of Gujarat. Gujarati has...</td>\n",
       "      <td id=\"T_bbcdd_row12_col2\" class=\"data row12 col2\" >yli 55 miljoonaa</td>\n",
       "      <td id=\"T_bbcdd_row12_col3\" class=\"data row12 col3\" >Not supplied for this particular example.</td>\n",
       "      <td id=\"T_bbcdd_row12_col4\" class=\"data row12 col4\" >46 miljoonaa</td>\n",
       "      <td id=\"T_bbcdd_row12_col5\" class=\"data row12 col5\" ><class 'str'></td>\n",
       "    </tr>\n",
       "    <tr>\n",
       "      <th id=\"T_bbcdd_level0_row13\" class=\"row_heading level0 row13\" >13</th>\n",
       "      <td id=\"T_bbcdd_row13_col0\" class=\"data row13 col0\" >Onko Anderson \"The Spider\" Silva voittanut vapaaottelun maailman mestaruutta?</td>\n",
       "      <td id=\"T_bbcdd_row13_col1\" class=\"data row13 col1\" >Anderson da Silva (born April 14, 1975), also known as Anderson \"The Spider\" Silva, is a Brazilian freestyle wrestler. He has fought in the middle...</td>\n",
       "      <td id=\"T_bbcdd_row13_col2\" class=\"data row13 col2\" >yes</td>\n",
       "      <td id=\"T_bbcdd_row13_col3\" class=\"data row13 col3\" >Not supplied for this particular example.</td>\n",
       "      <td id=\"T_bbcdd_row13_col4\" class=\"data row13 col4\" >Kyllä</td>\n",
       "      <td id=\"T_bbcdd_row13_col5\" class=\"data row13 col5\" ><class 'str'></td>\n",
       "    </tr>\n",
       "    <tr>\n",
       "      <th id=\"T_bbcdd_level0_row14\" class=\"row_heading level0 row14\" >14</th>\n",
       "      <td id=\"T_bbcdd_row14_col0\" class=\"data row14 col0\" >Onko Antti Karhula pelannut jääkiekkoa Ranskassa?</td>\n",
       "      <td id=\"T_bbcdd_row14_col1\" class=\"data row14 col1\" >Antti Karhula (born March 23, 1976 in Oulu) is a Finnish ice hockey coach and former center forward. Karhula played most of his playing career...</td>\n",
       "      <td id=\"T_bbcdd_row14_col2\" class=\"data row14 col2\" >yes</td>\n",
       "      <td id=\"T_bbcdd_row14_col3\" class=\"data row14 col3\" >Not supplied for this particular example.</td>\n",
       "      <td id=\"T_bbcdd_row14_col4\" class=\"data row14 col4\" >Kyllä</td>\n",
       "      <td id=\"T_bbcdd_row14_col5\" class=\"data row14 col5\" ><class 'str'></td>\n",
       "    </tr>\n",
       "  </tbody>\n",
       "</table>\n"
      ],
      "text/plain": [
       "<pandas.io.formats.style.Styler at 0x335c2e250>"
      ]
     },
     "metadata": {},
     "output_type": "display_data"
    },
    {
     "data": {
      "text/html": [
       "\n",
       "                <div style='\n",
       "                    text-align: center;\n",
       "                    font-size: 16px;\n",
       "                    font-weight: bold;\n",
       "                    color: #555;\n",
       "                    margin: 10px 0;'>\n",
       "                    ... 285 more rows not displayed ...\n",
       "                </div>\n",
       "                "
      ],
      "text/plain": [
       "<IPython.core.display.HTML object>"
      ]
     },
     "metadata": {},
     "output_type": "display_data"
    },
    {
     "name": "stderr",
     "output_type": "stream",
     "text": [
      "Average Metric: 52.0906277056277 / 300  (17.4): 100%|██████████| 300/300 [00:00<00:00, 4597.84it/s]  \n"
     ]
    },
    {
     "data": {
      "text/html": [
       "<style type=\"text/css\">\n",
       "#T_cf6dd th {\n",
       "  text-align: left;\n",
       "}\n",
       "#T_cf6dd td {\n",
       "  text-align: left;\n",
       "}\n",
       "#T_cf6dd_row0_col0, #T_cf6dd_row0_col1, #T_cf6dd_row0_col2, #T_cf6dd_row0_col3, #T_cf6dd_row0_col4, #T_cf6dd_row0_col5, #T_cf6dd_row1_col0, #T_cf6dd_row1_col1, #T_cf6dd_row1_col2, #T_cf6dd_row1_col3, #T_cf6dd_row1_col4, #T_cf6dd_row1_col5, #T_cf6dd_row2_col0, #T_cf6dd_row2_col1, #T_cf6dd_row2_col2, #T_cf6dd_row2_col3, #T_cf6dd_row2_col4, #T_cf6dd_row2_col5, #T_cf6dd_row3_col0, #T_cf6dd_row3_col1, #T_cf6dd_row3_col2, #T_cf6dd_row3_col3, #T_cf6dd_row3_col4, #T_cf6dd_row3_col5, #T_cf6dd_row4_col0, #T_cf6dd_row4_col1, #T_cf6dd_row4_col2, #T_cf6dd_row4_col3, #T_cf6dd_row4_col4, #T_cf6dd_row4_col5, #T_cf6dd_row5_col0, #T_cf6dd_row5_col1, #T_cf6dd_row5_col2, #T_cf6dd_row5_col3, #T_cf6dd_row5_col4, #T_cf6dd_row5_col5, #T_cf6dd_row6_col0, #T_cf6dd_row6_col1, #T_cf6dd_row6_col2, #T_cf6dd_row6_col3, #T_cf6dd_row6_col4, #T_cf6dd_row6_col5, #T_cf6dd_row7_col0, #T_cf6dd_row7_col1, #T_cf6dd_row7_col2, #T_cf6dd_row7_col3, #T_cf6dd_row7_col4, #T_cf6dd_row7_col5, #T_cf6dd_row8_col0, #T_cf6dd_row8_col1, #T_cf6dd_row8_col2, #T_cf6dd_row8_col3, #T_cf6dd_row8_col4, #T_cf6dd_row8_col5, #T_cf6dd_row9_col0, #T_cf6dd_row9_col1, #T_cf6dd_row9_col2, #T_cf6dd_row9_col3, #T_cf6dd_row9_col4, #T_cf6dd_row9_col5, #T_cf6dd_row10_col0, #T_cf6dd_row10_col1, #T_cf6dd_row10_col2, #T_cf6dd_row10_col3, #T_cf6dd_row10_col4, #T_cf6dd_row10_col5, #T_cf6dd_row11_col0, #T_cf6dd_row11_col1, #T_cf6dd_row11_col2, #T_cf6dd_row11_col3, #T_cf6dd_row11_col4, #T_cf6dd_row11_col5, #T_cf6dd_row12_col0, #T_cf6dd_row12_col1, #T_cf6dd_row12_col2, #T_cf6dd_row12_col3, #T_cf6dd_row12_col4, #T_cf6dd_row12_col5, #T_cf6dd_row13_col0, #T_cf6dd_row13_col1, #T_cf6dd_row13_col2, #T_cf6dd_row13_col3, #T_cf6dd_row13_col4, #T_cf6dd_row13_col5, #T_cf6dd_row14_col0, #T_cf6dd_row14_col1, #T_cf6dd_row14_col2, #T_cf6dd_row14_col3, #T_cf6dd_row14_col4, #T_cf6dd_row14_col5 {\n",
       "  text-align: left;\n",
       "  white-space: pre-wrap;\n",
       "  word-wrap: break-word;\n",
       "  max-width: 400px;\n",
       "}\n",
       "</style>\n",
       "<table id=\"T_cf6dd\">\n",
       "  <thead>\n",
       "    <tr>\n",
       "      <th class=\"blank level0\" >&nbsp;</th>\n",
       "      <th id=\"T_cf6dd_level0_col0\" class=\"col_heading level0 col0\" >question</th>\n",
       "      <th id=\"T_cf6dd_level0_col1\" class=\"col_heading level0 col1\" >context</th>\n",
       "      <th id=\"T_cf6dd_level0_col2\" class=\"col_heading level0 col2\" >example_answer</th>\n",
       "      <th id=\"T_cf6dd_level0_col3\" class=\"col_heading level0 col3\" >reasoning</th>\n",
       "      <th id=\"T_cf6dd_level0_col4\" class=\"col_heading level0 col4\" >pred_answer</th>\n",
       "      <th id=\"T_cf6dd_level0_col5\" class=\"col_heading level0 col5\" >answer_f1_score</th>\n",
       "    </tr>\n",
       "  </thead>\n",
       "  <tbody>\n",
       "    <tr>\n",
       "      <th id=\"T_cf6dd_level0_row0\" class=\"row_heading level0 row0\" >0</th>\n",
       "      <td id=\"T_cf6dd_row0_col0\" class=\"data row0 col0\" >Kuinka monta väriä on Nigerian lipussa?</td>\n",
       "      <td id=\"T_cf6dd_row0_col1\" class=\"data row0 col1\" >The flag of Nigeria is the official flag of the Federal Republic of Nigeria. It was designed in 1959 and was officially put into use...</td>\n",
       "      <td id=\"T_cf6dd_row0_col2\" class=\"data row0 col2\" >kaksi</td>\n",
       "      <td id=\"T_cf6dd_row0_col3\" class=\"data row0 col3\" >Nigerian lippu on vihreä, valkoinen ja punainen.</td>\n",
       "      <td id=\"T_cf6dd_row0_col4\" class=\"data row0 col4\" >3</td>\n",
       "      <td id=\"T_cf6dd_row0_col5\" class=\"data row0 col5\" ><class 'str'></td>\n",
       "    </tr>\n",
       "    <tr>\n",
       "      <th id=\"T_cf6dd_level0_row1\" class=\"row_heading level0 row1\" >1</th>\n",
       "      <td id=\"T_cf6dd_row1_col0\" class=\"data row1 col0\" >Kuka johti konfederaatiota Yhdysvaltojen sisällissodassa?</td>\n",
       "      <td id=\"T_cf6dd_row1_col1\" class=\"data row1 col1\" >New Orleans, however, surrendered to the Union on May 1, 1862. The economy was a problem for the Confederacy throughout its existence. Politicians did not...</td>\n",
       "      <td id=\"T_cf6dd_row1_col2\" class=\"data row1 col2\" >Jefferson Davis</td>\n",
       "      <td id=\"T_cf6dd_row1_col3\" class=\"data row1 col3\" >Not supplied for this particular example.</td>\n",
       "      <td id=\"T_cf6dd_row1_col4\" class=\"data row1 col4\" >Jefferson Davis</td>\n",
       "      <td id=\"T_cf6dd_row1_col5\" class=\"data row1 col5\" >✔️ [1.0]</td>\n",
       "    </tr>\n",
       "    <tr>\n",
       "      <th id=\"T_cf6dd_level0_row2\" class=\"row_heading level0 row2\" >2</th>\n",
       "      <td id=\"T_cf6dd_row2_col0\" class=\"data row2 col0\" >MItä tarkoittaa siirtymäalkuaine?</td>\n",
       "      <td id=\"T_cf6dd_row2_col1\" class=\"data row2 col1\" >The transition state is the point on the reaction coordinate of a chemical reaction where the group of atoms has the highest Gibbs energy value....</td>\n",
       "      <td id=\"T_cf6dd_row2_col2\" class=\"data row2 col2\" >elementtien siirtymäsarja</td>\n",
       "      <td id=\"T_cf6dd_row2_col3\" class=\"data row2 col3\" >Not supplied for this particular example.</td>\n",
       "      <td id=\"T_cf6dd_row2_col4\" class=\"data row2 col4\" >Energian korkeimmillaan oleva reaktioketjun piste, jossa reagoivat aineet ovat muodostuneet reaktiotilavaiheeksi.</td>\n",
       "      <td id=\"T_cf6dd_row2_col5\" class=\"data row2 col5\" ><class 'str'></td>\n",
       "    </tr>\n",
       "    <tr>\n",
       "      <th id=\"T_cf6dd_level0_row3\" class=\"row_heading level0 row3\" >3</th>\n",
       "      <td id=\"T_cf6dd_row3_col0\" class=\"data row3 col0\" >Miksi Liettuan sosialistinen neuvostotasavalta toimi vain vuoden?</td>\n",
       "      <td id=\"T_cf6dd_row3_col1\" class=\"data row3 col1\" >From 1940 to 1990, the Lithuanian Soviet Socialist Republic (, ) or Lithuanian SNT (, ) was one of the Soviet republics belonging to the...</td>\n",
       "      <td id=\"T_cf6dd_row3_col2\" class=\"data row3 col2\" >Operaatio Barbarossa</td>\n",
       "      <td id=\"T_cf6dd_row3_col3\" class=\"data row3 col3\" >Not supplied for this particular example.</td>\n",
       "      <td id=\"T_cf6dd_row3_col4\" class=\"data row3 col4\" >1940</td>\n",
       "      <td id=\"T_cf6dd_row3_col5\" class=\"data row3 col5\" ><class 'str'></td>\n",
       "    </tr>\n",
       "    <tr>\n",
       "      <th id=\"T_cf6dd_level0_row4\" class=\"row_heading level0 row4\" >4</th>\n",
       "      <td id=\"T_cf6dd_row4_col0\" class=\"data row4 col0\" >Milloin Dibleyn kirkon herraa aloitettiin esittämään Suomessa?</td>\n",
       "      <td id=\"T_cf6dd_row4_col1\" class=\"data row4 col1\" >The Vicar of Dibley () is a British sitcom created by Richard Curtis and written for its lead actress Dawn French. The series was shown...</td>\n",
       "      <td id=\"T_cf6dd_row4_col2\" class=\"data row4 col2\" >10. marraskuuta 1994</td>\n",
       "      <td id=\"T_cf6dd_row4_col3\" class=\"data row4 col3\" >Not supplied for this particular example.</td>\n",
       "      <td id=\"T_cf6dd_row4_col4\" class=\"data row4 col4\" >10. marraskuuta 1994</td>\n",
       "      <td id=\"T_cf6dd_row4_col5\" class=\"data row4 col5\" >✔️ [1.0]</td>\n",
       "    </tr>\n",
       "    <tr>\n",
       "      <th id=\"T_cf6dd_level0_row5\" class=\"row_heading level0 row5\" >5</th>\n",
       "      <td id=\"T_cf6dd_row5_col0\" class=\"data row5 col0\" >Milloin Itä-Rooma perustettiin?</td>\n",
       "      <td id=\"T_cf6dd_row5_col1\" class=\"data row5 col1\" >around the 14th century BC. The urbanization of Rome must have started in the 7th century BC. Over the centuries, Rome developed into a world...</td>\n",
       "      <td id=\"T_cf6dd_row5_col2\" class=\"data row5 col2\" >395</td>\n",
       "      <td id=\"T_cf6dd_row5_col3\" class=\"data row5 col3\" >Not supplied for this particular example.</td>\n",
       "      <td id=\"T_cf6dd_row5_col4\" class=\"data row5 col4\" >753 eaa.</td>\n",
       "      <td id=\"T_cf6dd_row5_col5\" class=\"data row5 col5\" ><class 'str'></td>\n",
       "    </tr>\n",
       "    <tr>\n",
       "      <th id=\"T_cf6dd_level0_row6\" class=\"row_heading level0 row6\" >6</th>\n",
       "      <td id=\"T_cf6dd_row6_col0\" class=\"data row6 col0\" >Milloin Rooman perustamistarina sai alkunsa?</td>\n",
       "      <td id=\"T_cf6dd_row6_col1\" class=\"data row6 col1\" >The story of the founding of Rome is a fable that describes the founding of the city of Rome. According to the legend, Rome was...</td>\n",
       "      <td id=\"T_cf6dd_row6_col2\" class=\"data row6 col2\" >21. huhtikuuta 753 eaa</td>\n",
       "      <td id=\"T_cf6dd_row6_col3\" class=\"data row6 col3\" >Not supplied for this particular example.</td>\n",
       "      <td id=\"T_cf6dd_row6_col4\" class=\"data row6 col4\" >753 eaa.</td>\n",
       "      <td id=\"T_cf6dd_row6_col5\" class=\"data row6 col5\" >✔️ [0.6666666666666666]</td>\n",
       "    </tr>\n",
       "    <tr>\n",
       "      <th id=\"T_cf6dd_level0_row7\" class=\"row_heading level0 row7\" >7</th>\n",
       "      <td id=\"T_cf6dd_row7_col0\" class=\"data row7 col0\" >Missä on Nintendon pääkonttori?</td>\n",
       "      <td id=\"T_cf6dd_row7_col1\" class=\"data row7 col1\" >by October 2, 2008. In addition to its hardware, Nintendo has become known for its many game titles such as \"Mario\", \"Donkey Kong\", \"Kirby\", \"Metroid\",...</td>\n",
       "      <td id=\"T_cf6dd_row7_col2\" class=\"data row7 col2\" >Kioto ja Tokio</td>\n",
       "      <td id=\"T_cf6dd_row7_col3\" class=\"data row7 col3\" >Not supplied for this particular example.</td>\n",
       "      <td id=\"T_cf6dd_row7_col4\" class=\"data row7 col4\" >Kyoto, Japan</td>\n",
       "      <td id=\"T_cf6dd_row7_col5\" class=\"data row7 col5\" ><class 'str'></td>\n",
       "    </tr>\n",
       "    <tr>\n",
       "      <th id=\"T_cf6dd_level0_row8\" class=\"row_heading level0 row8\" >8</th>\n",
       "      <td id=\"T_cf6dd_row8_col0\" class=\"data row8 col0\" >Mistä hevoset ovat tulleet Suomeen?</td>\n",
       "      <td id=\"T_cf6dd_row8_col1\" class=\"data row8 col1\" >they could not be scheduled. Linguists also consider it possible that already in the Bronze Age they knew how to ride, based on the Germanic...</td>\n",
       "      <td id=\"T_cf6dd_row8_col2\" class=\"data row8 col2\" >1200-luvulla</td>\n",
       "      <td id=\"T_cf6dd_row8_col3\" class=\"data row8 col3\" >Not supplied for this particular example.</td>\n",
       "      <td id=\"T_cf6dd_row8_col4\" class=\"data row8 col4\" >Vikingit</td>\n",
       "      <td id=\"T_cf6dd_row8_col5\" class=\"data row8 col5\" ><class 'str'></td>\n",
       "    </tr>\n",
       "    <tr>\n",
       "      <th id=\"T_cf6dd_level0_row9\" class=\"row_heading level0 row9\" >9</th>\n",
       "      <td id=\"T_cf6dd_row9_col0\" class=\"data row9 col0\" >Miten määritellään pienoismalli?</td>\n",
       "      <td id=\"T_cf6dd_row9_col1\" class=\"data row9 col1\" >A miniature model is a significantly smaller copy of an object, building or other object than the original. Common are e.g. Vehicle-themed miniature models, as...</td>\n",
       "      <td id=\"T_cf6dd_row9_col2\" class=\"data row9 col2\" >pieni kuva, jota käytetään korostamaan muinaista tai keskiaikaista valaistua käsikirjoitusta</td>\n",
       "      <td id=\"T_cf6dd_row9_col3\" class=\"data row9 col3\" >Pienoismalli on pienempi kappale alkuperäisestä kohteesta.</td>\n",
       "      <td id=\"T_cf6dd_row9_col4\" class=\"data row9 col4\" >Pienempi kappale alkuperäisestä kohteesta.</td>\n",
       "      <td id=\"T_cf6dd_row9_col5\" class=\"data row9 col5\" ><class 'str'></td>\n",
       "    </tr>\n",
       "    <tr>\n",
       "      <th id=\"T_cf6dd_level0_row10\" class=\"row_heading level0 row10\" >10</th>\n",
       "      <td id=\"T_cf6dd_row10_col0\" class=\"data row10 col0\" >Miten persoonallisuushäiriö syntyy?</td>\n",
       "      <td id=\"T_cf6dd_row10_col1\" class=\"data row10 col1\" >Personality disorders are developmental conditions classified as mental health disorders that begin in childhood or adolescence and continue into adulthood. Personality disorders can cause serious...</td>\n",
       "      <td id=\"T_cf6dd_row10_col2\" class=\"data row10 col2\" >Nämä kehittyvät aikaisin, ne ovat joustamattomia ja liittyvät merkittävään ahdistukseen tai vammaisuuteen</td>\n",
       "      <td id=\"T_cf6dd_row10_col3\" class=\"data row10 col3\" >Not supplied for this particular example.</td>\n",
       "      <td id=\"T_cf6dd_row10_col4\" class=\"data row10 col4\" >lapsuudesta aikuisuuteen</td>\n",
       "      <td id=\"T_cf6dd_row10_col5\" class=\"data row10 col5\" ><class 'str'></td>\n",
       "    </tr>\n",
       "    <tr>\n",
       "      <th id=\"T_cf6dd_level0_row11\" class=\"row_heading level0 row11\" >11</th>\n",
       "      <td id=\"T_cf6dd_row11_col0\" class=\"data row11 col0\" >Mitä aminohapot tekevät?</td>\n",
       "      <td id=\"T_cf6dd_row11_col1\" class=\"data row11 col1\" >Amino acids are organic compounds that have both an amino (-NH) and a carboxyl group (-COOH) attached to the same molecule. The amino group is...</td>\n",
       "      <td id=\"T_cf6dd_row11_col2\" class=\"data row11 col2\" >polymeroituvat polypeptideiksi. Polypeptidiketjun pituuden ylittäessä 50 sitä aletaan yleensä kutsua proteiiniksi</td>\n",
       "      <td id=\"T_cf6dd_row11_col3\" class=\"data row11 col3\" >Not supplied for this particular example.</td>\n",
       "      <td id=\"T_cf6dd_row11_col4\" class=\"data row11 col4\" >Aminohapot muodostavat proteiinia</td>\n",
       "      <td id=\"T_cf6dd_row11_col5\" class=\"data row11 col5\" ><class 'str'></td>\n",
       "    </tr>\n",
       "    <tr>\n",
       "      <th id=\"T_cf6dd_level0_row12\" class=\"row_heading level0 row12\" >12</th>\n",
       "      <td id=\"T_cf6dd_row12_col0\" class=\"data row12 col0\" >Montako puhujaa Gudžaratin kielellä on?</td>\n",
       "      <td id=\"T_cf6dd_row12_col1\" class=\"data row12 col1\" >Gujarati is an Indo-Aryan language. Most of its speakers live in India and it is the main language of the state of Gujarat. Gujarati has...</td>\n",
       "      <td id=\"T_cf6dd_row12_col2\" class=\"data row12 col2\" >yli 55 miljoonaa</td>\n",
       "      <td id=\"T_cf6dd_row12_col3\" class=\"data row12 col3\" >Not supplied for this particular example.</td>\n",
       "      <td id=\"T_cf6dd_row12_col4\" class=\"data row12 col4\" >46 miljoonaa</td>\n",
       "      <td id=\"T_cf6dd_row12_col5\" class=\"data row12 col5\" >✔️ [0.4]</td>\n",
       "    </tr>\n",
       "    <tr>\n",
       "      <th id=\"T_cf6dd_level0_row13\" class=\"row_heading level0 row13\" >13</th>\n",
       "      <td id=\"T_cf6dd_row13_col0\" class=\"data row13 col0\" >Onko Anderson \"The Spider\" Silva voittanut vapaaottelun maailman mestaruutta?</td>\n",
       "      <td id=\"T_cf6dd_row13_col1\" class=\"data row13 col1\" >Anderson da Silva (born April 14, 1975), also known as Anderson \"The Spider\" Silva, is a Brazilian freestyle wrestler. He has fought in the middle...</td>\n",
       "      <td id=\"T_cf6dd_row13_col2\" class=\"data row13 col2\" >yes</td>\n",
       "      <td id=\"T_cf6dd_row13_col3\" class=\"data row13 col3\" >Not supplied for this particular example.</td>\n",
       "      <td id=\"T_cf6dd_row13_col4\" class=\"data row13 col4\" >Kyllä</td>\n",
       "      <td id=\"T_cf6dd_row13_col5\" class=\"data row13 col5\" ><class 'str'></td>\n",
       "    </tr>\n",
       "    <tr>\n",
       "      <th id=\"T_cf6dd_level0_row14\" class=\"row_heading level0 row14\" >14</th>\n",
       "      <td id=\"T_cf6dd_row14_col0\" class=\"data row14 col0\" >Onko Antti Karhula pelannut jääkiekkoa Ranskassa?</td>\n",
       "      <td id=\"T_cf6dd_row14_col1\" class=\"data row14 col1\" >Antti Karhula (born March 23, 1976 in Oulu) is a Finnish ice hockey coach and former center forward. Karhula played most of his playing career...</td>\n",
       "      <td id=\"T_cf6dd_row14_col2\" class=\"data row14 col2\" >yes</td>\n",
       "      <td id=\"T_cf6dd_row14_col3\" class=\"data row14 col3\" >Not supplied for this particular example.</td>\n",
       "      <td id=\"T_cf6dd_row14_col4\" class=\"data row14 col4\" >Kyllä</td>\n",
       "      <td id=\"T_cf6dd_row14_col5\" class=\"data row14 col5\" ><class 'str'></td>\n",
       "    </tr>\n",
       "  </tbody>\n",
       "</table>\n"
      ],
      "text/plain": [
       "<pandas.io.formats.style.Styler at 0x33f469d10>"
      ]
     },
     "metadata": {},
     "output_type": "display_data"
    },
    {
     "data": {
      "text/html": [
       "\n",
       "                <div style='\n",
       "                    text-align: center;\n",
       "                    font-size: 16px;\n",
       "                    font-weight: bold;\n",
       "                    color: #555;\n",
       "                    margin: 10px 0;'>\n",
       "                    ... 285 more rows not displayed ...\n",
       "                </div>\n",
       "                "
      ],
      "text/plain": [
       "<IPython.core.display.HTML object>"
      ]
     },
     "metadata": {},
     "output_type": "display_data"
    },
    {
     "name": "stderr",
     "output_type": "stream",
     "text": []
    },
    {
     "name": "stdout",
     "output_type": "stream",
     "text": [
      "inlang EM exact match 13.0 f1 17.36\n"
     ]
    },
    {
     "name": "stderr",
     "output_type": "stream",
     "text": [
      "Average Metric: 149 / 300  (49.7): 100%|██████████| 300/300 [00:23<00:00, 12.62it/s]\n"
     ]
    },
    {
     "data": {
      "text/html": [
       "<style type=\"text/css\">\n",
       "#T_4004c th {\n",
       "  text-align: left;\n",
       "}\n",
       "#T_4004c td {\n",
       "  text-align: left;\n",
       "}\n",
       "#T_4004c_row0_col0, #T_4004c_row0_col1, #T_4004c_row0_col2, #T_4004c_row0_col3, #T_4004c_row0_col4, #T_4004c_row0_col5, #T_4004c_row1_col0, #T_4004c_row1_col1, #T_4004c_row1_col2, #T_4004c_row1_col3, #T_4004c_row1_col4, #T_4004c_row1_col5, #T_4004c_row2_col0, #T_4004c_row2_col1, #T_4004c_row2_col2, #T_4004c_row2_col3, #T_4004c_row2_col4, #T_4004c_row2_col5, #T_4004c_row3_col0, #T_4004c_row3_col1, #T_4004c_row3_col2, #T_4004c_row3_col3, #T_4004c_row3_col4, #T_4004c_row3_col5, #T_4004c_row4_col0, #T_4004c_row4_col1, #T_4004c_row4_col2, #T_4004c_row4_col3, #T_4004c_row4_col4, #T_4004c_row4_col5, #T_4004c_row5_col0, #T_4004c_row5_col1, #T_4004c_row5_col2, #T_4004c_row5_col3, #T_4004c_row5_col4, #T_4004c_row5_col5, #T_4004c_row6_col0, #T_4004c_row6_col1, #T_4004c_row6_col2, #T_4004c_row6_col3, #T_4004c_row6_col4, #T_4004c_row6_col5, #T_4004c_row7_col0, #T_4004c_row7_col1, #T_4004c_row7_col2, #T_4004c_row7_col3, #T_4004c_row7_col4, #T_4004c_row7_col5, #T_4004c_row8_col0, #T_4004c_row8_col1, #T_4004c_row8_col2, #T_4004c_row8_col3, #T_4004c_row8_col4, #T_4004c_row8_col5, #T_4004c_row9_col0, #T_4004c_row9_col1, #T_4004c_row9_col2, #T_4004c_row9_col3, #T_4004c_row9_col4, #T_4004c_row9_col5, #T_4004c_row10_col0, #T_4004c_row10_col1, #T_4004c_row10_col2, #T_4004c_row10_col3, #T_4004c_row10_col4, #T_4004c_row10_col5, #T_4004c_row11_col0, #T_4004c_row11_col1, #T_4004c_row11_col2, #T_4004c_row11_col3, #T_4004c_row11_col4, #T_4004c_row11_col5, #T_4004c_row12_col0, #T_4004c_row12_col1, #T_4004c_row12_col2, #T_4004c_row12_col3, #T_4004c_row12_col4, #T_4004c_row12_col5, #T_4004c_row13_col0, #T_4004c_row13_col1, #T_4004c_row13_col2, #T_4004c_row13_col3, #T_4004c_row13_col4, #T_4004c_row13_col5, #T_4004c_row14_col0, #T_4004c_row14_col1, #T_4004c_row14_col2, #T_4004c_row14_col3, #T_4004c_row14_col4, #T_4004c_row14_col5 {\n",
       "  text-align: left;\n",
       "  white-space: pre-wrap;\n",
       "  word-wrap: break-word;\n",
       "  max-width: 400px;\n",
       "}\n",
       "</style>\n",
       "<table id=\"T_4004c\">\n",
       "  <thead>\n",
       "    <tr>\n",
       "      <th class=\"blank level0\" >&nbsp;</th>\n",
       "      <th id=\"T_4004c_level0_col0\" class=\"col_heading level0 col0\" >question</th>\n",
       "      <th id=\"T_4004c_level0_col1\" class=\"col_heading level0 col1\" >context</th>\n",
       "      <th id=\"T_4004c_level0_col2\" class=\"col_heading level0 col2\" >example_answer</th>\n",
       "      <th id=\"T_4004c_level0_col3\" class=\"col_heading level0 col3\" >reasoning</th>\n",
       "      <th id=\"T_4004c_level0_col4\" class=\"col_heading level0 col4\" >pred_answer</th>\n",
       "      <th id=\"T_4004c_level0_col5\" class=\"col_heading level0 col5\" >answer_exact_match</th>\n",
       "    </tr>\n",
       "  </thead>\n",
       "  <tbody>\n",
       "    <tr>\n",
       "      <th id=\"T_4004c_level0_row0\" class=\"row_heading level0 row0\" >0</th>\n",
       "      <td id=\"T_4004c_row0_col0\" class=\"data row0 col0\" >Missä maassa Jack Churchill syntyi?</td>\n",
       "      <td id=\"T_4004c_row0_col1\" class=\"data row0 col1\" >Churchill was born at Colombo, British Ceylon to Alec Fleming \"Alex\" Churchill (1876–1961), later of Hove, East Sussex and Elinor Elizabeth, daughter of John Alexander...</td>\n",
       "      <td id=\"T_4004c_row0_col2\" class=\"data row0 col2\" >Colombo, British Ceylon</td>\n",
       "      <td id=\"T_4004c_row0_col3\" class=\"data row0 col3\" >Not supplied for this particular example.</td>\n",
       "      <td id=\"T_4004c_row0_col4\" class=\"data row0 col4\" >Ceylon</td>\n",
       "      <td id=\"T_4004c_row0_col5\" class=\"data row0 col5\" ><class 'str'></td>\n",
       "    </tr>\n",
       "    <tr>\n",
       "      <th id=\"T_4004c_level0_row1\" class=\"row_heading level0 row1\" >1</th>\n",
       "      <td id=\"T_4004c_row1_col0\" class=\"data row1 col0\" >Mikä on yleisin uskonto maailmassa?</td>\n",
       "      <td id=\"T_4004c_row1_col1\" class=\"data row1 col1\" >The five largest religious groups by world population, estimated to account for 5.8 billion people and 84% of the population, are Christianity, Islam, Buddhism, Hinduism...</td>\n",
       "      <td id=\"T_4004c_row1_col2\" class=\"data row1 col2\" >Christianity</td>\n",
       "      <td id=\"T_4004c_row1_col3\" class=\"data row1 col3\" >Not supplied for this particular example.</td>\n",
       "      <td id=\"T_4004c_row1_col4\" class=\"data row1 col4\" >Christianity</td>\n",
       "      <td id=\"T_4004c_row1_col5\" class=\"data row1 col5\" >✔️ [True]</td>\n",
       "    </tr>\n",
       "    <tr>\n",
       "      <th id=\"T_4004c_level0_row2\" class=\"row_heading level0 row2\" >2</th>\n",
       "      <td id=\"T_4004c_row2_col0\" class=\"data row2 col0\" >Kuka oli Glee sarjan pääosassa?</td>\n",
       "      <td id=\"T_4004c_row2_col1\" class=\"data row2 col1\" >Rachel Barbra Berry (Lea Michele) is the lead character and is a \"strong, driven\" member of the glee club, who is misunderstood by her peers....</td>\n",
       "      <td id=\"T_4004c_row2_col2\" class=\"data row2 col2\" >Rachel Barbra Berry</td>\n",
       "      <td id=\"T_4004c_row2_col3\" class=\"data row2 col3\" >Not supplied for this particular example.</td>\n",
       "      <td id=\"T_4004c_row2_col4\" class=\"data row2 col4\" >Lea Michele</td>\n",
       "      <td id=\"T_4004c_row2_col5\" class=\"data row2 col5\" ><class 'str'></td>\n",
       "    </tr>\n",
       "    <tr>\n",
       "      <th id=\"T_4004c_level0_row3\" class=\"row_heading level0 row3\" >3</th>\n",
       "      <td id=\"T_4004c_row3_col0\" class=\"data row3 col0\" >Milloin Killzone-sarjan peli julkaistiin ensimmäisen kerran?</td>\n",
       "      <td id=\"T_4004c_row3_col1\" class=\"data row3 col1\" >Killzone is a series of first-person shooter and twin sticks shooter video games for Sony Computer Entertainment's (SCE) video game consoles. The main series and...</td>\n",
       "      <td id=\"T_4004c_row3_col2\" class=\"data row3 col2\" >November 2004</td>\n",
       "      <td id=\"T_4004c_row3_col3\" class=\"data row3 col3\" >Peli julkaistiin ensimmäisen kerran PlayStation 2:lle marraskuussa 2004.</td>\n",
       "      <td id=\"T_4004c_row3_col4\" class=\"data row3 col4\" >2004</td>\n",
       "      <td id=\"T_4004c_row3_col5\" class=\"data row3 col5\" ><class 'str'></td>\n",
       "    </tr>\n",
       "    <tr>\n",
       "      <th id=\"T_4004c_level0_row4\" class=\"row_heading level0 row4\" >4</th>\n",
       "      <td id=\"T_4004c_row4_col0\" class=\"data row4 col0\" >Milloin Pennsylvania liitty USA?</td>\n",
       "      <td id=\"T_4004c_row4_col1\" class=\"data row4 col1\" >The state is one of the 13 original founding states of the United States; it came into being in 1681 as a result of a...</td>\n",
       "      <td id=\"T_4004c_row4_col2\" class=\"data row4 col2\" >December 12, 1787</td>\n",
       "      <td id=\"T_4004c_row4_col3\" class=\"data row4 col3\" >Not supplied for this particular example.</td>\n",
       "      <td id=\"T_4004c_row4_col4\" class=\"data row4 col4\" >1681</td>\n",
       "      <td id=\"T_4004c_row4_col5\" class=\"data row4 col5\" ><class 'str'></td>\n",
       "    </tr>\n",
       "    <tr>\n",
       "      <th id=\"T_4004c_level0_row5\" class=\"row_heading level0 row5\" >5</th>\n",
       "      <td id=\"T_4004c_row5_col0\" class=\"data row5 col0\" >Missä Richard Attenborough kuoli?</td>\n",
       "      <td id=\"T_4004c_row5_col1\" class=\"data row5 col1\" >In June 2012, shortly before her 90th birthday, Sheila Sim entered the professional actors' retirement home Denville Hall, for which she and Attenborough had helped...</td>\n",
       "      <td id=\"T_4004c_row5_col2\" class=\"data row5 col2\" >Denville Hall</td>\n",
       "      <td id=\"T_4004c_row5_col3\" class=\"data row5 col3\" >Not supplied for this particular example.</td>\n",
       "      <td id=\"T_4004c_row5_col4\" class=\"data row5 col4\" >London</td>\n",
       "      <td id=\"T_4004c_row5_col5\" class=\"data row5 col5\" ><class 'str'></td>\n",
       "    </tr>\n",
       "    <tr>\n",
       "      <th id=\"T_4004c_level0_row6\" class=\"row_heading level0 row6\" >6</th>\n",
       "      <td id=\"T_4004c_row6_col0\" class=\"data row6 col0\" >Milloin ateismi on syntynyt?</td>\n",
       "      <td id=\"T_4004c_row6_col1\" class=\"data row6 col1\" >In early ancient Greek, the adjective ' (, from the privative ἀ- + \"god\") meant \"godless\". It was first used as a term of censure...</td>\n",
       "      <td id=\"T_4004c_row6_col2\" class=\"data row6 col2\" >5th century BCE</td>\n",
       "      <td id=\"T_4004c_row6_col3\" class=\"data row6 col3\" >Not supplied for this particular example.</td>\n",
       "      <td id=\"T_4004c_row6_col4\" class=\"data row6 col4\" >5th century BCE</td>\n",
       "      <td id=\"T_4004c_row6_col5\" class=\"data row6 col5\" >✔️ [True]</td>\n",
       "    </tr>\n",
       "    <tr>\n",
       "      <th id=\"T_4004c_level0_row7\" class=\"row_heading level0 row7\" >7</th>\n",
       "      <td id=\"T_4004c_row7_col0\" class=\"data row7 col0\" >Mistä tulee nimitys digitelevisio?</td>\n",
       "      <td id=\"T_4004c_row7_col1\" class=\"data row7 col1\" >Digital television (DTV) is the transmission of television signals, including the sound channel, using digital encoding, in contrast to the earlier television technology, analog television,...</td>\n",
       "      <td id=\"T_4004c_row7_col2\" class=\"data row7 col2\" >transmission of television signals, including the sound channel, using digital encoding</td>\n",
       "      <td id=\"T_4004c_row7_col3\" class=\"data row7 col3\" >Nimitys \"digitelevisio\" tulee siitä, että televisio lähetetään digitaalisesti, eli digitaalisella koodauksella.</td>\n",
       "      <td id=\"T_4004c_row7_col4\" class=\"data row7 col4\" >digitaalisesta lähetystekniikasta</td>\n",
       "      <td id=\"T_4004c_row7_col5\" class=\"data row7 col5\" ><class 'str'></td>\n",
       "    </tr>\n",
       "    <tr>\n",
       "      <th id=\"T_4004c_level0_row8\" class=\"row_heading level0 row8\" >8</th>\n",
       "      <td id=\"T_4004c_row8_col0\" class=\"data row8 col0\" >Ovatko suomen kielen murteet olleet aina olemassa?</td>\n",
       "      <td id=\"T_4004c_row8_col1\" class=\"data row8 col1\" >Westrobothnian () is a number of closely related non-standardized Scandinavian dialects spoken natively along the coast of the historical province of Westrobothnia in co-existence with...</td>\n",
       "      <td id=\"T_4004c_row8_col2\" class=\"data row8 col2\" >no</td>\n",
       "      <td id=\"T_4004c_row8_col3\" class=\"data row8 col3\" >Not supplied for this particular example.</td>\n",
       "      <td id=\"T_4004c_row8_col4\" class=\"data row8 col4\" >ei</td>\n",
       "      <td id=\"T_4004c_row8_col5\" class=\"data row8 col5\" ><class 'str'></td>\n",
       "    </tr>\n",
       "    <tr>\n",
       "      <th id=\"T_4004c_level0_row9\" class=\"row_heading level0 row9\" >9</th>\n",
       "      <td id=\"T_4004c_row9_col0\" class=\"data row9 col0\" >Kuka näytteli pääosaa Glee sarjassa?</td>\n",
       "      <td id=\"T_4004c_row9_col1\" class=\"data row9 col1\" >Rachel Barbra Berry (Lea Michele) is the lead character and is a \"strong, driven\" member of the glee club, who is misunderstood by her peers....</td>\n",
       "      <td id=\"T_4004c_row9_col2\" class=\"data row9 col2\" >Lea Michele</td>\n",
       "      <td id=\"T_4004c_row9_col3\" class=\"data row9 col3\" >Lea Michele näytteli Rachel Barbra Berry roolia Glee sarjassa.</td>\n",
       "      <td id=\"T_4004c_row9_col4\" class=\"data row9 col4\" >Lea Michele</td>\n",
       "      <td id=\"T_4004c_row9_col5\" class=\"data row9 col5\" >✔️ [True]</td>\n",
       "    </tr>\n",
       "    <tr>\n",
       "      <th id=\"T_4004c_level0_row10\" class=\"row_heading level0 row10\" >10</th>\n",
       "      <td id=\"T_4004c_row10_col0\" class=\"data row10 col0\" >Mikä on Jaco Pastoriuksen tunnetuin kappale?</td>\n",
       "      <td id=\"T_4004c_row10_col1\" class=\"data row10 col1\" >Birdland marked the peak of Weather Report's commercial career with the release of \"Heavy Weather\". With the addition of Jaco Pastorius, the band was able...</td>\n",
       "      <td id=\"T_4004c_row10_col2\" class=\"data row10 col2\" >Birdland</td>\n",
       "      <td id=\"T_4004c_row10_col3\" class=\"data row10 col3\" >Jaco Pastoriuksen tunnetuin kappale on \"Birdland\", joka on myös Weather Reportin tunnetuin kappale.</td>\n",
       "      <td id=\"T_4004c_row10_col4\" class=\"data row10 col4\" >Birdland</td>\n",
       "      <td id=\"T_4004c_row10_col5\" class=\"data row10 col5\" >✔️ [True]</td>\n",
       "    </tr>\n",
       "    <tr>\n",
       "      <th id=\"T_4004c_level0_row11\" class=\"row_heading level0 row11\" >11</th>\n",
       "      <td id=\"T_4004c_row11_col0\" class=\"data row11 col0\" >Onko Andien huiput kokonaan lumen peitossa?</td>\n",
       "      <td id=\"T_4004c_row11_col1\" class=\"data row11 col1\" >The climate in the Andes varies greatly depending on latitude, altitude, and proximity to the sea. Temperature, atmospheric pressure and humidity decrease in higher elevations....</td>\n",
       "      <td id=\"T_4004c_row11_col2\" class=\"data row11 col2\" >no</td>\n",
       "      <td id=\"T_4004c_row11_col3\" class=\"data row11 col3\" >Andien huiput ovat osittain lumen peitossa, mutta ei kokonaan.</td>\n",
       "      <td id=\"T_4004c_row11_col4\" class=\"data row11 col4\" >ei kokonaan</td>\n",
       "      <td id=\"T_4004c_row11_col5\" class=\"data row11 col5\" ><class 'str'></td>\n",
       "    </tr>\n",
       "    <tr>\n",
       "      <th id=\"T_4004c_level0_row12\" class=\"row_heading level0 row12\" >12</th>\n",
       "      <td id=\"T_4004c_row12_col0\" class=\"data row12 col0\" >Missä kaupungissa Mario Cipollini on syntynyt?</td>\n",
       "      <td id=\"T_4004c_row12_col1\" class=\"data row12 col1\" >Cipollini was born in Lucca, Tuscany. He came from a cycling family – his father, Vivaldo, had been a successful amateur racer in his youth,...</td>\n",
       "      <td id=\"T_4004c_row12_col2\" class=\"data row12 col2\" >Lucca, Tuscany</td>\n",
       "      <td id=\"T_4004c_row12_col3\" class=\"data row12 col3\" >Not supplied for this particular example.</td>\n",
       "      <td id=\"T_4004c_row12_col4\" class=\"data row12 col4\" >Lucca</td>\n",
       "      <td id=\"T_4004c_row12_col5\" class=\"data row12 col5\" ><class 'str'></td>\n",
       "    </tr>\n",
       "    <tr>\n",
       "      <th id=\"T_4004c_level0_row13\" class=\"row_heading level0 row13\" >13</th>\n",
       "      <td id=\"T_4004c_row13_col0\" class=\"data row13 col0\" >Milloin Hopeanuoli manga on aloitettu julkaisemaan?</td>\n",
       "      <td id=\"T_4004c_row13_col1\" class=\"data row13 col1\" >Takahashi was born September 18, 1953, in Higashinaruse, Akita. He was very interested in drawing coming of age related themes, and, in the 1960s, started...</td>\n",
       "      <td id=\"T_4004c_row13_col2\" class=\"data row13 col2\" >1984</td>\n",
       "      <td id=\"T_4004c_row13_col3\" class=\"data row13 col3\" >Not supplied for this particular example.</td>\n",
       "      <td id=\"T_4004c_row13_col4\" class=\"data row13 col4\" >1980</td>\n",
       "      <td id=\"T_4004c_row13_col5\" class=\"data row13 col5\" ><class 'str'></td>\n",
       "    </tr>\n",
       "    <tr>\n",
       "      <th id=\"T_4004c_level0_row14\" class=\"row_heading level0 row14\" >14</th>\n",
       "      <td id=\"T_4004c_row14_col0\" class=\"data row14 col0\" >Millä dynastialla ns. mandariinit tulivat osaksi hallintoa?</td>\n",
       "      <td id=\"T_4004c_row14_col1\" class=\"data row14 col1\" >China has had civil servants since at least the Zhou Dynasty. However, most high ranking positions were filled by relatives of the sovereign and the...</td>\n",
       "      <td id=\"T_4004c_row14_col2\" class=\"data row14 col2\" >Tang Dynasty</td>\n",
       "      <td id=\"T_4004c_row14_col3\" class=\"data row14 col3\" >Not supplied for this particular example.</td>\n",
       "      <td id=\"T_4004c_row14_col4\" class=\"data row14 col4\" >Tang Dynasty</td>\n",
       "      <td id=\"T_4004c_row14_col5\" class=\"data row14 col5\" >✔️ [True]</td>\n",
       "    </tr>\n",
       "  </tbody>\n",
       "</table>\n"
      ],
      "text/plain": [
       "<pandas.io.formats.style.Styler at 0x3316a7650>"
      ]
     },
     "metadata": {},
     "output_type": "display_data"
    },
    {
     "data": {
      "text/html": [
       "\n",
       "                <div style='\n",
       "                    text-align: center;\n",
       "                    font-size: 16px;\n",
       "                    font-weight: bold;\n",
       "                    color: #555;\n",
       "                    margin: 10px 0;'>\n",
       "                    ... 285 more rows not displayed ...\n",
       "                </div>\n",
       "                "
      ],
      "text/plain": [
       "<IPython.core.display.HTML object>"
      ]
     },
     "metadata": {},
     "output_type": "display_data"
    },
    {
     "name": "stderr",
     "output_type": "stream",
     "text": [
      "Average Metric: 175.30327814469254 / 300  (58.4): 100%|██████████| 300/300 [00:00<00:00, 4994.09it/s]\n"
     ]
    },
    {
     "data": {
      "text/html": [
       "<style type=\"text/css\">\n",
       "#T_0a729 th {\n",
       "  text-align: left;\n",
       "}\n",
       "#T_0a729 td {\n",
       "  text-align: left;\n",
       "}\n",
       "#T_0a729_row0_col0, #T_0a729_row0_col1, #T_0a729_row0_col2, #T_0a729_row0_col3, #T_0a729_row0_col4, #T_0a729_row0_col5, #T_0a729_row1_col0, #T_0a729_row1_col1, #T_0a729_row1_col2, #T_0a729_row1_col3, #T_0a729_row1_col4, #T_0a729_row1_col5, #T_0a729_row2_col0, #T_0a729_row2_col1, #T_0a729_row2_col2, #T_0a729_row2_col3, #T_0a729_row2_col4, #T_0a729_row2_col5, #T_0a729_row3_col0, #T_0a729_row3_col1, #T_0a729_row3_col2, #T_0a729_row3_col3, #T_0a729_row3_col4, #T_0a729_row3_col5, #T_0a729_row4_col0, #T_0a729_row4_col1, #T_0a729_row4_col2, #T_0a729_row4_col3, #T_0a729_row4_col4, #T_0a729_row4_col5, #T_0a729_row5_col0, #T_0a729_row5_col1, #T_0a729_row5_col2, #T_0a729_row5_col3, #T_0a729_row5_col4, #T_0a729_row5_col5, #T_0a729_row6_col0, #T_0a729_row6_col1, #T_0a729_row6_col2, #T_0a729_row6_col3, #T_0a729_row6_col4, #T_0a729_row6_col5, #T_0a729_row7_col0, #T_0a729_row7_col1, #T_0a729_row7_col2, #T_0a729_row7_col3, #T_0a729_row7_col4, #T_0a729_row7_col5, #T_0a729_row8_col0, #T_0a729_row8_col1, #T_0a729_row8_col2, #T_0a729_row8_col3, #T_0a729_row8_col4, #T_0a729_row8_col5, #T_0a729_row9_col0, #T_0a729_row9_col1, #T_0a729_row9_col2, #T_0a729_row9_col3, #T_0a729_row9_col4, #T_0a729_row9_col5, #T_0a729_row10_col0, #T_0a729_row10_col1, #T_0a729_row10_col2, #T_0a729_row10_col3, #T_0a729_row10_col4, #T_0a729_row10_col5, #T_0a729_row11_col0, #T_0a729_row11_col1, #T_0a729_row11_col2, #T_0a729_row11_col3, #T_0a729_row11_col4, #T_0a729_row11_col5, #T_0a729_row12_col0, #T_0a729_row12_col1, #T_0a729_row12_col2, #T_0a729_row12_col3, #T_0a729_row12_col4, #T_0a729_row12_col5, #T_0a729_row13_col0, #T_0a729_row13_col1, #T_0a729_row13_col2, #T_0a729_row13_col3, #T_0a729_row13_col4, #T_0a729_row13_col5, #T_0a729_row14_col0, #T_0a729_row14_col1, #T_0a729_row14_col2, #T_0a729_row14_col3, #T_0a729_row14_col4, #T_0a729_row14_col5 {\n",
       "  text-align: left;\n",
       "  white-space: pre-wrap;\n",
       "  word-wrap: break-word;\n",
       "  max-width: 400px;\n",
       "}\n",
       "</style>\n",
       "<table id=\"T_0a729\">\n",
       "  <thead>\n",
       "    <tr>\n",
       "      <th class=\"blank level0\" >&nbsp;</th>\n",
       "      <th id=\"T_0a729_level0_col0\" class=\"col_heading level0 col0\" >question</th>\n",
       "      <th id=\"T_0a729_level0_col1\" class=\"col_heading level0 col1\" >context</th>\n",
       "      <th id=\"T_0a729_level0_col2\" class=\"col_heading level0 col2\" >example_answer</th>\n",
       "      <th id=\"T_0a729_level0_col3\" class=\"col_heading level0 col3\" >reasoning</th>\n",
       "      <th id=\"T_0a729_level0_col4\" class=\"col_heading level0 col4\" >pred_answer</th>\n",
       "      <th id=\"T_0a729_level0_col5\" class=\"col_heading level0 col5\" >answer_f1_score</th>\n",
       "    </tr>\n",
       "  </thead>\n",
       "  <tbody>\n",
       "    <tr>\n",
       "      <th id=\"T_0a729_level0_row0\" class=\"row_heading level0 row0\" >0</th>\n",
       "      <td id=\"T_0a729_row0_col0\" class=\"data row0 col0\" >Missä maassa Jack Churchill syntyi?</td>\n",
       "      <td id=\"T_0a729_row0_col1\" class=\"data row0 col1\" >Churchill was born at Colombo, British Ceylon to Alec Fleming \"Alex\" Churchill (1876–1961), later of Hove, East Sussex and Elinor Elizabeth, daughter of John Alexander...</td>\n",
       "      <td id=\"T_0a729_row0_col2\" class=\"data row0 col2\" >Colombo, British Ceylon</td>\n",
       "      <td id=\"T_0a729_row0_col3\" class=\"data row0 col3\" >Not supplied for this particular example.</td>\n",
       "      <td id=\"T_0a729_row0_col4\" class=\"data row0 col4\" >Ceylon</td>\n",
       "      <td id=\"T_0a729_row0_col5\" class=\"data row0 col5\" >✔️ [0.5]</td>\n",
       "    </tr>\n",
       "    <tr>\n",
       "      <th id=\"T_0a729_level0_row1\" class=\"row_heading level0 row1\" >1</th>\n",
       "      <td id=\"T_0a729_row1_col0\" class=\"data row1 col0\" >Mikä on yleisin uskonto maailmassa?</td>\n",
       "      <td id=\"T_0a729_row1_col1\" class=\"data row1 col1\" >The five largest religious groups by world population, estimated to account for 5.8 billion people and 84% of the population, are Christianity, Islam, Buddhism, Hinduism...</td>\n",
       "      <td id=\"T_0a729_row1_col2\" class=\"data row1 col2\" >Christianity</td>\n",
       "      <td id=\"T_0a729_row1_col3\" class=\"data row1 col3\" >Not supplied for this particular example.</td>\n",
       "      <td id=\"T_0a729_row1_col4\" class=\"data row1 col4\" >Christianity</td>\n",
       "      <td id=\"T_0a729_row1_col5\" class=\"data row1 col5\" >✔️ [1.0]</td>\n",
       "    </tr>\n",
       "    <tr>\n",
       "      <th id=\"T_0a729_level0_row2\" class=\"row_heading level0 row2\" >2</th>\n",
       "      <td id=\"T_0a729_row2_col0\" class=\"data row2 col0\" >Kuka oli Glee sarjan pääosassa?</td>\n",
       "      <td id=\"T_0a729_row2_col1\" class=\"data row2 col1\" >Rachel Barbra Berry (Lea Michele) is the lead character and is a \"strong, driven\" member of the glee club, who is misunderstood by her peers....</td>\n",
       "      <td id=\"T_0a729_row2_col2\" class=\"data row2 col2\" >Rachel Barbra Berry</td>\n",
       "      <td id=\"T_0a729_row2_col3\" class=\"data row2 col3\" >Not supplied for this particular example.</td>\n",
       "      <td id=\"T_0a729_row2_col4\" class=\"data row2 col4\" >Lea Michele</td>\n",
       "      <td id=\"T_0a729_row2_col5\" class=\"data row2 col5\" ><class 'str'></td>\n",
       "    </tr>\n",
       "    <tr>\n",
       "      <th id=\"T_0a729_level0_row3\" class=\"row_heading level0 row3\" >3</th>\n",
       "      <td id=\"T_0a729_row3_col0\" class=\"data row3 col0\" >Milloin Killzone-sarjan peli julkaistiin ensimmäisen kerran?</td>\n",
       "      <td id=\"T_0a729_row3_col1\" class=\"data row3 col1\" >Killzone is a series of first-person shooter and twin sticks shooter video games for Sony Computer Entertainment's (SCE) video game consoles. The main series and...</td>\n",
       "      <td id=\"T_0a729_row3_col2\" class=\"data row3 col2\" >November 2004</td>\n",
       "      <td id=\"T_0a729_row3_col3\" class=\"data row3 col3\" >Peli julkaistiin ensimmäisen kerran PlayStation 2:lle marraskuussa 2004.</td>\n",
       "      <td id=\"T_0a729_row3_col4\" class=\"data row3 col4\" >2004</td>\n",
       "      <td id=\"T_0a729_row3_col5\" class=\"data row3 col5\" >✔️ [0.6666666666666666]</td>\n",
       "    </tr>\n",
       "    <tr>\n",
       "      <th id=\"T_0a729_level0_row4\" class=\"row_heading level0 row4\" >4</th>\n",
       "      <td id=\"T_0a729_row4_col0\" class=\"data row4 col0\" >Milloin Pennsylvania liitty USA?</td>\n",
       "      <td id=\"T_0a729_row4_col1\" class=\"data row4 col1\" >The state is one of the 13 original founding states of the United States; it came into being in 1681 as a result of a...</td>\n",
       "      <td id=\"T_0a729_row4_col2\" class=\"data row4 col2\" >December 12, 1787</td>\n",
       "      <td id=\"T_0a729_row4_col3\" class=\"data row4 col3\" >Not supplied for this particular example.</td>\n",
       "      <td id=\"T_0a729_row4_col4\" class=\"data row4 col4\" >1681</td>\n",
       "      <td id=\"T_0a729_row4_col5\" class=\"data row4 col5\" ><class 'str'></td>\n",
       "    </tr>\n",
       "    <tr>\n",
       "      <th id=\"T_0a729_level0_row5\" class=\"row_heading level0 row5\" >5</th>\n",
       "      <td id=\"T_0a729_row5_col0\" class=\"data row5 col0\" >Missä Richard Attenborough kuoli?</td>\n",
       "      <td id=\"T_0a729_row5_col1\" class=\"data row5 col1\" >In June 2012, shortly before her 90th birthday, Sheila Sim entered the professional actors' retirement home Denville Hall, for which she and Attenborough had helped...</td>\n",
       "      <td id=\"T_0a729_row5_col2\" class=\"data row5 col2\" >Denville Hall</td>\n",
       "      <td id=\"T_0a729_row5_col3\" class=\"data row5 col3\" >Not supplied for this particular example.</td>\n",
       "      <td id=\"T_0a729_row5_col4\" class=\"data row5 col4\" >London</td>\n",
       "      <td id=\"T_0a729_row5_col5\" class=\"data row5 col5\" ><class 'str'></td>\n",
       "    </tr>\n",
       "    <tr>\n",
       "      <th id=\"T_0a729_level0_row6\" class=\"row_heading level0 row6\" >6</th>\n",
       "      <td id=\"T_0a729_row6_col0\" class=\"data row6 col0\" >Milloin ateismi on syntynyt?</td>\n",
       "      <td id=\"T_0a729_row6_col1\" class=\"data row6 col1\" >In early ancient Greek, the adjective ' (, from the privative ἀ- + \"god\") meant \"godless\". It was first used as a term of censure...</td>\n",
       "      <td id=\"T_0a729_row6_col2\" class=\"data row6 col2\" >5th century BCE</td>\n",
       "      <td id=\"T_0a729_row6_col3\" class=\"data row6 col3\" >Not supplied for this particular example.</td>\n",
       "      <td id=\"T_0a729_row6_col4\" class=\"data row6 col4\" >5th century BCE</td>\n",
       "      <td id=\"T_0a729_row6_col5\" class=\"data row6 col5\" >✔️ [1.0]</td>\n",
       "    </tr>\n",
       "    <tr>\n",
       "      <th id=\"T_0a729_level0_row7\" class=\"row_heading level0 row7\" >7</th>\n",
       "      <td id=\"T_0a729_row7_col0\" class=\"data row7 col0\" >Mistä tulee nimitys digitelevisio?</td>\n",
       "      <td id=\"T_0a729_row7_col1\" class=\"data row7 col1\" >Digital television (DTV) is the transmission of television signals, including the sound channel, using digital encoding, in contrast to the earlier television technology, analog television,...</td>\n",
       "      <td id=\"T_0a729_row7_col2\" class=\"data row7 col2\" >transmission of television signals, including the sound channel, using digital encoding</td>\n",
       "      <td id=\"T_0a729_row7_col3\" class=\"data row7 col3\" >Nimitys \"digitelevisio\" tulee siitä, että televisio lähetetään digitaalisesti, eli digitaalisella koodauksella.</td>\n",
       "      <td id=\"T_0a729_row7_col4\" class=\"data row7 col4\" >digitaalisesta lähetystekniikasta</td>\n",
       "      <td id=\"T_0a729_row7_col5\" class=\"data row7 col5\" ><class 'str'></td>\n",
       "    </tr>\n",
       "    <tr>\n",
       "      <th id=\"T_0a729_level0_row8\" class=\"row_heading level0 row8\" >8</th>\n",
       "      <td id=\"T_0a729_row8_col0\" class=\"data row8 col0\" >Ovatko suomen kielen murteet olleet aina olemassa?</td>\n",
       "      <td id=\"T_0a729_row8_col1\" class=\"data row8 col1\" >Westrobothnian () is a number of closely related non-standardized Scandinavian dialects spoken natively along the coast of the historical province of Westrobothnia in co-existence with...</td>\n",
       "      <td id=\"T_0a729_row8_col2\" class=\"data row8 col2\" >no</td>\n",
       "      <td id=\"T_0a729_row8_col3\" class=\"data row8 col3\" >Not supplied for this particular example.</td>\n",
       "      <td id=\"T_0a729_row8_col4\" class=\"data row8 col4\" >ei</td>\n",
       "      <td id=\"T_0a729_row8_col5\" class=\"data row8 col5\" ><class 'str'></td>\n",
       "    </tr>\n",
       "    <tr>\n",
       "      <th id=\"T_0a729_level0_row9\" class=\"row_heading level0 row9\" >9</th>\n",
       "      <td id=\"T_0a729_row9_col0\" class=\"data row9 col0\" >Kuka näytteli pääosaa Glee sarjassa?</td>\n",
       "      <td id=\"T_0a729_row9_col1\" class=\"data row9 col1\" >Rachel Barbra Berry (Lea Michele) is the lead character and is a \"strong, driven\" member of the glee club, who is misunderstood by her peers....</td>\n",
       "      <td id=\"T_0a729_row9_col2\" class=\"data row9 col2\" >Lea Michele</td>\n",
       "      <td id=\"T_0a729_row9_col3\" class=\"data row9 col3\" >Lea Michele näytteli Rachel Barbra Berry roolia Glee sarjassa.</td>\n",
       "      <td id=\"T_0a729_row9_col4\" class=\"data row9 col4\" >Lea Michele</td>\n",
       "      <td id=\"T_0a729_row9_col5\" class=\"data row9 col5\" >✔️ [1.0]</td>\n",
       "    </tr>\n",
       "    <tr>\n",
       "      <th id=\"T_0a729_level0_row10\" class=\"row_heading level0 row10\" >10</th>\n",
       "      <td id=\"T_0a729_row10_col0\" class=\"data row10 col0\" >Mikä on Jaco Pastoriuksen tunnetuin kappale?</td>\n",
       "      <td id=\"T_0a729_row10_col1\" class=\"data row10 col1\" >Birdland marked the peak of Weather Report's commercial career with the release of \"Heavy Weather\". With the addition of Jaco Pastorius, the band was able...</td>\n",
       "      <td id=\"T_0a729_row10_col2\" class=\"data row10 col2\" >Birdland</td>\n",
       "      <td id=\"T_0a729_row10_col3\" class=\"data row10 col3\" >Jaco Pastoriuksen tunnetuin kappale on \"Birdland\", joka on myös Weather Reportin tunnetuin kappale.</td>\n",
       "      <td id=\"T_0a729_row10_col4\" class=\"data row10 col4\" >Birdland</td>\n",
       "      <td id=\"T_0a729_row10_col5\" class=\"data row10 col5\" >✔️ [1.0]</td>\n",
       "    </tr>\n",
       "    <tr>\n",
       "      <th id=\"T_0a729_level0_row11\" class=\"row_heading level0 row11\" >11</th>\n",
       "      <td id=\"T_0a729_row11_col0\" class=\"data row11 col0\" >Onko Andien huiput kokonaan lumen peitossa?</td>\n",
       "      <td id=\"T_0a729_row11_col1\" class=\"data row11 col1\" >The climate in the Andes varies greatly depending on latitude, altitude, and proximity to the sea. Temperature, atmospheric pressure and humidity decrease in higher elevations....</td>\n",
       "      <td id=\"T_0a729_row11_col2\" class=\"data row11 col2\" >no</td>\n",
       "      <td id=\"T_0a729_row11_col3\" class=\"data row11 col3\" >Andien huiput ovat osittain lumen peitossa, mutta ei kokonaan.</td>\n",
       "      <td id=\"T_0a729_row11_col4\" class=\"data row11 col4\" >ei kokonaan</td>\n",
       "      <td id=\"T_0a729_row11_col5\" class=\"data row11 col5\" ><class 'str'></td>\n",
       "    </tr>\n",
       "    <tr>\n",
       "      <th id=\"T_0a729_level0_row12\" class=\"row_heading level0 row12\" >12</th>\n",
       "      <td id=\"T_0a729_row12_col0\" class=\"data row12 col0\" >Missä kaupungissa Mario Cipollini on syntynyt?</td>\n",
       "      <td id=\"T_0a729_row12_col1\" class=\"data row12 col1\" >Cipollini was born in Lucca, Tuscany. He came from a cycling family – his father, Vivaldo, had been a successful amateur racer in his youth,...</td>\n",
       "      <td id=\"T_0a729_row12_col2\" class=\"data row12 col2\" >Lucca, Tuscany</td>\n",
       "      <td id=\"T_0a729_row12_col3\" class=\"data row12 col3\" >Not supplied for this particular example.</td>\n",
       "      <td id=\"T_0a729_row12_col4\" class=\"data row12 col4\" >Lucca</td>\n",
       "      <td id=\"T_0a729_row12_col5\" class=\"data row12 col5\" >✔️ [0.6666666666666666]</td>\n",
       "    </tr>\n",
       "    <tr>\n",
       "      <th id=\"T_0a729_level0_row13\" class=\"row_heading level0 row13\" >13</th>\n",
       "      <td id=\"T_0a729_row13_col0\" class=\"data row13 col0\" >Milloin Hopeanuoli manga on aloitettu julkaisemaan?</td>\n",
       "      <td id=\"T_0a729_row13_col1\" class=\"data row13 col1\" >Takahashi was born September 18, 1953, in Higashinaruse, Akita. He was very interested in drawing coming of age related themes, and, in the 1960s, started...</td>\n",
       "      <td id=\"T_0a729_row13_col2\" class=\"data row13 col2\" >1984</td>\n",
       "      <td id=\"T_0a729_row13_col3\" class=\"data row13 col3\" >Not supplied for this particular example.</td>\n",
       "      <td id=\"T_0a729_row13_col4\" class=\"data row13 col4\" >1980</td>\n",
       "      <td id=\"T_0a729_row13_col5\" class=\"data row13 col5\" ><class 'str'></td>\n",
       "    </tr>\n",
       "    <tr>\n",
       "      <th id=\"T_0a729_level0_row14\" class=\"row_heading level0 row14\" >14</th>\n",
       "      <td id=\"T_0a729_row14_col0\" class=\"data row14 col0\" >Millä dynastialla ns. mandariinit tulivat osaksi hallintoa?</td>\n",
       "      <td id=\"T_0a729_row14_col1\" class=\"data row14 col1\" >China has had civil servants since at least the Zhou Dynasty. However, most high ranking positions were filled by relatives of the sovereign and the...</td>\n",
       "      <td id=\"T_0a729_row14_col2\" class=\"data row14 col2\" >Tang Dynasty</td>\n",
       "      <td id=\"T_0a729_row14_col3\" class=\"data row14 col3\" >Not supplied for this particular example.</td>\n",
       "      <td id=\"T_0a729_row14_col4\" class=\"data row14 col4\" >Tang Dynasty</td>\n",
       "      <td id=\"T_0a729_row14_col5\" class=\"data row14 col5\" >✔️ [1.0]</td>\n",
       "    </tr>\n",
       "  </tbody>\n",
       "</table>\n"
      ],
      "text/plain": [
       "<pandas.io.formats.style.Styler at 0x3316f2f50>"
      ]
     },
     "metadata": {},
     "output_type": "display_data"
    },
    {
     "data": {
      "text/html": [
       "\n",
       "                <div style='\n",
       "                    text-align: center;\n",
       "                    font-size: 16px;\n",
       "                    font-weight: bold;\n",
       "                    color: #555;\n",
       "                    margin: 10px 0;'>\n",
       "                    ... 285 more rows not displayed ...\n",
       "                </div>\n",
       "                "
      ],
      "text/plain": [
       "<IPython.core.display.HTML object>"
      ]
     },
     "metadata": {},
     "output_type": "display_data"
    },
    {
     "name": "stderr",
     "output_type": "stream",
     "text": []
    },
    {
     "name": "stdout",
     "output_type": "stream",
     "text": [
      "en F1 exact match 49.67 f1 58.43\n"
     ]
    },
    {
     "name": "stderr",
     "output_type": "stream",
     "text": [
      "Average Metric: 149 / 300  (49.7): 100%|██████████| 300/300 [00:00<00:00, 4455.86it/s]\n"
     ]
    },
    {
     "data": {
      "text/html": [
       "<style type=\"text/css\">\n",
       "#T_8fd17 th {\n",
       "  text-align: left;\n",
       "}\n",
       "#T_8fd17 td {\n",
       "  text-align: left;\n",
       "}\n",
       "#T_8fd17_row0_col0, #T_8fd17_row0_col1, #T_8fd17_row0_col2, #T_8fd17_row0_col3, #T_8fd17_row0_col4, #T_8fd17_row0_col5, #T_8fd17_row1_col0, #T_8fd17_row1_col1, #T_8fd17_row1_col2, #T_8fd17_row1_col3, #T_8fd17_row1_col4, #T_8fd17_row1_col5, #T_8fd17_row2_col0, #T_8fd17_row2_col1, #T_8fd17_row2_col2, #T_8fd17_row2_col3, #T_8fd17_row2_col4, #T_8fd17_row2_col5, #T_8fd17_row3_col0, #T_8fd17_row3_col1, #T_8fd17_row3_col2, #T_8fd17_row3_col3, #T_8fd17_row3_col4, #T_8fd17_row3_col5, #T_8fd17_row4_col0, #T_8fd17_row4_col1, #T_8fd17_row4_col2, #T_8fd17_row4_col3, #T_8fd17_row4_col4, #T_8fd17_row4_col5, #T_8fd17_row5_col0, #T_8fd17_row5_col1, #T_8fd17_row5_col2, #T_8fd17_row5_col3, #T_8fd17_row5_col4, #T_8fd17_row5_col5, #T_8fd17_row6_col0, #T_8fd17_row6_col1, #T_8fd17_row6_col2, #T_8fd17_row6_col3, #T_8fd17_row6_col4, #T_8fd17_row6_col5, #T_8fd17_row7_col0, #T_8fd17_row7_col1, #T_8fd17_row7_col2, #T_8fd17_row7_col3, #T_8fd17_row7_col4, #T_8fd17_row7_col5, #T_8fd17_row8_col0, #T_8fd17_row8_col1, #T_8fd17_row8_col2, #T_8fd17_row8_col3, #T_8fd17_row8_col4, #T_8fd17_row8_col5, #T_8fd17_row9_col0, #T_8fd17_row9_col1, #T_8fd17_row9_col2, #T_8fd17_row9_col3, #T_8fd17_row9_col4, #T_8fd17_row9_col5, #T_8fd17_row10_col0, #T_8fd17_row10_col1, #T_8fd17_row10_col2, #T_8fd17_row10_col3, #T_8fd17_row10_col4, #T_8fd17_row10_col5, #T_8fd17_row11_col0, #T_8fd17_row11_col1, #T_8fd17_row11_col2, #T_8fd17_row11_col3, #T_8fd17_row11_col4, #T_8fd17_row11_col5, #T_8fd17_row12_col0, #T_8fd17_row12_col1, #T_8fd17_row12_col2, #T_8fd17_row12_col3, #T_8fd17_row12_col4, #T_8fd17_row12_col5, #T_8fd17_row13_col0, #T_8fd17_row13_col1, #T_8fd17_row13_col2, #T_8fd17_row13_col3, #T_8fd17_row13_col4, #T_8fd17_row13_col5, #T_8fd17_row14_col0, #T_8fd17_row14_col1, #T_8fd17_row14_col2, #T_8fd17_row14_col3, #T_8fd17_row14_col4, #T_8fd17_row14_col5 {\n",
       "  text-align: left;\n",
       "  white-space: pre-wrap;\n",
       "  word-wrap: break-word;\n",
       "  max-width: 400px;\n",
       "}\n",
       "</style>\n",
       "<table id=\"T_8fd17\">\n",
       "  <thead>\n",
       "    <tr>\n",
       "      <th class=\"blank level0\" >&nbsp;</th>\n",
       "      <th id=\"T_8fd17_level0_col0\" class=\"col_heading level0 col0\" >question</th>\n",
       "      <th id=\"T_8fd17_level0_col1\" class=\"col_heading level0 col1\" >context</th>\n",
       "      <th id=\"T_8fd17_level0_col2\" class=\"col_heading level0 col2\" >example_answer</th>\n",
       "      <th id=\"T_8fd17_level0_col3\" class=\"col_heading level0 col3\" >reasoning</th>\n",
       "      <th id=\"T_8fd17_level0_col4\" class=\"col_heading level0 col4\" >pred_answer</th>\n",
       "      <th id=\"T_8fd17_level0_col5\" class=\"col_heading level0 col5\" >answer_exact_match</th>\n",
       "    </tr>\n",
       "  </thead>\n",
       "  <tbody>\n",
       "    <tr>\n",
       "      <th id=\"T_8fd17_level0_row0\" class=\"row_heading level0 row0\" >0</th>\n",
       "      <td id=\"T_8fd17_row0_col0\" class=\"data row0 col0\" >Missä maassa Jack Churchill syntyi?</td>\n",
       "      <td id=\"T_8fd17_row0_col1\" class=\"data row0 col1\" >Churchill was born at Colombo, British Ceylon to Alec Fleming \"Alex\" Churchill (1876–1961), later of Hove, East Sussex and Elinor Elizabeth, daughter of John Alexander...</td>\n",
       "      <td id=\"T_8fd17_row0_col2\" class=\"data row0 col2\" >Colombo, British Ceylon</td>\n",
       "      <td id=\"T_8fd17_row0_col3\" class=\"data row0 col3\" >Not supplied for this particular example.</td>\n",
       "      <td id=\"T_8fd17_row0_col4\" class=\"data row0 col4\" >Ceylon</td>\n",
       "      <td id=\"T_8fd17_row0_col5\" class=\"data row0 col5\" ><class 'str'></td>\n",
       "    </tr>\n",
       "    <tr>\n",
       "      <th id=\"T_8fd17_level0_row1\" class=\"row_heading level0 row1\" >1</th>\n",
       "      <td id=\"T_8fd17_row1_col0\" class=\"data row1 col0\" >Mikä on yleisin uskonto maailmassa?</td>\n",
       "      <td id=\"T_8fd17_row1_col1\" class=\"data row1 col1\" >The five largest religious groups by world population, estimated to account for 5.8 billion people and 84% of the population, are Christianity, Islam, Buddhism, Hinduism...</td>\n",
       "      <td id=\"T_8fd17_row1_col2\" class=\"data row1 col2\" >Christianity</td>\n",
       "      <td id=\"T_8fd17_row1_col3\" class=\"data row1 col3\" >Not supplied for this particular example.</td>\n",
       "      <td id=\"T_8fd17_row1_col4\" class=\"data row1 col4\" >Christianity</td>\n",
       "      <td id=\"T_8fd17_row1_col5\" class=\"data row1 col5\" >✔️ [True]</td>\n",
       "    </tr>\n",
       "    <tr>\n",
       "      <th id=\"T_8fd17_level0_row2\" class=\"row_heading level0 row2\" >2</th>\n",
       "      <td id=\"T_8fd17_row2_col0\" class=\"data row2 col0\" >Kuka oli Glee sarjan pääosassa?</td>\n",
       "      <td id=\"T_8fd17_row2_col1\" class=\"data row2 col1\" >Rachel Barbra Berry (Lea Michele) is the lead character and is a \"strong, driven\" member of the glee club, who is misunderstood by her peers....</td>\n",
       "      <td id=\"T_8fd17_row2_col2\" class=\"data row2 col2\" >Rachel Barbra Berry</td>\n",
       "      <td id=\"T_8fd17_row2_col3\" class=\"data row2 col3\" >Not supplied for this particular example.</td>\n",
       "      <td id=\"T_8fd17_row2_col4\" class=\"data row2 col4\" >Lea Michele</td>\n",
       "      <td id=\"T_8fd17_row2_col5\" class=\"data row2 col5\" ><class 'str'></td>\n",
       "    </tr>\n",
       "    <tr>\n",
       "      <th id=\"T_8fd17_level0_row3\" class=\"row_heading level0 row3\" >3</th>\n",
       "      <td id=\"T_8fd17_row3_col0\" class=\"data row3 col0\" >Milloin Killzone-sarjan peli julkaistiin ensimmäisen kerran?</td>\n",
       "      <td id=\"T_8fd17_row3_col1\" class=\"data row3 col1\" >Killzone is a series of first-person shooter and twin sticks shooter video games for Sony Computer Entertainment's (SCE) video game consoles. The main series and...</td>\n",
       "      <td id=\"T_8fd17_row3_col2\" class=\"data row3 col2\" >November 2004</td>\n",
       "      <td id=\"T_8fd17_row3_col3\" class=\"data row3 col3\" >Peli julkaistiin ensimmäisen kerran PlayStation 2:lle marraskuussa 2004.</td>\n",
       "      <td id=\"T_8fd17_row3_col4\" class=\"data row3 col4\" >2004</td>\n",
       "      <td id=\"T_8fd17_row3_col5\" class=\"data row3 col5\" ><class 'str'></td>\n",
       "    </tr>\n",
       "    <tr>\n",
       "      <th id=\"T_8fd17_level0_row4\" class=\"row_heading level0 row4\" >4</th>\n",
       "      <td id=\"T_8fd17_row4_col0\" class=\"data row4 col0\" >Milloin Pennsylvania liitty USA?</td>\n",
       "      <td id=\"T_8fd17_row4_col1\" class=\"data row4 col1\" >The state is one of the 13 original founding states of the United States; it came into being in 1681 as a result of a...</td>\n",
       "      <td id=\"T_8fd17_row4_col2\" class=\"data row4 col2\" >December 12, 1787</td>\n",
       "      <td id=\"T_8fd17_row4_col3\" class=\"data row4 col3\" >Not supplied for this particular example.</td>\n",
       "      <td id=\"T_8fd17_row4_col4\" class=\"data row4 col4\" >1681</td>\n",
       "      <td id=\"T_8fd17_row4_col5\" class=\"data row4 col5\" ><class 'str'></td>\n",
       "    </tr>\n",
       "    <tr>\n",
       "      <th id=\"T_8fd17_level0_row5\" class=\"row_heading level0 row5\" >5</th>\n",
       "      <td id=\"T_8fd17_row5_col0\" class=\"data row5 col0\" >Missä Richard Attenborough kuoli?</td>\n",
       "      <td id=\"T_8fd17_row5_col1\" class=\"data row5 col1\" >In June 2012, shortly before her 90th birthday, Sheila Sim entered the professional actors' retirement home Denville Hall, for which she and Attenborough had helped...</td>\n",
       "      <td id=\"T_8fd17_row5_col2\" class=\"data row5 col2\" >Denville Hall</td>\n",
       "      <td id=\"T_8fd17_row5_col3\" class=\"data row5 col3\" >Not supplied for this particular example.</td>\n",
       "      <td id=\"T_8fd17_row5_col4\" class=\"data row5 col4\" >London</td>\n",
       "      <td id=\"T_8fd17_row5_col5\" class=\"data row5 col5\" ><class 'str'></td>\n",
       "    </tr>\n",
       "    <tr>\n",
       "      <th id=\"T_8fd17_level0_row6\" class=\"row_heading level0 row6\" >6</th>\n",
       "      <td id=\"T_8fd17_row6_col0\" class=\"data row6 col0\" >Milloin ateismi on syntynyt?</td>\n",
       "      <td id=\"T_8fd17_row6_col1\" class=\"data row6 col1\" >In early ancient Greek, the adjective ' (, from the privative ἀ- + \"god\") meant \"godless\". It was first used as a term of censure...</td>\n",
       "      <td id=\"T_8fd17_row6_col2\" class=\"data row6 col2\" >5th century BCE</td>\n",
       "      <td id=\"T_8fd17_row6_col3\" class=\"data row6 col3\" >Not supplied for this particular example.</td>\n",
       "      <td id=\"T_8fd17_row6_col4\" class=\"data row6 col4\" >5th century BCE</td>\n",
       "      <td id=\"T_8fd17_row6_col5\" class=\"data row6 col5\" >✔️ [True]</td>\n",
       "    </tr>\n",
       "    <tr>\n",
       "      <th id=\"T_8fd17_level0_row7\" class=\"row_heading level0 row7\" >7</th>\n",
       "      <td id=\"T_8fd17_row7_col0\" class=\"data row7 col0\" >Mistä tulee nimitys digitelevisio?</td>\n",
       "      <td id=\"T_8fd17_row7_col1\" class=\"data row7 col1\" >Digital television (DTV) is the transmission of television signals, including the sound channel, using digital encoding, in contrast to the earlier television technology, analog television,...</td>\n",
       "      <td id=\"T_8fd17_row7_col2\" class=\"data row7 col2\" >transmission of television signals, including the sound channel, using digital encoding</td>\n",
       "      <td id=\"T_8fd17_row7_col3\" class=\"data row7 col3\" >Nimitys \"digitelevisio\" tulee siitä, että televisio lähetetään digitaalisesti, eli digitaalisella koodauksella.</td>\n",
       "      <td id=\"T_8fd17_row7_col4\" class=\"data row7 col4\" >digitaalisesta lähetystekniikasta</td>\n",
       "      <td id=\"T_8fd17_row7_col5\" class=\"data row7 col5\" ><class 'str'></td>\n",
       "    </tr>\n",
       "    <tr>\n",
       "      <th id=\"T_8fd17_level0_row8\" class=\"row_heading level0 row8\" >8</th>\n",
       "      <td id=\"T_8fd17_row8_col0\" class=\"data row8 col0\" >Ovatko suomen kielen murteet olleet aina olemassa?</td>\n",
       "      <td id=\"T_8fd17_row8_col1\" class=\"data row8 col1\" >Westrobothnian () is a number of closely related non-standardized Scandinavian dialects spoken natively along the coast of the historical province of Westrobothnia in co-existence with...</td>\n",
       "      <td id=\"T_8fd17_row8_col2\" class=\"data row8 col2\" >no</td>\n",
       "      <td id=\"T_8fd17_row8_col3\" class=\"data row8 col3\" >Not supplied for this particular example.</td>\n",
       "      <td id=\"T_8fd17_row8_col4\" class=\"data row8 col4\" >ei</td>\n",
       "      <td id=\"T_8fd17_row8_col5\" class=\"data row8 col5\" ><class 'str'></td>\n",
       "    </tr>\n",
       "    <tr>\n",
       "      <th id=\"T_8fd17_level0_row9\" class=\"row_heading level0 row9\" >9</th>\n",
       "      <td id=\"T_8fd17_row9_col0\" class=\"data row9 col0\" >Kuka näytteli pääosaa Glee sarjassa?</td>\n",
       "      <td id=\"T_8fd17_row9_col1\" class=\"data row9 col1\" >Rachel Barbra Berry (Lea Michele) is the lead character and is a \"strong, driven\" member of the glee club, who is misunderstood by her peers....</td>\n",
       "      <td id=\"T_8fd17_row9_col2\" class=\"data row9 col2\" >Lea Michele</td>\n",
       "      <td id=\"T_8fd17_row9_col3\" class=\"data row9 col3\" >Lea Michele näytteli Rachel Barbra Berry roolia Glee sarjassa.</td>\n",
       "      <td id=\"T_8fd17_row9_col4\" class=\"data row9 col4\" >Lea Michele</td>\n",
       "      <td id=\"T_8fd17_row9_col5\" class=\"data row9 col5\" >✔️ [True]</td>\n",
       "    </tr>\n",
       "    <tr>\n",
       "      <th id=\"T_8fd17_level0_row10\" class=\"row_heading level0 row10\" >10</th>\n",
       "      <td id=\"T_8fd17_row10_col0\" class=\"data row10 col0\" >Mikä on Jaco Pastoriuksen tunnetuin kappale?</td>\n",
       "      <td id=\"T_8fd17_row10_col1\" class=\"data row10 col1\" >Birdland marked the peak of Weather Report's commercial career with the release of \"Heavy Weather\". With the addition of Jaco Pastorius, the band was able...</td>\n",
       "      <td id=\"T_8fd17_row10_col2\" class=\"data row10 col2\" >Birdland</td>\n",
       "      <td id=\"T_8fd17_row10_col3\" class=\"data row10 col3\" >Jaco Pastoriuksen tunnetuin kappale on \"Birdland\", joka on myös Weather Reportin tunnetuin kappale.</td>\n",
       "      <td id=\"T_8fd17_row10_col4\" class=\"data row10 col4\" >Birdland</td>\n",
       "      <td id=\"T_8fd17_row10_col5\" class=\"data row10 col5\" >✔️ [True]</td>\n",
       "    </tr>\n",
       "    <tr>\n",
       "      <th id=\"T_8fd17_level0_row11\" class=\"row_heading level0 row11\" >11</th>\n",
       "      <td id=\"T_8fd17_row11_col0\" class=\"data row11 col0\" >Onko Andien huiput kokonaan lumen peitossa?</td>\n",
       "      <td id=\"T_8fd17_row11_col1\" class=\"data row11 col1\" >The climate in the Andes varies greatly depending on latitude, altitude, and proximity to the sea. Temperature, atmospheric pressure and humidity decrease in higher elevations....</td>\n",
       "      <td id=\"T_8fd17_row11_col2\" class=\"data row11 col2\" >no</td>\n",
       "      <td id=\"T_8fd17_row11_col3\" class=\"data row11 col3\" >Andien huiput ovat osittain lumen peitossa, mutta ei kokonaan.</td>\n",
       "      <td id=\"T_8fd17_row11_col4\" class=\"data row11 col4\" >ei kokonaan</td>\n",
       "      <td id=\"T_8fd17_row11_col5\" class=\"data row11 col5\" ><class 'str'></td>\n",
       "    </tr>\n",
       "    <tr>\n",
       "      <th id=\"T_8fd17_level0_row12\" class=\"row_heading level0 row12\" >12</th>\n",
       "      <td id=\"T_8fd17_row12_col0\" class=\"data row12 col0\" >Missä kaupungissa Mario Cipollini on syntynyt?</td>\n",
       "      <td id=\"T_8fd17_row12_col1\" class=\"data row12 col1\" >Cipollini was born in Lucca, Tuscany. He came from a cycling family – his father, Vivaldo, had been a successful amateur racer in his youth,...</td>\n",
       "      <td id=\"T_8fd17_row12_col2\" class=\"data row12 col2\" >Lucca, Tuscany</td>\n",
       "      <td id=\"T_8fd17_row12_col3\" class=\"data row12 col3\" >Not supplied for this particular example.</td>\n",
       "      <td id=\"T_8fd17_row12_col4\" class=\"data row12 col4\" >Lucca</td>\n",
       "      <td id=\"T_8fd17_row12_col5\" class=\"data row12 col5\" ><class 'str'></td>\n",
       "    </tr>\n",
       "    <tr>\n",
       "      <th id=\"T_8fd17_level0_row13\" class=\"row_heading level0 row13\" >13</th>\n",
       "      <td id=\"T_8fd17_row13_col0\" class=\"data row13 col0\" >Milloin Hopeanuoli manga on aloitettu julkaisemaan?</td>\n",
       "      <td id=\"T_8fd17_row13_col1\" class=\"data row13 col1\" >Takahashi was born September 18, 1953, in Higashinaruse, Akita. He was very interested in drawing coming of age related themes, and, in the 1960s, started...</td>\n",
       "      <td id=\"T_8fd17_row13_col2\" class=\"data row13 col2\" >1984</td>\n",
       "      <td id=\"T_8fd17_row13_col3\" class=\"data row13 col3\" >Not supplied for this particular example.</td>\n",
       "      <td id=\"T_8fd17_row13_col4\" class=\"data row13 col4\" >1980</td>\n",
       "      <td id=\"T_8fd17_row13_col5\" class=\"data row13 col5\" ><class 'str'></td>\n",
       "    </tr>\n",
       "    <tr>\n",
       "      <th id=\"T_8fd17_level0_row14\" class=\"row_heading level0 row14\" >14</th>\n",
       "      <td id=\"T_8fd17_row14_col0\" class=\"data row14 col0\" >Millä dynastialla ns. mandariinit tulivat osaksi hallintoa?</td>\n",
       "      <td id=\"T_8fd17_row14_col1\" class=\"data row14 col1\" >China has had civil servants since at least the Zhou Dynasty. However, most high ranking positions were filled by relatives of the sovereign and the...</td>\n",
       "      <td id=\"T_8fd17_row14_col2\" class=\"data row14 col2\" >Tang Dynasty</td>\n",
       "      <td id=\"T_8fd17_row14_col3\" class=\"data row14 col3\" >Not supplied for this particular example.</td>\n",
       "      <td id=\"T_8fd17_row14_col4\" class=\"data row14 col4\" >Tang Dynasty</td>\n",
       "      <td id=\"T_8fd17_row14_col5\" class=\"data row14 col5\" >✔️ [True]</td>\n",
       "    </tr>\n",
       "  </tbody>\n",
       "</table>\n"
      ],
      "text/plain": [
       "<pandas.io.formats.style.Styler at 0x3356bef50>"
      ]
     },
     "metadata": {},
     "output_type": "display_data"
    },
    {
     "data": {
      "text/html": [
       "\n",
       "                <div style='\n",
       "                    text-align: center;\n",
       "                    font-size: 16px;\n",
       "                    font-weight: bold;\n",
       "                    color: #555;\n",
       "                    margin: 10px 0;'>\n",
       "                    ... 285 more rows not displayed ...\n",
       "                </div>\n",
       "                "
      ],
      "text/plain": [
       "<IPython.core.display.HTML object>"
      ]
     },
     "metadata": {},
     "output_type": "display_data"
    },
    {
     "name": "stderr",
     "output_type": "stream",
     "text": [
      "Average Metric: 175.30327814469257 / 300  (58.4): 100%|██████████| 300/300 [00:00<00:00, 2699.86it/s]\n"
     ]
    },
    {
     "data": {
      "text/html": [
       "<style type=\"text/css\">\n",
       "#T_d5088 th {\n",
       "  text-align: left;\n",
       "}\n",
       "#T_d5088 td {\n",
       "  text-align: left;\n",
       "}\n",
       "#T_d5088_row0_col0, #T_d5088_row0_col1, #T_d5088_row0_col2, #T_d5088_row0_col3, #T_d5088_row0_col4, #T_d5088_row0_col5, #T_d5088_row1_col0, #T_d5088_row1_col1, #T_d5088_row1_col2, #T_d5088_row1_col3, #T_d5088_row1_col4, #T_d5088_row1_col5, #T_d5088_row2_col0, #T_d5088_row2_col1, #T_d5088_row2_col2, #T_d5088_row2_col3, #T_d5088_row2_col4, #T_d5088_row2_col5, #T_d5088_row3_col0, #T_d5088_row3_col1, #T_d5088_row3_col2, #T_d5088_row3_col3, #T_d5088_row3_col4, #T_d5088_row3_col5, #T_d5088_row4_col0, #T_d5088_row4_col1, #T_d5088_row4_col2, #T_d5088_row4_col3, #T_d5088_row4_col4, #T_d5088_row4_col5, #T_d5088_row5_col0, #T_d5088_row5_col1, #T_d5088_row5_col2, #T_d5088_row5_col3, #T_d5088_row5_col4, #T_d5088_row5_col5, #T_d5088_row6_col0, #T_d5088_row6_col1, #T_d5088_row6_col2, #T_d5088_row6_col3, #T_d5088_row6_col4, #T_d5088_row6_col5, #T_d5088_row7_col0, #T_d5088_row7_col1, #T_d5088_row7_col2, #T_d5088_row7_col3, #T_d5088_row7_col4, #T_d5088_row7_col5, #T_d5088_row8_col0, #T_d5088_row8_col1, #T_d5088_row8_col2, #T_d5088_row8_col3, #T_d5088_row8_col4, #T_d5088_row8_col5, #T_d5088_row9_col0, #T_d5088_row9_col1, #T_d5088_row9_col2, #T_d5088_row9_col3, #T_d5088_row9_col4, #T_d5088_row9_col5, #T_d5088_row10_col0, #T_d5088_row10_col1, #T_d5088_row10_col2, #T_d5088_row10_col3, #T_d5088_row10_col4, #T_d5088_row10_col5, #T_d5088_row11_col0, #T_d5088_row11_col1, #T_d5088_row11_col2, #T_d5088_row11_col3, #T_d5088_row11_col4, #T_d5088_row11_col5, #T_d5088_row12_col0, #T_d5088_row12_col1, #T_d5088_row12_col2, #T_d5088_row12_col3, #T_d5088_row12_col4, #T_d5088_row12_col5, #T_d5088_row13_col0, #T_d5088_row13_col1, #T_d5088_row13_col2, #T_d5088_row13_col3, #T_d5088_row13_col4, #T_d5088_row13_col5, #T_d5088_row14_col0, #T_d5088_row14_col1, #T_d5088_row14_col2, #T_d5088_row14_col3, #T_d5088_row14_col4, #T_d5088_row14_col5 {\n",
       "  text-align: left;\n",
       "  white-space: pre-wrap;\n",
       "  word-wrap: break-word;\n",
       "  max-width: 400px;\n",
       "}\n",
       "</style>\n",
       "<table id=\"T_d5088\">\n",
       "  <thead>\n",
       "    <tr>\n",
       "      <th class=\"blank level0\" >&nbsp;</th>\n",
       "      <th id=\"T_d5088_level0_col0\" class=\"col_heading level0 col0\" >question</th>\n",
       "      <th id=\"T_d5088_level0_col1\" class=\"col_heading level0 col1\" >context</th>\n",
       "      <th id=\"T_d5088_level0_col2\" class=\"col_heading level0 col2\" >example_answer</th>\n",
       "      <th id=\"T_d5088_level0_col3\" class=\"col_heading level0 col3\" >reasoning</th>\n",
       "      <th id=\"T_d5088_level0_col4\" class=\"col_heading level0 col4\" >pred_answer</th>\n",
       "      <th id=\"T_d5088_level0_col5\" class=\"col_heading level0 col5\" >answer_f1_score</th>\n",
       "    </tr>\n",
       "  </thead>\n",
       "  <tbody>\n",
       "    <tr>\n",
       "      <th id=\"T_d5088_level0_row0\" class=\"row_heading level0 row0\" >0</th>\n",
       "      <td id=\"T_d5088_row0_col0\" class=\"data row0 col0\" >Missä maassa Jack Churchill syntyi?</td>\n",
       "      <td id=\"T_d5088_row0_col1\" class=\"data row0 col1\" >Churchill was born at Colombo, British Ceylon to Alec Fleming \"Alex\" Churchill (1876–1961), later of Hove, East Sussex and Elinor Elizabeth, daughter of John Alexander...</td>\n",
       "      <td id=\"T_d5088_row0_col2\" class=\"data row0 col2\" >Colombo, British Ceylon</td>\n",
       "      <td id=\"T_d5088_row0_col3\" class=\"data row0 col3\" >Not supplied for this particular example.</td>\n",
       "      <td id=\"T_d5088_row0_col4\" class=\"data row0 col4\" >Ceylon</td>\n",
       "      <td id=\"T_d5088_row0_col5\" class=\"data row0 col5\" >✔️ [0.5]</td>\n",
       "    </tr>\n",
       "    <tr>\n",
       "      <th id=\"T_d5088_level0_row1\" class=\"row_heading level0 row1\" >1</th>\n",
       "      <td id=\"T_d5088_row1_col0\" class=\"data row1 col0\" >Mikä on yleisin uskonto maailmassa?</td>\n",
       "      <td id=\"T_d5088_row1_col1\" class=\"data row1 col1\" >The five largest religious groups by world population, estimated to account for 5.8 billion people and 84% of the population, are Christianity, Islam, Buddhism, Hinduism...</td>\n",
       "      <td id=\"T_d5088_row1_col2\" class=\"data row1 col2\" >Christianity</td>\n",
       "      <td id=\"T_d5088_row1_col3\" class=\"data row1 col3\" >Not supplied for this particular example.</td>\n",
       "      <td id=\"T_d5088_row1_col4\" class=\"data row1 col4\" >Christianity</td>\n",
       "      <td id=\"T_d5088_row1_col5\" class=\"data row1 col5\" >✔️ [1.0]</td>\n",
       "    </tr>\n",
       "    <tr>\n",
       "      <th id=\"T_d5088_level0_row2\" class=\"row_heading level0 row2\" >2</th>\n",
       "      <td id=\"T_d5088_row2_col0\" class=\"data row2 col0\" >Kuka oli Glee sarjan pääosassa?</td>\n",
       "      <td id=\"T_d5088_row2_col1\" class=\"data row2 col1\" >Rachel Barbra Berry (Lea Michele) is the lead character and is a \"strong, driven\" member of the glee club, who is misunderstood by her peers....</td>\n",
       "      <td id=\"T_d5088_row2_col2\" class=\"data row2 col2\" >Rachel Barbra Berry</td>\n",
       "      <td id=\"T_d5088_row2_col3\" class=\"data row2 col3\" >Not supplied for this particular example.</td>\n",
       "      <td id=\"T_d5088_row2_col4\" class=\"data row2 col4\" >Lea Michele</td>\n",
       "      <td id=\"T_d5088_row2_col5\" class=\"data row2 col5\" ><class 'str'></td>\n",
       "    </tr>\n",
       "    <tr>\n",
       "      <th id=\"T_d5088_level0_row3\" class=\"row_heading level0 row3\" >3</th>\n",
       "      <td id=\"T_d5088_row3_col0\" class=\"data row3 col0\" >Milloin Killzone-sarjan peli julkaistiin ensimmäisen kerran?</td>\n",
       "      <td id=\"T_d5088_row3_col1\" class=\"data row3 col1\" >Killzone is a series of first-person shooter and twin sticks shooter video games for Sony Computer Entertainment's (SCE) video game consoles. The main series and...</td>\n",
       "      <td id=\"T_d5088_row3_col2\" class=\"data row3 col2\" >November 2004</td>\n",
       "      <td id=\"T_d5088_row3_col3\" class=\"data row3 col3\" >Peli julkaistiin ensimmäisen kerran PlayStation 2:lle marraskuussa 2004.</td>\n",
       "      <td id=\"T_d5088_row3_col4\" class=\"data row3 col4\" >2004</td>\n",
       "      <td id=\"T_d5088_row3_col5\" class=\"data row3 col5\" >✔️ [0.6666666666666666]</td>\n",
       "    </tr>\n",
       "    <tr>\n",
       "      <th id=\"T_d5088_level0_row4\" class=\"row_heading level0 row4\" >4</th>\n",
       "      <td id=\"T_d5088_row4_col0\" class=\"data row4 col0\" >Milloin Pennsylvania liitty USA?</td>\n",
       "      <td id=\"T_d5088_row4_col1\" class=\"data row4 col1\" >The state is one of the 13 original founding states of the United States; it came into being in 1681 as a result of a...</td>\n",
       "      <td id=\"T_d5088_row4_col2\" class=\"data row4 col2\" >December 12, 1787</td>\n",
       "      <td id=\"T_d5088_row4_col3\" class=\"data row4 col3\" >Not supplied for this particular example.</td>\n",
       "      <td id=\"T_d5088_row4_col4\" class=\"data row4 col4\" >1681</td>\n",
       "      <td id=\"T_d5088_row4_col5\" class=\"data row4 col5\" ><class 'str'></td>\n",
       "    </tr>\n",
       "    <tr>\n",
       "      <th id=\"T_d5088_level0_row5\" class=\"row_heading level0 row5\" >5</th>\n",
       "      <td id=\"T_d5088_row5_col0\" class=\"data row5 col0\" >Missä Richard Attenborough kuoli?</td>\n",
       "      <td id=\"T_d5088_row5_col1\" class=\"data row5 col1\" >In June 2012, shortly before her 90th birthday, Sheila Sim entered the professional actors' retirement home Denville Hall, for which she and Attenborough had helped...</td>\n",
       "      <td id=\"T_d5088_row5_col2\" class=\"data row5 col2\" >Denville Hall</td>\n",
       "      <td id=\"T_d5088_row5_col3\" class=\"data row5 col3\" >Not supplied for this particular example.</td>\n",
       "      <td id=\"T_d5088_row5_col4\" class=\"data row5 col4\" >London</td>\n",
       "      <td id=\"T_d5088_row5_col5\" class=\"data row5 col5\" ><class 'str'></td>\n",
       "    </tr>\n",
       "    <tr>\n",
       "      <th id=\"T_d5088_level0_row6\" class=\"row_heading level0 row6\" >6</th>\n",
       "      <td id=\"T_d5088_row6_col0\" class=\"data row6 col0\" >Milloin ateismi on syntynyt?</td>\n",
       "      <td id=\"T_d5088_row6_col1\" class=\"data row6 col1\" >In early ancient Greek, the adjective ' (, from the privative ἀ- + \"god\") meant \"godless\". It was first used as a term of censure...</td>\n",
       "      <td id=\"T_d5088_row6_col2\" class=\"data row6 col2\" >5th century BCE</td>\n",
       "      <td id=\"T_d5088_row6_col3\" class=\"data row6 col3\" >Not supplied for this particular example.</td>\n",
       "      <td id=\"T_d5088_row6_col4\" class=\"data row6 col4\" >5th century BCE</td>\n",
       "      <td id=\"T_d5088_row6_col5\" class=\"data row6 col5\" >✔️ [1.0]</td>\n",
       "    </tr>\n",
       "    <tr>\n",
       "      <th id=\"T_d5088_level0_row7\" class=\"row_heading level0 row7\" >7</th>\n",
       "      <td id=\"T_d5088_row7_col0\" class=\"data row7 col0\" >Mistä tulee nimitys digitelevisio?</td>\n",
       "      <td id=\"T_d5088_row7_col1\" class=\"data row7 col1\" >Digital television (DTV) is the transmission of television signals, including the sound channel, using digital encoding, in contrast to the earlier television technology, analog television,...</td>\n",
       "      <td id=\"T_d5088_row7_col2\" class=\"data row7 col2\" >transmission of television signals, including the sound channel, using digital encoding</td>\n",
       "      <td id=\"T_d5088_row7_col3\" class=\"data row7 col3\" >Nimitys \"digitelevisio\" tulee siitä, että televisio lähetetään digitaalisesti, eli digitaalisella koodauksella.</td>\n",
       "      <td id=\"T_d5088_row7_col4\" class=\"data row7 col4\" >digitaalisesta lähetystekniikasta</td>\n",
       "      <td id=\"T_d5088_row7_col5\" class=\"data row7 col5\" ><class 'str'></td>\n",
       "    </tr>\n",
       "    <tr>\n",
       "      <th id=\"T_d5088_level0_row8\" class=\"row_heading level0 row8\" >8</th>\n",
       "      <td id=\"T_d5088_row8_col0\" class=\"data row8 col0\" >Ovatko suomen kielen murteet olleet aina olemassa?</td>\n",
       "      <td id=\"T_d5088_row8_col1\" class=\"data row8 col1\" >Westrobothnian () is a number of closely related non-standardized Scandinavian dialects spoken natively along the coast of the historical province of Westrobothnia in co-existence with...</td>\n",
       "      <td id=\"T_d5088_row8_col2\" class=\"data row8 col2\" >no</td>\n",
       "      <td id=\"T_d5088_row8_col3\" class=\"data row8 col3\" >Not supplied for this particular example.</td>\n",
       "      <td id=\"T_d5088_row8_col4\" class=\"data row8 col4\" >ei</td>\n",
       "      <td id=\"T_d5088_row8_col5\" class=\"data row8 col5\" ><class 'str'></td>\n",
       "    </tr>\n",
       "    <tr>\n",
       "      <th id=\"T_d5088_level0_row9\" class=\"row_heading level0 row9\" >9</th>\n",
       "      <td id=\"T_d5088_row9_col0\" class=\"data row9 col0\" >Kuka näytteli pääosaa Glee sarjassa?</td>\n",
       "      <td id=\"T_d5088_row9_col1\" class=\"data row9 col1\" >Rachel Barbra Berry (Lea Michele) is the lead character and is a \"strong, driven\" member of the glee club, who is misunderstood by her peers....</td>\n",
       "      <td id=\"T_d5088_row9_col2\" class=\"data row9 col2\" >Lea Michele</td>\n",
       "      <td id=\"T_d5088_row9_col3\" class=\"data row9 col3\" >Lea Michele näytteli Rachel Barbra Berry roolia Glee sarjassa.</td>\n",
       "      <td id=\"T_d5088_row9_col4\" class=\"data row9 col4\" >Lea Michele</td>\n",
       "      <td id=\"T_d5088_row9_col5\" class=\"data row9 col5\" >✔️ [1.0]</td>\n",
       "    </tr>\n",
       "    <tr>\n",
       "      <th id=\"T_d5088_level0_row10\" class=\"row_heading level0 row10\" >10</th>\n",
       "      <td id=\"T_d5088_row10_col0\" class=\"data row10 col0\" >Mikä on Jaco Pastoriuksen tunnetuin kappale?</td>\n",
       "      <td id=\"T_d5088_row10_col1\" class=\"data row10 col1\" >Birdland marked the peak of Weather Report's commercial career with the release of \"Heavy Weather\". With the addition of Jaco Pastorius, the band was able...</td>\n",
       "      <td id=\"T_d5088_row10_col2\" class=\"data row10 col2\" >Birdland</td>\n",
       "      <td id=\"T_d5088_row10_col3\" class=\"data row10 col3\" >Jaco Pastoriuksen tunnetuin kappale on \"Birdland\", joka on myös Weather Reportin tunnetuin kappale.</td>\n",
       "      <td id=\"T_d5088_row10_col4\" class=\"data row10 col4\" >Birdland</td>\n",
       "      <td id=\"T_d5088_row10_col5\" class=\"data row10 col5\" >✔️ [1.0]</td>\n",
       "    </tr>\n",
       "    <tr>\n",
       "      <th id=\"T_d5088_level0_row11\" class=\"row_heading level0 row11\" >11</th>\n",
       "      <td id=\"T_d5088_row11_col0\" class=\"data row11 col0\" >Onko Andien huiput kokonaan lumen peitossa?</td>\n",
       "      <td id=\"T_d5088_row11_col1\" class=\"data row11 col1\" >The climate in the Andes varies greatly depending on latitude, altitude, and proximity to the sea. Temperature, atmospheric pressure and humidity decrease in higher elevations....</td>\n",
       "      <td id=\"T_d5088_row11_col2\" class=\"data row11 col2\" >no</td>\n",
       "      <td id=\"T_d5088_row11_col3\" class=\"data row11 col3\" >Andien huiput ovat osittain lumen peitossa, mutta ei kokonaan.</td>\n",
       "      <td id=\"T_d5088_row11_col4\" class=\"data row11 col4\" >ei kokonaan</td>\n",
       "      <td id=\"T_d5088_row11_col5\" class=\"data row11 col5\" ><class 'str'></td>\n",
       "    </tr>\n",
       "    <tr>\n",
       "      <th id=\"T_d5088_level0_row12\" class=\"row_heading level0 row12\" >12</th>\n",
       "      <td id=\"T_d5088_row12_col0\" class=\"data row12 col0\" >Missä kaupungissa Mario Cipollini on syntynyt?</td>\n",
       "      <td id=\"T_d5088_row12_col1\" class=\"data row12 col1\" >Cipollini was born in Lucca, Tuscany. He came from a cycling family – his father, Vivaldo, had been a successful amateur racer in his youth,...</td>\n",
       "      <td id=\"T_d5088_row12_col2\" class=\"data row12 col2\" >Lucca, Tuscany</td>\n",
       "      <td id=\"T_d5088_row12_col3\" class=\"data row12 col3\" >Not supplied for this particular example.</td>\n",
       "      <td id=\"T_d5088_row12_col4\" class=\"data row12 col4\" >Lucca</td>\n",
       "      <td id=\"T_d5088_row12_col5\" class=\"data row12 col5\" >✔️ [0.6666666666666666]</td>\n",
       "    </tr>\n",
       "    <tr>\n",
       "      <th id=\"T_d5088_level0_row13\" class=\"row_heading level0 row13\" >13</th>\n",
       "      <td id=\"T_d5088_row13_col0\" class=\"data row13 col0\" >Milloin Hopeanuoli manga on aloitettu julkaisemaan?</td>\n",
       "      <td id=\"T_d5088_row13_col1\" class=\"data row13 col1\" >Takahashi was born September 18, 1953, in Higashinaruse, Akita. He was very interested in drawing coming of age related themes, and, in the 1960s, started...</td>\n",
       "      <td id=\"T_d5088_row13_col2\" class=\"data row13 col2\" >1984</td>\n",
       "      <td id=\"T_d5088_row13_col3\" class=\"data row13 col3\" >Not supplied for this particular example.</td>\n",
       "      <td id=\"T_d5088_row13_col4\" class=\"data row13 col4\" >1980</td>\n",
       "      <td id=\"T_d5088_row13_col5\" class=\"data row13 col5\" ><class 'str'></td>\n",
       "    </tr>\n",
       "    <tr>\n",
       "      <th id=\"T_d5088_level0_row14\" class=\"row_heading level0 row14\" >14</th>\n",
       "      <td id=\"T_d5088_row14_col0\" class=\"data row14 col0\" >Millä dynastialla ns. mandariinit tulivat osaksi hallintoa?</td>\n",
       "      <td id=\"T_d5088_row14_col1\" class=\"data row14 col1\" >China has had civil servants since at least the Zhou Dynasty. However, most high ranking positions were filled by relatives of the sovereign and the...</td>\n",
       "      <td id=\"T_d5088_row14_col2\" class=\"data row14 col2\" >Tang Dynasty</td>\n",
       "      <td id=\"T_d5088_row14_col3\" class=\"data row14 col3\" >Not supplied for this particular example.</td>\n",
       "      <td id=\"T_d5088_row14_col4\" class=\"data row14 col4\" >Tang Dynasty</td>\n",
       "      <td id=\"T_d5088_row14_col5\" class=\"data row14 col5\" >✔️ [1.0]</td>\n",
       "    </tr>\n",
       "  </tbody>\n",
       "</table>\n"
      ],
      "text/plain": [
       "<pandas.io.formats.style.Styler at 0x335257690>"
      ]
     },
     "metadata": {},
     "output_type": "display_data"
    },
    {
     "data": {
      "text/html": [
       "\n",
       "                <div style='\n",
       "                    text-align: center;\n",
       "                    font-size: 16px;\n",
       "                    font-weight: bold;\n",
       "                    color: #555;\n",
       "                    margin: 10px 0;'>\n",
       "                    ... 285 more rows not displayed ...\n",
       "                </div>\n",
       "                "
      ],
      "text/plain": [
       "<IPython.core.display.HTML object>"
      ]
     },
     "metadata": {},
     "output_type": "display_data"
    },
    {
     "name": "stderr",
     "output_type": "stream",
     "text": [
      "Evaluating models: 100%|██████████| 4/4 [00:26<00:00,  6.74s/it]"
     ]
    },
    {
     "name": "stdout",
     "output_type": "stream",
     "text": [
      "en EM exact match 49.67 f1 58.43\n"
     ]
    },
    {
     "name": "stderr",
     "output_type": "stream",
     "text": [
      "\n"
     ]
    }
   ],
   "source": [
    "\n",
    "\n",
    "eval = True\n",
    "\n",
    "if eval:\n",
    "    for (lang, test_set), (metric_name, metric_func) in tqdm(list(product(\n",
    "        [('inlang', inlang_test), ('en', en_test)],\n",
    "        [('F1', metric_F1), ('EM', metric_EM)]\n",
    "    )), desc=\"Evaluating models\"):\n",
    "        \n",
    "        cot_compiled = CoT()\n",
    "        cot_compiled.load(f'code/{lang}_compiled_cot_{metric_name.lower()}.json')\n",
    "        \n",
    "        evaluate_exact_match = Evaluate(devset=test_set, metric=metric_EM, num_threads=int(os.cpu_count()), display_progress=True, display_table=15)\n",
    "        evaluate_f1 = Evaluate(devset=test_set, metric=metric_F1, num_threads=int(os.cpu_count()), display_progress=True, display_table=15)\n",
    "        res_em = evaluate_exact_match(cot_compiled)\n",
    "        res_f1 = evaluate_f1(cot_compiled)\n",
    "        \n",
    "        print(lang, metric_name, \"exact match\", res_em, \"f1\", res_f1)"
   ]
  }
 ],
 "metadata": {
  "kernelspec": {
   "display_name": "ml",
   "language": "python",
   "name": "python3"
  },
  "language_info": {
   "codemirror_mode": {
    "name": "ipython",
    "version": 3
   },
   "file_extension": ".py",
   "mimetype": "text/x-python",
   "name": "python",
   "nbconvert_exporter": "python",
   "pygments_lexer": "ipython3",
   "version": "3.11.9"
  }
 },
 "nbformat": 4,
 "nbformat_minor": 2
}
