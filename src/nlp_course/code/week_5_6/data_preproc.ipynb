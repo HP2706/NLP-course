{
 "cells": [
  {
   "cell_type": "code",
   "execution_count": 2,
   "metadata": {},
   "outputs": [
    {
     "name": "stderr",
     "output_type": "stream",
     "text": [
      "/opt/miniconda3/envs/ml/lib/python3.11/site-packages/tqdm/auto.py:21: TqdmWarning: IProgress not found. Please update jupyter and ipywidgets. See https://ipywidgets.readthedocs.io/en/stable/user_install.html\n",
      "  from .autonotebook import tqdm as notebook_tqdm\n"
     ]
    },
    {
     "name": "stdout",
     "output_type": "stream",
     "text": [
      "/Users/HansPeter/Dev/ku_local/nlp_course/src/nlp_course/code/week5\n",
      "/Users/HansPeter/Dev/ku_local/nlp_course/src/nlp_course\n"
     ]
    }
   ],
   "source": [
    "import pandas as pd\n",
    "import os\n",
    "from datasets import Dataset\n",
    "from transformers import AutoTokenizer\n",
    "import os\n",
    "from utils import construct_prompt\n",
    "\n",
    "current_dir = os.getcwd()\n",
    "print(current_dir)\n",
    "if current_dir.endswith(\"week_5_6\"):\n",
    "    os.chdir(\"../..\")\n",
    "    print(os.getcwd())\n",
    "else:\n",
    "    print(\"current dir\", current_dir)\n"
   ]
  },
  {
   "cell_type": "code",
   "execution_count": 2,
   "metadata": {},
   "outputs": [],
   "source": [
    "ds_train = pd.read_parquet(\"dataset/train_df.parquet\")\n",
    "ds_val = pd.read_parquet(\"dataset/val_df.parquet\")\n",
    "\n"
   ]
  },
  {
   "cell_type": "code",
   "execution_count": null,
   "metadata": {},
   "outputs": [],
   "source": [
    "\n",
    "\n",
    "ds_train_inlang = ds_train[ds_train['answer_inlang'].notna()]\n",
    "ds_val_inlang = ds_val[ds_val['answer_inlang'].notna()]\n",
    "ds_train_en = ds_train\n",
    "ds_val_en = ds_val\n"
   ]
  },
  {
   "cell_type": "code",
   "execution_count": null,
   "metadata": {},
   "outputs": [],
   "source": [
    "from typing import Any, List, Optional\n",
    "import json\n",
    "\n",
    "\n",
    "import re\n",
    "from datasets import Dataset    \n",
    "\n",
    "def prompt_to_segments(\n",
    "    prompt: str,\n",
    "    tokenizer : AutoTokenizer,\n",
    ") -> List[dict[str, Any]]:\n",
    "    \"\"\"\n",
    "    Convert a prompt to a list of segments.\n",
    "    \"\"\"\n",
    "    middle_text = 'assistant<\\|end_header_id\\|>'\n",
    "    end_text = tokenizer.eos_token\n",
    "    pattern = r'(.*?)assistant<\\|end_header_id\\|>(.*?)<\\|eot_id\\|>'\n",
    "    match = re.search(pattern, prompt, re.DOTALL)\n",
    "    chunks = [\n",
    "        {\"text\": match.group(1), \"label\": \"false\"},\n",
    "        {\"text\": middle_text, \"label\": \"false\"},\n",
    "        {\"text\": match.group(2), \"label\": \"true\"},\n",
    "        {\"text\": end_text, \"label\": \"false\"}\n",
    "    ]\n",
    "    return chunks\n",
    "\n",
    "def construct_input_output_from_df(\n",
    "    df: pd.DataFrame,\n",
    "    tokenizer : AutoTokenizer,\n",
    "    answer_key : str = \"answer_inlang\",\n",
    "):\n",
    "    segments = df.apply(\n",
    "        lambda x: \n",
    "            prompt_to_segments(\n",
    "                construct_prompt(\n",
    "                    tokenizer, x['question'], x['context'], x[answer_key], tokenize=False\n",
    "                ),\n",
    "                tokenizer\n",
    "            ), axis=1\n",
    "        )\n",
    "\n",
    "    data_dict = {'segments' : segments.tolist()}\n",
    "    dataset = Dataset.from_pandas(pd.DataFrame.from_dict(data_dict))\n",
    "    return dataset\n",
    "\n",
    "tokenizer = AutoTokenizer.from_pretrained(\"meta-llama/Meta-Llama-3.1-8B-Instruct\")\n",
    "\n",
    "train_jsonl = construct_input_output_from_df(\n",
    "    ds_train_en, \n",
    "    tokenizer,\n",
    "    \"answer\"\n",
    ")\n",
    "\n",
    "val_jsonl = construct_input_output_from_df(\n",
    "    ds_val_en, \n",
    "    tokenizer,\n",
    "    \"answer\"\n",
    ")\n",
    "\n",
    "\n",
    "train_jsonl.to_json(\n",
    "    \"code/week5/data/train_en_input_output.jsonl\", \n",
    "    orient=\"records\", \n",
    "    lines=True\n",
    ")\n",
    "\n",
    "val_jsonl.to_json(\n",
    "    \"code/week5/data/val_en_input_output.jsonl\", \n",
    "    orient=\"records\", \n",
    "    lines=True\n",
    ")\n",
    "\n",
    "train_jsonl.push_to_hub(\"hanspeterlyngsoeraaschoujensen/week41_train_en_input_output\")\n",
    "val_jsonl.push_to_hub(\"hanspeterlyngsoeraaschoujensen/week41_val_en_input_output\")\n",
    "\n"
   ]
  }
 ],
 "metadata": {
  "kernelspec": {
   "display_name": "ml",
   "language": "python",
   "name": "python3"
  },
  "language_info": {
   "codemirror_mode": {
    "name": "ipython",
    "version": 3
   },
   "file_extension": ".py",
   "mimetype": "text/x-python",
   "name": "python",
   "nbconvert_exporter": "python",
   "pygments_lexer": "ipython3",
   "version": "3.11.9"
  }
 },
 "nbformat": 4,
 "nbformat_minor": 2
}
