{
 "cells": [
  {
   "cell_type": "code",
   "execution_count": 1,
   "metadata": {},
   "outputs": [],
   "source": [
    "# week 3 \n",
    "# for each language train a classifier \n",
    "import pandas as pd\n",
    "import plotly.express as px\n",
    "from plotly.subplots import make_subplots\n",
    "import os\n",
    "from tqdm.asyncio import tqdm as async_tqdm\n",
    "from tqdm import tqdm\n",
    "import nest_asyncio\n",
    "import torch\n",
    "from torch import nn\n",
    "from torch.optim import Adam\n",
    "from torch.nn import BCELoss\n",
    "from dataclasses import dataclass\n",
    "import numpy as np\n",
    "nest_asyncio.apply()\n",
    "\n",
    "current_dir = os.getcwd()\n",
    "if current_dir.endswith(\"code\"):\n",
    "    os.chdir(\"..\")\n",
    "else:\n",
    "    print(\"current dir\", current_dir)\n"
   ]
  },
  {
   "cell_type": "code",
   "execution_count": 2,
   "metadata": {},
   "outputs": [],
   "source": [
    "ds_train = pd.read_parquet(\"dataset/train_df.parquet\")\n",
    "ds_val = pd.read_parquet(\"dataset/val_df.parquet\")\n"
   ]
  },
  {
   "cell_type": "code",
   "execution_count": 3,
   "metadata": {},
   "outputs": [],
   "source": [
    "def get_device():\n",
    "    if torch.cuda.is_available():\n",
    "        return torch.device(\"cuda\")\n",
    "    elif torch.backends.mps.is_available():\n",
    "        return torch.device(\"mps\")\n",
    "    else:\n",
    "        return torch.device(\"cpu\")"
   ]
  },
  {
   "cell_type": "code",
   "execution_count": 6,
   "metadata": {},
   "outputs": [
    {
     "data": {
      "text/plain": [
       "' \\n \\ntrainer_all = Trainer(TrainConfig(), d_model=1536, with_context=True)\\ntrainer_all.fit(ds_train)\\n\\nfor lang in [\\'ru\\', \\'ja\\', \\'fi\\']:\\n    val_ds = filter_language(ds_val, lang)\\n    metrics = trainer_all.evaluate(val_ds)\\n    print(f\"Evaluation for {lang}: {metrics}\")\\n'"
      ]
     },
     "execution_count": 6,
     "metadata": {},
     "output_type": "execute_result"
    }
   ],
   "source": [
    "from git import Optional\n",
    "from sklearn.metrics import accuracy_score, f1_score, confusion_matrix, precision_score, recall_score, balanced_accuracy_score\n",
    "\n",
    "\n",
    "class AnswerableClassifier(nn.Module):\n",
    "    def __init__(\n",
    "        self,\n",
    "        d_model: int = 128,\n",
    "        expansion_factor: int = 2,\n",
    "        with_context: bool = True,\n",
    "    ):\n",
    "        super().__init__()\n",
    "        \n",
    "        #simple linear model\n",
    "        _d_model = d_model * 2 if with_context else d_model\n",
    "        d_hidden = _d_model * expansion_factor\n",
    "        self.l_in = nn.Linear(_d_model, d_hidden)\n",
    "        self.relu = nn.ReLU()\n",
    "        self.l_out = nn.Linear(d_hidden, 1)\n",
    "        self.sigmoid = nn.Sigmoid()\n",
    "    \n",
    "    def forward(self, x):\n",
    "        x = self.l_in(x)\n",
    "        x = self.relu(x)\n",
    "        x = self.l_out(x)\n",
    "        x = self.sigmoid(x)\n",
    "        return x\n",
    "\n",
    "@dataclass\n",
    "class TrainConfig:\n",
    "    lr: float = 1e-3\n",
    "    batch_size : int = 32\n",
    "    n_epochs : int = 10\n",
    "\n",
    "class Trainer:\n",
    "    def __init__(\n",
    "        self,\n",
    "        config: TrainConfig,\n",
    "        d_model : int,\n",
    "        expansion_factor: int = 2,\n",
    "        with_context: bool = True,\n",
    "    ):\n",
    "        self.d_model = d_model\n",
    "        self.config = config\n",
    "        self.with_context = with_context\n",
    "        if with_context:\n",
    "            self.d_model *= 2\n",
    "        self.model = AnswerableClassifier(d_model, expansion_factor, with_context)\n",
    "        self.optimizer = Adam(self.model.parameters(), lr=self.config.lr)\n",
    "        self.criterion = BCELoss()\n",
    "        self.device = get_device()\n",
    "\n",
    "    def get_batch(self, data: pd.DataFrame, with_context : bool = True) -> tuple[torch.Tensor, torch.Tensor]:\n",
    "        \n",
    "        # we want to concatenate the question and context embeddings\n",
    "        # note that we are using matryoshka embeddings from openai \n",
    "        # so we can slice the embeddings and still get useful information\n",
    "        question_embeddings = torch.tensor(np.stack(data['question_embedding']), dtype=torch.float32, device=self.device)\n",
    "        if with_context:\n",
    "            context_embeddings = torch.tensor(np.stack(data['context_embedding']), dtype=torch.float32, device=self.device)\n",
    "            x = torch.cat(\n",
    "                (question_embeddings[:, :self.d_model], context_embeddings[:, :self.d_model]), \n",
    "                dim=1, \n",
    "            )\n",
    "        else:\n",
    "            x = question_embeddings[:, :self.d_model]\n",
    "            \n",
    "        y = torch.tensor(np.stack(data['answer_label']), device=self.device, dtype=torch.float32).unsqueeze(1)\n",
    "        \n",
    "        return x, y\n",
    "\n",
    "    def fit(self, train_df: pd.DataFrame):\n",
    "        \n",
    "        total_iterations = self.config.n_epochs * len(train_df) // self.config.batch_size\n",
    "        pbar = tqdm(total=total_iterations, desc=\"Training\")\n",
    "        for epoch in range(self.config.n_epochs):\n",
    "            self.model.train()\n",
    "            self.model.to(torch.float32)\n",
    "            self.model.to(self.device)\n",
    "            \n",
    "            for batch_idx in range(0, len(train_df), self.config.batch_size):\n",
    "                data = train_df.iloc[batch_idx:batch_idx+self.config.batch_size]\n",
    "                x, y = self.get_batch(data, with_context=self.with_context)\n",
    "                pred = self.model(x)\n",
    "                loss = self.criterion(pred, y)\n",
    "                loss.backward()\n",
    "                #print(\"grad\", self.model.l_in.weight.grad)\n",
    "                self.optimizer.step()\n",
    "                pbar.update(1)\n",
    "                self.model.zero_grad()\n",
    "\n",
    "        pbar.close()\n",
    "        \n",
    "    def evaluate(self, val_df: pd.DataFrame):\n",
    "        self.model.eval()\n",
    "        self.model.to(self.device)\n",
    "        \n",
    "        preds = []\n",
    "        true_values = []\n",
    "        with torch.no_grad():\n",
    "            for batch_idx in range(0, len(val_df), self.config.batch_size):\n",
    "                data = val_df.iloc[batch_idx:batch_idx+self.config.batch_size]\n",
    "                x, y = self.get_batch(data, with_context=self.with_context)\n",
    "                pred = self.model(x)\n",
    "                preds.extend(pred.view(-1).cpu().numpy())\n",
    "                true_values.extend(y.view(-1).cpu().numpy())\n",
    "          \n",
    "        preds = np.array(preds).round()\n",
    "        true_values = np.array(true_values).round()\n",
    "          \n",
    "        bce_loss = self.criterion(torch.tensor(preds), torch.tensor(true_values))\n",
    "        acc = accuracy_score(true_values, preds)\n",
    "        balanced_acc = balanced_accuracy_score(true_values, preds)\n",
    "        f1 = f1_score(true_values, preds)\n",
    "        precision = precision_score(true_values, preds)\n",
    "        recall = recall_score(true_values, preds)\n",
    "        conf_matrix = confusion_matrix(true_values, preds)\n",
    "        normalized_conf_matrix = conf_matrix.astype('float') / conf_matrix.sum(axis=1)[:, np.newaxis]\n",
    "        \n",
    "        return {\n",
    "            'accuracy': acc,\n",
    "            'bce_loss': bce_loss,\n",
    "            'balanced_accuracy': balanced_acc,\n",
    "            'f1': f1,\n",
    "            'precision': precision,\n",
    "            'recall': recall,\n",
    "            'confusion_matrix': conf_matrix,\n",
    "            'normalized_confusion_matrix': normalized_conf_matrix\n",
    "        }\n",
    "        \n",
    "    \n",
    "    def save(self):\n",
    "        os.makedirs(\"models\", exist_ok=True)\n",
    "        torch.save(self.model.state_dict(), \"models/model.pt\")\n",
    "\n",
    "\n",
    "def filter_language(ds: pd.DataFrame, language: str) -> pd.DataFrame:\n",
    "    return ds[ds['lang'] == language]\n",
    "\n",
    "\n",
    "train_ru = filter_language(ds_train, 'ru')\n",
    "val_ru = filter_language(ds_val, 'ru')\n",
    "train_ja = filter_language(ds_train, 'ja')\n",
    "val_ja = filter_language(ds_val, 'ja')\n",
    "train_fi = filter_language(ds_train, 'fi')\n",
    "val_fi = filter_language(ds_val, 'fi')\n"
   ]
  },
  {
   "cell_type": "code",
   "execution_count": 10,
   "metadata": {},
   "outputs": [
    {
     "name": "stderr",
     "output_type": "stream",
     "text": [
      "Training: 620it [00:03, 178.70it/s]                         \n"
     ]
    },
    {
     "name": "stdout",
     "output_type": "stream",
     "text": [
      "Evaluation for ru with expansion factor 1: {'accuracy': 0.9696969696969697, 'bce_loss': tensor(3.0303), 'balanced_accuracy': 0.7272727272727273, 'f1': 0.9842105263157894, 'precision': 0.9689119170984456, 'recall': 1.0, 'confusion_matrix': array([[ 10,  12],\n",
      "       [  0, 374]]), 'normalized_confusion_matrix': array([[0.45454545, 0.54545455],\n",
      "       [0.        , 1.        ]]), 'expansion_factor': 1}\n"
     ]
    },
    {
     "name": "stderr",
     "output_type": "stream",
     "text": [
      "Training: 620it [00:06, 97.75it/s]                         \n"
     ]
    },
    {
     "name": "stdout",
     "output_type": "stream",
     "text": [
      "Evaluation for ru with expansion factor 2: {'accuracy': 0.9797979797979798, 'bce_loss': tensor(2.0202), 'balanced_accuracy': 0.8181818181818181, 'f1': 0.9894179894179894, 'precision': 0.9790575916230366, 'recall': 1.0, 'confusion_matrix': array([[ 14,   8],\n",
      "       [  0, 374]]), 'normalized_confusion_matrix': array([[0.63636364, 0.36363636],\n",
      "       [0.        , 1.        ]]), 'expansion_factor': 2}\n"
     ]
    },
    {
     "data": {
      "application/vnd.plotly.v1+json": {
       "config": {
        "plotlyServerURL": "https://plot.ly"
       },
       "data": [
        {
         "hovertemplate": "Expansion Factor=%{x}<br>balanced_accuracy=%{y}<extra></extra>",
         "legendgroup": "",
         "line": {
          "color": "#636efa",
          "dash": "solid"
         },
         "marker": {
          "symbol": "circle"
         },
         "mode": "lines",
         "name": "",
         "orientation": "v",
         "showlegend": false,
         "type": "scatter",
         "x": [
          1,
          2
         ],
         "xaxis": "x",
         "y": [
          0.7272727272727273,
          0.8181818181818181
         ],
         "yaxis": "y"
        }
       ],
       "layout": {
        "legend": {
         "tracegroupgap": 0
        },
        "template": {
         "data": {
          "bar": [
           {
            "error_x": {
             "color": "#2a3f5f"
            },
            "error_y": {
             "color": "#2a3f5f"
            },
            "marker": {
             "line": {
              "color": "#E5ECF6",
              "width": 0.5
             },
             "pattern": {
              "fillmode": "overlay",
              "size": 10,
              "solidity": 0.2
             }
            },
            "type": "bar"
           }
          ],
          "barpolar": [
           {
            "marker": {
             "line": {
              "color": "#E5ECF6",
              "width": 0.5
             },
             "pattern": {
              "fillmode": "overlay",
              "size": 10,
              "solidity": 0.2
             }
            },
            "type": "barpolar"
           }
          ],
          "carpet": [
           {
            "aaxis": {
             "endlinecolor": "#2a3f5f",
             "gridcolor": "white",
             "linecolor": "white",
             "minorgridcolor": "white",
             "startlinecolor": "#2a3f5f"
            },
            "baxis": {
             "endlinecolor": "#2a3f5f",
             "gridcolor": "white",
             "linecolor": "white",
             "minorgridcolor": "white",
             "startlinecolor": "#2a3f5f"
            },
            "type": "carpet"
           }
          ],
          "choropleth": [
           {
            "colorbar": {
             "outlinewidth": 0,
             "ticks": ""
            },
            "type": "choropleth"
           }
          ],
          "contour": [
           {
            "colorbar": {
             "outlinewidth": 0,
             "ticks": ""
            },
            "colorscale": [
             [
              0,
              "#0d0887"
             ],
             [
              0.1111111111111111,
              "#46039f"
             ],
             [
              0.2222222222222222,
              "#7201a8"
             ],
             [
              0.3333333333333333,
              "#9c179e"
             ],
             [
              0.4444444444444444,
              "#bd3786"
             ],
             [
              0.5555555555555556,
              "#d8576b"
             ],
             [
              0.6666666666666666,
              "#ed7953"
             ],
             [
              0.7777777777777778,
              "#fb9f3a"
             ],
             [
              0.8888888888888888,
              "#fdca26"
             ],
             [
              1,
              "#f0f921"
             ]
            ],
            "type": "contour"
           }
          ],
          "contourcarpet": [
           {
            "colorbar": {
             "outlinewidth": 0,
             "ticks": ""
            },
            "type": "contourcarpet"
           }
          ],
          "heatmap": [
           {
            "colorbar": {
             "outlinewidth": 0,
             "ticks": ""
            },
            "colorscale": [
             [
              0,
              "#0d0887"
             ],
             [
              0.1111111111111111,
              "#46039f"
             ],
             [
              0.2222222222222222,
              "#7201a8"
             ],
             [
              0.3333333333333333,
              "#9c179e"
             ],
             [
              0.4444444444444444,
              "#bd3786"
             ],
             [
              0.5555555555555556,
              "#d8576b"
             ],
             [
              0.6666666666666666,
              "#ed7953"
             ],
             [
              0.7777777777777778,
              "#fb9f3a"
             ],
             [
              0.8888888888888888,
              "#fdca26"
             ],
             [
              1,
              "#f0f921"
             ]
            ],
            "type": "heatmap"
           }
          ],
          "heatmapgl": [
           {
            "colorbar": {
             "outlinewidth": 0,
             "ticks": ""
            },
            "colorscale": [
             [
              0,
              "#0d0887"
             ],
             [
              0.1111111111111111,
              "#46039f"
             ],
             [
              0.2222222222222222,
              "#7201a8"
             ],
             [
              0.3333333333333333,
              "#9c179e"
             ],
             [
              0.4444444444444444,
              "#bd3786"
             ],
             [
              0.5555555555555556,
              "#d8576b"
             ],
             [
              0.6666666666666666,
              "#ed7953"
             ],
             [
              0.7777777777777778,
              "#fb9f3a"
             ],
             [
              0.8888888888888888,
              "#fdca26"
             ],
             [
              1,
              "#f0f921"
             ]
            ],
            "type": "heatmapgl"
           }
          ],
          "histogram": [
           {
            "marker": {
             "pattern": {
              "fillmode": "overlay",
              "size": 10,
              "solidity": 0.2
             }
            },
            "type": "histogram"
           }
          ],
          "histogram2d": [
           {
            "colorbar": {
             "outlinewidth": 0,
             "ticks": ""
            },
            "colorscale": [
             [
              0,
              "#0d0887"
             ],
             [
              0.1111111111111111,
              "#46039f"
             ],
             [
              0.2222222222222222,
              "#7201a8"
             ],
             [
              0.3333333333333333,
              "#9c179e"
             ],
             [
              0.4444444444444444,
              "#bd3786"
             ],
             [
              0.5555555555555556,
              "#d8576b"
             ],
             [
              0.6666666666666666,
              "#ed7953"
             ],
             [
              0.7777777777777778,
              "#fb9f3a"
             ],
             [
              0.8888888888888888,
              "#fdca26"
             ],
             [
              1,
              "#f0f921"
             ]
            ],
            "type": "histogram2d"
           }
          ],
          "histogram2dcontour": [
           {
            "colorbar": {
             "outlinewidth": 0,
             "ticks": ""
            },
            "colorscale": [
             [
              0,
              "#0d0887"
             ],
             [
              0.1111111111111111,
              "#46039f"
             ],
             [
              0.2222222222222222,
              "#7201a8"
             ],
             [
              0.3333333333333333,
              "#9c179e"
             ],
             [
              0.4444444444444444,
              "#bd3786"
             ],
             [
              0.5555555555555556,
              "#d8576b"
             ],
             [
              0.6666666666666666,
              "#ed7953"
             ],
             [
              0.7777777777777778,
              "#fb9f3a"
             ],
             [
              0.8888888888888888,
              "#fdca26"
             ],
             [
              1,
              "#f0f921"
             ]
            ],
            "type": "histogram2dcontour"
           }
          ],
          "mesh3d": [
           {
            "colorbar": {
             "outlinewidth": 0,
             "ticks": ""
            },
            "type": "mesh3d"
           }
          ],
          "parcoords": [
           {
            "line": {
             "colorbar": {
              "outlinewidth": 0,
              "ticks": ""
             }
            },
            "type": "parcoords"
           }
          ],
          "pie": [
           {
            "automargin": true,
            "type": "pie"
           }
          ],
          "scatter": [
           {
            "fillpattern": {
             "fillmode": "overlay",
             "size": 10,
             "solidity": 0.2
            },
            "type": "scatter"
           }
          ],
          "scatter3d": [
           {
            "line": {
             "colorbar": {
              "outlinewidth": 0,
              "ticks": ""
             }
            },
            "marker": {
             "colorbar": {
              "outlinewidth": 0,
              "ticks": ""
             }
            },
            "type": "scatter3d"
           }
          ],
          "scattercarpet": [
           {
            "marker": {
             "colorbar": {
              "outlinewidth": 0,
              "ticks": ""
             }
            },
            "type": "scattercarpet"
           }
          ],
          "scattergeo": [
           {
            "marker": {
             "colorbar": {
              "outlinewidth": 0,
              "ticks": ""
             }
            },
            "type": "scattergeo"
           }
          ],
          "scattergl": [
           {
            "marker": {
             "colorbar": {
              "outlinewidth": 0,
              "ticks": ""
             }
            },
            "type": "scattergl"
           }
          ],
          "scattermapbox": [
           {
            "marker": {
             "colorbar": {
              "outlinewidth": 0,
              "ticks": ""
             }
            },
            "type": "scattermapbox"
           }
          ],
          "scatterpolar": [
           {
            "marker": {
             "colorbar": {
              "outlinewidth": 0,
              "ticks": ""
             }
            },
            "type": "scatterpolar"
           }
          ],
          "scatterpolargl": [
           {
            "marker": {
             "colorbar": {
              "outlinewidth": 0,
              "ticks": ""
             }
            },
            "type": "scatterpolargl"
           }
          ],
          "scatterternary": [
           {
            "marker": {
             "colorbar": {
              "outlinewidth": 0,
              "ticks": ""
             }
            },
            "type": "scatterternary"
           }
          ],
          "surface": [
           {
            "colorbar": {
             "outlinewidth": 0,
             "ticks": ""
            },
            "colorscale": [
             [
              0,
              "#0d0887"
             ],
             [
              0.1111111111111111,
              "#46039f"
             ],
             [
              0.2222222222222222,
              "#7201a8"
             ],
             [
              0.3333333333333333,
              "#9c179e"
             ],
             [
              0.4444444444444444,
              "#bd3786"
             ],
             [
              0.5555555555555556,
              "#d8576b"
             ],
             [
              0.6666666666666666,
              "#ed7953"
             ],
             [
              0.7777777777777778,
              "#fb9f3a"
             ],
             [
              0.8888888888888888,
              "#fdca26"
             ],
             [
              1,
              "#f0f921"
             ]
            ],
            "type": "surface"
           }
          ],
          "table": [
           {
            "cells": {
             "fill": {
              "color": "#EBF0F8"
             },
             "line": {
              "color": "white"
             }
            },
            "header": {
             "fill": {
              "color": "#C8D4E3"
             },
             "line": {
              "color": "white"
             }
            },
            "type": "table"
           }
          ]
         },
         "layout": {
          "annotationdefaults": {
           "arrowcolor": "#2a3f5f",
           "arrowhead": 0,
           "arrowwidth": 1
          },
          "autotypenumbers": "strict",
          "coloraxis": {
           "colorbar": {
            "outlinewidth": 0,
            "ticks": ""
           }
          },
          "colorscale": {
           "diverging": [
            [
             0,
             "#8e0152"
            ],
            [
             0.1,
             "#c51b7d"
            ],
            [
             0.2,
             "#de77ae"
            ],
            [
             0.3,
             "#f1b6da"
            ],
            [
             0.4,
             "#fde0ef"
            ],
            [
             0.5,
             "#f7f7f7"
            ],
            [
             0.6,
             "#e6f5d0"
            ],
            [
             0.7,
             "#b8e186"
            ],
            [
             0.8,
             "#7fbc41"
            ],
            [
             0.9,
             "#4d9221"
            ],
            [
             1,
             "#276419"
            ]
           ],
           "sequential": [
            [
             0,
             "#0d0887"
            ],
            [
             0.1111111111111111,
             "#46039f"
            ],
            [
             0.2222222222222222,
             "#7201a8"
            ],
            [
             0.3333333333333333,
             "#9c179e"
            ],
            [
             0.4444444444444444,
             "#bd3786"
            ],
            [
             0.5555555555555556,
             "#d8576b"
            ],
            [
             0.6666666666666666,
             "#ed7953"
            ],
            [
             0.7777777777777778,
             "#fb9f3a"
            ],
            [
             0.8888888888888888,
             "#fdca26"
            ],
            [
             1,
             "#f0f921"
            ]
           ],
           "sequentialminus": [
            [
             0,
             "#0d0887"
            ],
            [
             0.1111111111111111,
             "#46039f"
            ],
            [
             0.2222222222222222,
             "#7201a8"
            ],
            [
             0.3333333333333333,
             "#9c179e"
            ],
            [
             0.4444444444444444,
             "#bd3786"
            ],
            [
             0.5555555555555556,
             "#d8576b"
            ],
            [
             0.6666666666666666,
             "#ed7953"
            ],
            [
             0.7777777777777778,
             "#fb9f3a"
            ],
            [
             0.8888888888888888,
             "#fdca26"
            ],
            [
             1,
             "#f0f921"
            ]
           ]
          },
          "colorway": [
           "#636efa",
           "#EF553B",
           "#00cc96",
           "#ab63fa",
           "#FFA15A",
           "#19d3f3",
           "#FF6692",
           "#B6E880",
           "#FF97FF",
           "#FECB52"
          ],
          "font": {
           "color": "#2a3f5f"
          },
          "geo": {
           "bgcolor": "white",
           "lakecolor": "white",
           "landcolor": "#E5ECF6",
           "showlakes": true,
           "showland": true,
           "subunitcolor": "white"
          },
          "hoverlabel": {
           "align": "left"
          },
          "hovermode": "closest",
          "mapbox": {
           "style": "light"
          },
          "paper_bgcolor": "white",
          "plot_bgcolor": "#E5ECF6",
          "polar": {
           "angularaxis": {
            "gridcolor": "white",
            "linecolor": "white",
            "ticks": ""
           },
           "bgcolor": "#E5ECF6",
           "radialaxis": {
            "gridcolor": "white",
            "linecolor": "white",
            "ticks": ""
           }
          },
          "scene": {
           "xaxis": {
            "backgroundcolor": "#E5ECF6",
            "gridcolor": "white",
            "gridwidth": 2,
            "linecolor": "white",
            "showbackground": true,
            "ticks": "",
            "zerolinecolor": "white"
           },
           "yaxis": {
            "backgroundcolor": "#E5ECF6",
            "gridcolor": "white",
            "gridwidth": 2,
            "linecolor": "white",
            "showbackground": true,
            "ticks": "",
            "zerolinecolor": "white"
           },
           "zaxis": {
            "backgroundcolor": "#E5ECF6",
            "gridcolor": "white",
            "gridwidth": 2,
            "linecolor": "white",
            "showbackground": true,
            "ticks": "",
            "zerolinecolor": "white"
           }
          },
          "shapedefaults": {
           "line": {
            "color": "#2a3f5f"
           }
          },
          "ternary": {
           "aaxis": {
            "gridcolor": "white",
            "linecolor": "white",
            "ticks": ""
           },
           "baxis": {
            "gridcolor": "white",
            "linecolor": "white",
            "ticks": ""
           },
           "bgcolor": "#E5ECF6",
           "caxis": {
            "gridcolor": "white",
            "linecolor": "white",
            "ticks": ""
           }
          },
          "title": {
           "x": 0.05
          },
          "xaxis": {
           "automargin": true,
           "gridcolor": "white",
           "linecolor": "white",
           "ticks": "",
           "title": {
            "standoff": 15
           },
           "zerolinecolor": "white",
           "zerolinewidth": 2
          },
          "yaxis": {
           "automargin": true,
           "gridcolor": "white",
           "linecolor": "white",
           "ticks": "",
           "title": {
            "standoff": 15
           },
           "zerolinecolor": "white",
           "zerolinewidth": 2
          }
         }
        },
        "title": {
         "text": "Accuracy for ru"
        },
        "xaxis": {
         "anchor": "y",
         "domain": [
          0,
          1
         ],
         "title": {
          "text": "Expansion Factor"
         }
        },
        "yaxis": {
         "anchor": "x",
         "domain": [
          0,
          1
         ],
         "title": {
          "text": "balanced_accuracy"
         }
        }
       }
      }
     },
     "metadata": {},
     "output_type": "display_data"
    }
   ],
   "source": [
    "#scaling experiments\n",
    "\n",
    "expansion_factors = [1, 2] #, 4, 8, 16, 32]\n",
    "\n",
    "\n",
    "for lang in ['ru']:#['ru', 'ja', 'fi']:\n",
    "    lst = []\n",
    "    train_ds = filter_language(ds_train, lang)\n",
    "    val_ds = filter_language(ds_val, lang)\n",
    "    for expansion_factor in expansion_factors:\n",
    "        trainer = Trainer(TrainConfig(), d_model=1536, with_context=True, expansion_factor=expansion_factor)\n",
    "        trainer.fit(train_ds)\n",
    "        metrics = trainer.evaluate(val_ds)\n",
    "        metrics['expansion_factor'] = expansion_factor\n",
    "        lst.append(metrics)\n",
    "        print(f\"Evaluation for {lang} with expansion factor {expansion_factor}: {metrics}\")\n",
    "\n",
    "    df = pd.DataFrame(lst)\n",
    "\n",
    "    fig = px.line(\n",
    "        df, \n",
    "        x='expansion_factor', \n",
    "        y='balanced_accuracy', \n",
    "        title=f'Accuracy for {lang}', \n",
    "        labels={'expansion_factor': 'Expansion Factor', 'normalized_accuracy': 'Accuracy'}\n",
    "    )\n",
    "    fig.show()\n",
    "\n",
    "\n"
   ]
  }
 ],
 "metadata": {
  "kernelspec": {
   "display_name": "ml",
   "language": "python",
   "name": "python3"
  },
  "language_info": {
   "codemirror_mode": {
    "name": "ipython",
    "version": 3
   },
   "file_extension": ".py",
   "mimetype": "text/x-python",
   "name": "python",
   "nbconvert_exporter": "python",
   "pygments_lexer": "ipython3",
   "version": "3.11.9"
  }
 },
 "nbformat": 4,
 "nbformat_minor": 2
}
