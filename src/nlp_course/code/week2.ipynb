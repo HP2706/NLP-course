{
 "cells": [
  {
   "cell_type": "code",
   "execution_count": 2,
   "metadata": {},
   "outputs": [
    {
     "name": "stdout",
     "output_type": "stream",
     "text": [
      "current dir /Users/HansPeter/Dev/ku_local/NLP-course/src/nlp_course/report/week2\n"
     ]
    },
    {
     "name": "stderr",
     "output_type": "stream",
     "text": [
      "[nltk_data] Downloading package knbc to /Users/HansPeter/nltk_data...\n",
      "[nltk_data]   Package knbc is already up-to-date!\n",
      "[nltk_data] Downloading package stopwords to\n",
      "[nltk_data]     /Users/HansPeter/nltk_data...\n",
      "[nltk_data]   Package stopwords is already up-to-date!\n",
      "[nltk_data] Downloading package punkt to /Users/HansPeter/nltk_data...\n",
      "[nltk_data]   Package punkt is already up-to-date!\n",
      "[nltk_data] Downloading package stopwords to\n",
      "[nltk_data]     /Users/HansPeter/nltk_data...\n",
      "[nltk_data]   Package stopwords is already up-to-date!\n"
     ]
    }
   ],
   "source": [
    "import pandas as pd\n",
    "import pandas as pd\n",
    "import nltk\n",
    "from nltk import ngrams\n",
    "from nltk.lm import MLE\n",
    "from nltk.lm.preprocessing import padded_everygram_pipeline\n",
    "##imports\n",
    "import pandas as pd\n",
    "import plotly.express as px\n",
    "from plotly.subplots import make_subplots\n",
    "import os\n",
    "from tqdm.asyncio import tqdm as async_tqdm\n",
    "import nest_asyncio\n",
    "from openai import AsyncOpenAI\n",
    "from typing import Optional\n",
    "from tqdm.asyncio import tqdm as async_tqdm\n",
    "from spacy.lang.ja import Japanese\n",
    "from spacy.lang.ru import Russian\n",
    "from spacy.lang.fi import Finnish\n",
    "import nltk\n",
    "#download the knbc corpus\n",
    "nltk.download('knbc')\n",
    "nltk.download('stopwords')\n",
    "from nltk.corpus import knbc\n",
    "from nltk.corpus import stopwords\n",
    "from nltk.tokenize import word_tokenize\n",
    "\n",
    "# Download necessary NLTK data\n",
    "nltk.download('punkt')\n",
    "nltk.download('stopwords')\n",
    "\n",
    "current_dir = os.getcwd()\n",
    "if current_dir.endswith(\"week1\"):\n",
    "    os.chdir(\"..\")\n",
    "else:\n",
    "    print(\"current dir\", current_dir)\n",
    "\n",
    "nest_asyncio.apply()"
   ]
  },
  {
   "cell_type": "code",
   "execution_count": null,
   "metadata": {},
   "outputs": [],
   "source": [
    "ds_train = "
   ]
  },
  {
   "cell_type": "code",
   "execution_count": null,
   "metadata": {},
   "outputs": [],
   "source": [
    "\n",
    "# Download necessary NLTK data (if not already downloaded)\n",
    "nltk.download('punkt')\n",
    "\n",
    "# Assuming you have your text data in a pandas DataFrame\n",
    "# For example: df = pd.read_csv('your_data.csv')\n",
    "\n",
    "# Tokenize your text and create n-grams\n",
    "n = 2  # for bigrams, change as needed\n",
    "text = df['text_column'].tolist()\n",
    "tokenized_text = [nltk.word_tokenize(sent) for sent in text]\n",
    "\n",
    "# Prepare the data for training\n",
    "train_data, padded_sents = padded_everygram_pipeline(n, tokenized_text)\n",
    "\n",
    "# Create and train the model\n",
    "model = MLE(n)  # MLE = Maximum Likelihood Estimation\n",
    "model.fit(train_data, padded_sents)\n",
    "\n",
    "# Now you can use the model for various tasks, e.g., calculating probabilities\n"
   ]
  }
 ],
 "metadata": {
  "kernelspec": {
   "display_name": "ml",
   "language": "python",
   "name": "python3"
  },
  "language_info": {
   "codemirror_mode": {
    "name": "ipython",
    "version": 3
   },
   "file_extension": ".py",
   "mimetype": "text/x-python",
   "name": "python",
   "nbconvert_exporter": "python",
   "pygments_lexer": "ipython3",
   "version": "3.11.9"
  }
 },
 "nbformat": 4,
 "nbformat_minor": 2
}
