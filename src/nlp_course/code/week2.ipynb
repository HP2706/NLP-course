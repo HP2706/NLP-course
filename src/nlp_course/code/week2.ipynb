{
 "cells": [
  {
   "cell_type": "code",
   "execution_count": 1,
   "metadata": {},
   "outputs": [
    {
     "name": "stderr",
     "output_type": "stream",
     "text": [
      "[nltk_data] Downloading package knbc to /Users/HansPeter/nltk_data...\n",
      "[nltk_data]   Package knbc is already up-to-date!\n",
      "[nltk_data] Downloading package stopwords to\n",
      "[nltk_data]     /Users/HansPeter/nltk_data...\n",
      "[nltk_data]   Package stopwords is already up-to-date!\n",
      "[nltk_data] Downloading package punkt to /Users/HansPeter/nltk_data...\n",
      "[nltk_data]   Package punkt is already up-to-date!\n",
      "[nltk_data] Downloading package stopwords to\n",
      "[nltk_data]     /Users/HansPeter/nltk_data...\n",
      "[nltk_data]   Package stopwords is already up-to-date!\n"
     ]
    }
   ],
   "source": [
    "import pandas as pd\n",
    "import pandas as pd\n",
    "import nltk\n",
    "from nltk import ngrams\n",
    "from nltk.lm import MLE\n",
    "from nltk.lm.preprocessing import padded_everygram_pipeline\n",
    "##imports\n",
    "import pandas as pd\n",
    "import plotly.express as px\n",
    "from plotly.subplots import make_subplots\n",
    "import os\n",
    "from tqdm.asyncio import tqdm as async_tqdm\n",
    "import nest_asyncio\n",
    "from openai import AsyncOpenAI\n",
    "from typing import Optional\n",
    "from tqdm.asyncio import tqdm as async_tqdm\n",
    "from spacy.lang.ja import Japanese\n",
    "from spacy.lang.ru import Russian\n",
    "from spacy.lang.fi import Finnish\n",
    "import nltk\n",
    "#download the knbc corpus\n",
    "nltk.download('knbc')\n",
    "nltk.download('stopwords')\n",
    "from nltk.corpus import knbc\n",
    "from nltk.corpus import stopwords\n",
    "from nltk.tokenize import word_tokenize\n",
    "\n",
    "# Download necessary NLTK data\n",
    "nltk.download('punkt')\n",
    "nltk.download('stopwords')\n",
    "\n",
    "current_dir = os.getcwd()\n",
    "if current_dir.endswith(\"code\"):\n",
    "    os.chdir(\"..\")\n",
    "else:\n",
    "    print(\"current dir\", current_dir)\n",
    "\n",
    "nest_asyncio.apply()"
   ]
  },
  {
   "cell_type": "code",
   "execution_count": 2,
   "metadata": {},
   "outputs": [],
   "source": [
    "ds_train = pd.read_parquet(\"dataset/train_df.parquet\")\n",
    "ds_val = pd.read_parquet(\"dataset/val_df.parquet\")"
   ]
  },
  {
   "cell_type": "code",
   "execution_count": 3,
   "metadata": {},
   "outputs": [
    {
     "name": "stderr",
     "output_type": "stream",
     "text": [
      "[nltk_data] Downloading package punkt to /Users/HansPeter/nltk_data...\n",
      "[nltk_data]   Package punkt is already up-to-date!\n"
     ]
    },
    {
     "ename": "NameError",
     "evalue": "name 'df' is not defined",
     "output_type": "error",
     "traceback": [
      "\u001b[0;31m---------------------------------------------------------------------------\u001b[0m",
      "\u001b[0;31mNameError\u001b[0m                                 Traceback (most recent call last)",
      "Cell \u001b[0;32mIn[3], line 9\u001b[0m\n\u001b[1;32m      4\u001b[0m \u001b[38;5;66;03m# Assuming you have your text data in a pandas DataFrame\u001b[39;00m\n\u001b[1;32m      5\u001b[0m \u001b[38;5;66;03m# For example: df = pd.read_csv('your_data.csv')\u001b[39;00m\n\u001b[1;32m      6\u001b[0m \n\u001b[1;32m      7\u001b[0m \u001b[38;5;66;03m# Tokenize your text and create n-grams\u001b[39;00m\n\u001b[1;32m      8\u001b[0m n \u001b[38;5;241m=\u001b[39m \u001b[38;5;241m2\u001b[39m  \u001b[38;5;66;03m# for bigrams, change as needed\u001b[39;00m\n\u001b[0;32m----> 9\u001b[0m text \u001b[38;5;241m=\u001b[39m \u001b[43mdf\u001b[49m[\u001b[38;5;124m'\u001b[39m\u001b[38;5;124mtext_column\u001b[39m\u001b[38;5;124m'\u001b[39m]\u001b[38;5;241m.\u001b[39mtolist()\n\u001b[1;32m     10\u001b[0m tokenized_text \u001b[38;5;241m=\u001b[39m [nltk\u001b[38;5;241m.\u001b[39mword_tokenize(sent) \u001b[38;5;28;01mfor\u001b[39;00m sent \u001b[38;5;129;01min\u001b[39;00m text]\n\u001b[1;32m     12\u001b[0m \u001b[38;5;66;03m# Prepare the data for training\u001b[39;00m\n",
      "\u001b[0;31mNameError\u001b[0m: name 'df' is not defined"
     ]
    }
   ],
   "source": [
    "\n",
    "# Download necessary NLTK data (if not already downloaded)\n",
    "nltk.download('punkt')\n",
    "\n",
    "# Assuming you have your text data in a pandas DataFrame\n",
    "# For example: df = pd.read_csv('your_data.csv')\n",
    "\n",
    "# Tokenize your text and create n-grams\n",
    "n = 2  # for bigrams, change as needed\n",
    "text = df['text_column'].tolist()\n",
    "tokenized_text = [nltk.word_tokenize(sent) for sent in text]\n",
    "\n",
    "# Prepare the data for training\n",
    "train_data, padded_sents = padded_everygram_pipeline(n, tokenized_text)\n",
    "\n",
    "# Create and train the model\n",
    "model = MLE(n)  # MLE = Maximum Likelihood Estimation\n",
    "model.fit(train_data, padded_sents)\n",
    "\n",
    "# Now you can use the model for various tasks, e.g., calculating probabilities\n"
   ]
  }
 ],
 "metadata": {
  "kernelspec": {
   "display_name": "ml",
   "language": "python",
   "name": "python3"
  },
  "language_info": {
   "codemirror_mode": {
    "name": "ipython",
    "version": 3
   },
   "file_extension": ".py",
   "mimetype": "text/x-python",
   "name": "python",
   "nbconvert_exporter": "python",
   "pygments_lexer": "ipython3",
   "version": "3.11.9"
  }
 },
 "nbformat": 4,
 "nbformat_minor": 2
}
